{
  "nbformat": 4,
  "nbformat_minor": 0,
  "metadata": {
    "colab": {
      "name": "Modul 5.ipynb",
      "provenance": [],
      "collapsed_sections": [],
      "authorship_tag": "ABX9TyNGjwJw0VeGLl+cgeDGsuDv",
      "include_colab_link": true
    },
    "kernelspec": {
      "name": "ir",
      "display_name": "R"
    },
    "language_info": {
      "name": "R"
    }
  },
  "cells": [
    {
      "cell_type": "markdown",
      "metadata": {
        "id": "view-in-github",
        "colab_type": "text"
      },
      "source": [
        "<a href=\"https://colab.research.google.com/github/iizmyy/Analisis-dan-Visualisasi-Data/blob/main/Modul_5.ipynb\" target=\"_parent\"><img src=\"https://colab.research.google.com/assets/colab-badge.svg\" alt=\"Open In Colab\"/></a>"
      ]
    },
    {
      "cell_type": "code",
      "execution_count": null,
      "metadata": {
        "colab": {
          "base_uri": "https://localhost:8080/",
          "height": 69
        },
        "id": "Wh64Ndf1a-15",
        "outputId": "6bb61474-0112-4397-b5e1-c52dde7dfe05"
      },
      "outputs": [
        {
          "output_type": "display_data",
          "data": {
            "text/html": [
              "TRUE"
            ],
            "text/markdown": "TRUE",
            "text/latex": "TRUE",
            "text/plain": [
              "[1] TRUE"
            ]
          },
          "metadata": {}
        },
        {
          "output_type": "display_data",
          "data": {
            "text/html": [
              "1"
            ],
            "text/markdown": "1",
            "text/latex": "1",
            "text/plain": [
              "[1] 1"
            ]
          },
          "metadata": {}
        },
        {
          "output_type": "display_data",
          "data": {
            "text/html": [
              "12"
            ],
            "text/markdown": "12",
            "text/latex": "12",
            "text/plain": [
              "[1] 12"
            ]
          },
          "metadata": {}
        }
      ],
      "source": [
        "# Apakah variabel berisi karakter\n",
        "x <- \"hello world!\"\n",
        "is.character(x)\n",
        "\n",
        "# Menentukan panjang string\n",
        "length(x)\n",
        "#Menentukan panjang karakter\n",
        "nchar(x)"
      ]
    },
    {
      "cell_type": "code",
      "source": [
        "v <- c(\"This vector is a character vector.\",\n",
        "\"It has three elements.\",\"Each element is a text string.\")\n",
        "length(cv)\n",
        "nchar(cv)"
      ],
      "metadata": {
        "colab": {
          "base_uri": "https://localhost:8080/",
          "height": 52
        },
        "id": "EdqR_RpJbZnU",
        "outputId": "b7231347-1618-4922-f241-19a8c371878b"
      },
      "execution_count": null,
      "outputs": [
        {
          "output_type": "display_data",
          "data": {
            "text/html": [
              "3"
            ],
            "text/markdown": "3",
            "text/latex": "3",
            "text/plain": [
              "[1] 3"
            ]
          },
          "metadata": {}
        },
        {
          "output_type": "display_data",
          "data": {
            "text/html": [
              "<style>\n",
              ".list-inline {list-style: none; margin:0; padding: 0}\n",
              ".list-inline>li {display: inline-block}\n",
              ".list-inline>li:not(:last-child)::after {content: \"\\00b7\"; padding: 0 .5ex}\n",
              "</style>\n",
              "<ol class=list-inline><li>34</li><li>22</li><li>30</li></ol>\n"
            ],
            "text/markdown": "1. 34\n2. 22\n3. 30\n\n\n",
            "text/latex": "\\begin{enumerate*}\n\\item 34\n\\item 22\n\\item 30\n\\end{enumerate*}\n",
            "text/plain": [
              "[1] 34 22 30"
            ]
          },
          "metadata": {}
        }
      ]
    },
    {
      "cell_type": "code",
      "source": [
        "# Menginstall paket yang dibutuhkan untuk tokenisasi\n",
        "install.packages(\"quanteda\")"
      ],
      "metadata": {
        "colab": {
          "base_uri": "https://localhost:8080/"
        },
        "id": "svZHTdcTb_3d",
        "outputId": "84c6c427-39b8-41cc-8c4b-ebfe5d204ab6"
      },
      "execution_count": null,
      "outputs": [
        {
          "output_type": "stream",
          "name": "stderr",
          "text": [
            "Installing package into ‘/usr/local/lib/R/site-library’\n",
            "(as ‘lib’ is unspecified)\n",
            "\n",
            "also installing the dependencies ‘ISOcodes’, ‘fastmatch’, ‘Rcpp’, ‘RcppParallel’, ‘SnowballC’, ‘stopwords’, ‘RcppArmadillo’\n",
            "\n",
            "\n"
          ]
        }
      ]
    },
    {
      "cell_type": "code",
      "source": [
        "# Tokenisasi\n",
        "library(quanteda)\n",
        "tokenvektor <- tokens(cv)\n",
        "tokenvektor"
      ],
      "metadata": {
        "colab": {
          "base_uri": "https://localhost:8080/",
          "height": 339
        },
        "id": "3IHq-WpRcT3Z",
        "outputId": "fde0573b-122d-440a-81eb-bc71e74f51e6"
      },
      "execution_count": null,
      "outputs": [
        {
          "output_type": "stream",
          "name": "stderr",
          "text": [
            "Package version: 3.2.1\n",
            "Unicode version: 10.0\n",
            "ICU version: 60.2\n",
            "\n",
            "Parallel computing: 2 of 2 threads used.\n",
            "\n",
            "See https://quanteda.io for tutorials and examples.\n",
            "\n"
          ]
        },
        {
          "output_type": "display_data",
          "data": {
            "text/plain": [
              "Tokens consisting of 3 documents.\n",
              "text1 :\n",
              "[1] \"This\"      \"vector\"    \"is\"        \"a\"         \"character\" \"vector\"   \n",
              "[7] \".\"        \n",
              "\n",
              "text2 :\n",
              "[1] \"It\"       \"has\"      \"three\"    \"elements\" \".\"       \n",
              "\n",
              "text3 :\n",
              "[1] \"Each\"    \"element\" \"is\"      \"a\"       \"text\"    \"string\"  \".\"      \n"
            ]
          },
          "metadata": {}
        }
      ]
    },
    {
      "cell_type": "code",
      "source": [
        "#Corpus\n",
        "corpusnyacv <- corpus(cv)\n",
        "corpusnyacv\n",
        "summary(corpusnyacv)"
      ],
      "metadata": {
        "colab": {
          "base_uri": "https://localhost:8080/",
          "height": 210
        },
        "id": "dOJKTq-IdahT",
        "outputId": "137a7b64-492d-40c3-c1a0-419a252eb414"
      },
      "execution_count": null,
      "outputs": [
        {
          "output_type": "display_data",
          "data": {
            "text/html": [
              "<style>\n",
              ".dl-inline {width: auto; margin:0; padding: 0}\n",
              ".dl-inline>dt, .dl-inline>dd {float: none; width: auto; display: inline-block}\n",
              ".dl-inline>dt::after {content: \":\\0020\"; padding-right: .5ex}\n",
              ".dl-inline>dt:not(:first-of-type) {padding-left: .5ex}\n",
              "</style><dl class=dl-inline><dt>text1</dt><dd>'This vector is a character vector.'</dd><dt>text2</dt><dd>'It has three elements.'</dd><dt>text3</dt><dd>'Each element is a text string.'</dd></dl>\n"
            ],
            "text/markdown": "text1\n:   'This vector is a character vector.'text2\n:   'It has three elements.'text3\n:   'Each element is a text string.'\n\n",
            "text/latex": "\\begin{description*}\n\\item[text1] 'This vector is a character vector.'\n\\item[text2] 'It has three elements.'\n\\item[text3] 'Each element is a text string.'\n\\end{description*}\n",
            "text/plain": [
              "Corpus consisting of 3 documents.\n",
              "text1 :\n",
              "\"This vector is a character vector.\"\n",
              "\n",
              "text2 :\n",
              "\"It has three elements.\"\n",
              "\n",
              "text3 :\n",
              "\"Each element is a text string.\"\n"
            ]
          },
          "metadata": {}
        },
        {
          "output_type": "display_data",
          "data": {
            "text/html": [
              "<table class=\"dataframe\">\n",
              "<caption>A summary.corpus: 3 × 4</caption>\n",
              "<thead>\n",
              "\t<tr><th></th><th scope=col>Text</th><th scope=col>Types</th><th scope=col>Tokens</th><th scope=col>Sentences</th></tr>\n",
              "\t<tr><th></th><th scope=col>&lt;chr&gt;</th><th scope=col>&lt;int&gt;</th><th scope=col>&lt;int&gt;</th><th scope=col>&lt;int&gt;</th></tr>\n",
              "</thead>\n",
              "<tbody>\n",
              "\t<tr><th scope=row>1</th><td>text1</td><td>6</td><td>7</td><td>1</td></tr>\n",
              "\t<tr><th scope=row>2</th><td>text2</td><td>5</td><td>5</td><td>1</td></tr>\n",
              "\t<tr><th scope=row>3</th><td>text3</td><td>7</td><td>7</td><td>1</td></tr>\n",
              "</tbody>\n",
              "</table>\n"
            ],
            "text/markdown": "\nA summary.corpus: 3 × 4\n\n| <!--/--> | Text &lt;chr&gt; | Types &lt;int&gt; | Tokens &lt;int&gt; | Sentences &lt;int&gt; |\n|---|---|---|---|---|\n| 1 | text1 | 6 | 7 | 1 |\n| 2 | text2 | 5 | 5 | 1 |\n| 3 | text3 | 7 | 7 | 1 |\n\n",
            "text/latex": "A summary.corpus: 3 × 4\n\\begin{tabular}{r|llll}\n  & Text & Types & Tokens & Sentences\\\\\n  & <chr> & <int> & <int> & <int>\\\\\n\\hline\n\t1 & text1 & 6 & 7 & 1\\\\\n\t2 & text2 & 5 & 5 & 1\\\\\n\t3 & text3 & 7 & 7 & 1\\\\\n\\end{tabular}\n",
            "text/plain": [
              "  Text  Types Tokens Sentences\n",
              "1 text1 6     7      1        \n",
              "2 text2 5     5      1        \n",
              "3 text3 7     7      1        "
            ]
          },
          "metadata": {}
        }
      ]
    },
    {
      "cell_type": "code",
      "source": [
        "# Melihat teks dalam corpus\n",
        "teksdalamcorpus <- as.character(corpusnyacv)\n",
        "head(teksdalamcorpus)"
      ],
      "metadata": {
        "colab": {
          "base_uri": "https://localhost:8080/"
        },
        "id": "X6JS5BTzdz2M",
        "outputId": "c99b477c-d8b2-446e-a12d-99d44f582d1e"
      },
      "execution_count": null,
      "outputs": [
        {
          "output_type": "display_data",
          "data": {
            "text/html": [
              "<style>\n",
              ".dl-inline {width: auto; margin:0; padding: 0}\n",
              ".dl-inline>dt, .dl-inline>dd {float: none; width: auto; display: inline-block}\n",
              ".dl-inline>dt::after {content: \":\\0020\"; padding-right: .5ex}\n",
              ".dl-inline>dt:not(:first-of-type) {padding-left: .5ex}\n",
              "</style><dl class=dl-inline><dt>text1</dt><dd>'This vector is a character vector.'</dd><dt>text2</dt><dd>'It has three elements.'</dd><dt>text3</dt><dd>'Each element is a text string.'</dd></dl>\n"
            ],
            "text/markdown": "text1\n:   'This vector is a character vector.'text2\n:   'It has three elements.'text3\n:   'Each element is a text string.'\n\n",
            "text/latex": "\\begin{description*}\n\\item[text1] 'This vector is a character vector.'\n\\item[text2] 'It has three elements.'\n\\item[text3] 'Each element is a text string.'\n\\end{description*}\n",
            "text/plain": [
              "                               text1                                text2 \n",
              "\"This vector is a character vector.\"             \"It has three elements.\" \n",
              "                               text3 \n",
              "    \"Each element is a text string.\" "
            ]
          },
          "metadata": {}
        }
      ]
    },
    {
      "cell_type": "code",
      "source": [
        "# Instalasi paket tm\n",
        "install.packages(\"tm\")\n",
        "library(tm)"
      ],
      "metadata": {
        "colab": {
          "base_uri": "https://localhost:8080/"
        },
        "id": "wL9CHZ8YeEfZ",
        "outputId": "475520cd-029b-4367-e198-49139176695e"
      },
      "execution_count": null,
      "outputs": [
        {
          "output_type": "stream",
          "name": "stderr",
          "text": [
            "Installing package into ‘/usr/local/lib/R/site-library’\n",
            "(as ‘lib’ is unspecified)\n",
            "\n",
            "also installing the dependencies ‘NLP’, ‘slam’, ‘BH’\n",
            "\n",
            "\n",
            "Loading required package: NLP\n",
            "\n",
            "\n",
            "Attaching package: ‘NLP’\n",
            "\n",
            "\n",
            "The following objects are masked from ‘package:quanteda’:\n",
            "\n",
            "    meta, meta<-\n",
            "\n",
            "\n",
            "\n",
            "Attaching package: ‘tm’\n",
            "\n",
            "\n",
            "The following object is masked from ‘package:quanteda’:\n",
            "\n",
            "    stopwords\n",
            "\n",
            "\n"
          ]
        }
      ]
    },
    {
      "cell_type": "code",
      "source": [
        "search()\n",
        "ls(2)"
      ],
      "metadata": {
        "colab": {
          "base_uri": "https://localhost:8080/",
          "height": 225
        },
        "id": "SgClEsNCenrK",
        "outputId": "0d7a1e90-ba8d-4372-b99a-6dfca0e17e9c"
      },
      "execution_count": null,
      "outputs": [
        {
          "output_type": "display_data",
          "data": {
            "text/html": [
              "<style>\n",
              ".list-inline {list-style: none; margin:0; padding: 0}\n",
              ".list-inline>li {display: inline-block}\n",
              ".list-inline>li:not(:last-child)::after {content: \"\\00b7\"; padding: 0 .5ex}\n",
              "</style>\n",
              "<ol class=list-inline><li>'.GlobalEnv'</li><li>'package:tm'</li><li>'package:NLP'</li><li>'package:quanteda'</li><li>'jupyter:irkernel'</li><li>'package:stats'</li><li>'package:graphics'</li><li>'package:grDevices'</li><li>'package:utils'</li><li>'package:datasets'</li><li>'package:methods'</li><li>'Autoloads'</li><li>'package:base'</li></ol>\n"
            ],
            "text/markdown": "1. '.GlobalEnv'\n2. 'package:tm'\n3. 'package:NLP'\n4. 'package:quanteda'\n5. 'jupyter:irkernel'\n6. 'package:stats'\n7. 'package:graphics'\n8. 'package:grDevices'\n9. 'package:utils'\n10. 'package:datasets'\n11. 'package:methods'\n12. 'Autoloads'\n13. 'package:base'\n\n\n",
            "text/latex": "\\begin{enumerate*}\n\\item '.GlobalEnv'\n\\item 'package:tm'\n\\item 'package:NLP'\n\\item 'package:quanteda'\n\\item 'jupyter:irkernel'\n\\item 'package:stats'\n\\item 'package:graphics'\n\\item 'package:grDevices'\n\\item 'package:utils'\n\\item 'package:datasets'\n\\item 'package:methods'\n\\item 'Autoloads'\n\\item 'package:base'\n\\end{enumerate*}\n",
            "text/plain": [
              " [1] \".GlobalEnv\"        \"package:tm\"        \"package:NLP\"      \n",
              " [4] \"package:quanteda\"  \"jupyter:irkernel\"  \"package:stats\"    \n",
              " [7] \"package:graphics\"  \"package:grDevices\" \"package:utils\"    \n",
              "[10] \"package:datasets\"  \"package:methods\"   \"Autoloads\"        \n",
              "[13] \"package:base\"     "
            ]
          },
          "metadata": {}
        },
        {
          "output_type": "display_data",
          "data": {
            "text/html": [
              "<style>\n",
              ".list-inline {list-style: none; margin:0; padding: 0}\n",
              ".list-inline>li {display: inline-block}\n",
              ".list-inline>li:not(:last-child)::after {content: \"\\00b7\"; padding: 0 .5ex}\n",
              "</style>\n",
              "<ol class=list-inline><li>'as.DocumentTermMatrix'</li><li>'as.TermDocumentMatrix'</li><li>'as.VCorpus'</li><li>'Boost_tokenizer'</li><li>'content_transformer'</li><li>'Corpus'</li><li>'DataframeSource'</li><li>'DirSource'</li><li>'Docs'</li><li>'DocumentTermMatrix'</li><li>'DublinCore'</li><li>'DublinCore&lt;-'</li><li>'eoi'</li><li>'findAssocs'</li><li>'findFreqTerms'</li><li>'findMostFreqTerms'</li><li>'FunctionGenerator'</li><li>'getElem'</li><li>'getMeta'</li><li>'getReaders'</li><li>'getSources'</li><li>'getTokenizers'</li><li>'getTransformations'</li><li>'Heaps_plot'</li><li>'inspect'</li><li>'MC_tokenizer'</li><li>'nDocs'</li><li>'nTerms'</li><li>'PCorpus'</li><li>'pGetElem'</li><li>'PlainTextDocument'</li><li>'read_dtm_Blei_et_al'</li><li>'read_dtm_MC'</li><li>'readDataframe'</li><li>'readDOC'</li><li>'reader'</li><li>'readPDF'</li><li>'readPlain'</li><li>'readRCV1'</li><li>'readRCV1asPlain'</li><li>'readReut21578XML'</li><li>'readReut21578XMLasPlain'</li><li>'readTagged'</li><li>'readXML'</li><li>'removeNumbers'</li><li>'removePunctuation'</li><li>'removeSparseTerms'</li><li>'removeWords'</li><li>'scan_tokenizer'</li><li>'SimpleCorpus'</li><li>'SimpleSource'</li><li>'stemCompletion'</li><li>'stemDocument'</li><li>'stepNext'</li><li>'stopwords'</li><li>'stripWhitespace'</li><li>'TermDocumentMatrix'</li><li>'termFreq'</li><li>'Terms'</li><li>'tm_filter'</li><li>'tm_index'</li><li>'tm_map'</li><li>'tm_parLapply'</li><li>'tm_parLapply_engine'</li><li>'tm_reduce'</li><li>'tm_term_score'</li><li>'URISource'</li><li>'VCorpus'</li><li>'VectorSource'</li><li>'weightBin'</li><li>'WeightFunction'</li><li>'weightSMART'</li><li>'weightTf'</li><li>'weightTfIdf'</li><li>'writeCorpus'</li><li>'XMLSource'</li><li>'XMLTextDocument'</li><li>'Zipf_plot'</li><li>'ZipSource'</li></ol>\n"
            ],
            "text/markdown": "1. 'as.DocumentTermMatrix'\n2. 'as.TermDocumentMatrix'\n3. 'as.VCorpus'\n4. 'Boost_tokenizer'\n5. 'content_transformer'\n6. 'Corpus'\n7. 'DataframeSource'\n8. 'DirSource'\n9. 'Docs'\n10. 'DocumentTermMatrix'\n11. 'DublinCore'\n12. 'DublinCore&lt;-'\n13. 'eoi'\n14. 'findAssocs'\n15. 'findFreqTerms'\n16. 'findMostFreqTerms'\n17. 'FunctionGenerator'\n18. 'getElem'\n19. 'getMeta'\n20. 'getReaders'\n21. 'getSources'\n22. 'getTokenizers'\n23. 'getTransformations'\n24. 'Heaps_plot'\n25. 'inspect'\n26. 'MC_tokenizer'\n27. 'nDocs'\n28. 'nTerms'\n29. 'PCorpus'\n30. 'pGetElem'\n31. 'PlainTextDocument'\n32. 'read_dtm_Blei_et_al'\n33. 'read_dtm_MC'\n34. 'readDataframe'\n35. 'readDOC'\n36. 'reader'\n37. 'readPDF'\n38. 'readPlain'\n39. 'readRCV1'\n40. 'readRCV1asPlain'\n41. 'readReut21578XML'\n42. 'readReut21578XMLasPlain'\n43. 'readTagged'\n44. 'readXML'\n45. 'removeNumbers'\n46. 'removePunctuation'\n47. 'removeSparseTerms'\n48. 'removeWords'\n49. 'scan_tokenizer'\n50. 'SimpleCorpus'\n51. 'SimpleSource'\n52. 'stemCompletion'\n53. 'stemDocument'\n54. 'stepNext'\n55. 'stopwords'\n56. 'stripWhitespace'\n57. 'TermDocumentMatrix'\n58. 'termFreq'\n59. 'Terms'\n60. 'tm_filter'\n61. 'tm_index'\n62. 'tm_map'\n63. 'tm_parLapply'\n64. 'tm_parLapply_engine'\n65. 'tm_reduce'\n66. 'tm_term_score'\n67. 'URISource'\n68. 'VCorpus'\n69. 'VectorSource'\n70. 'weightBin'\n71. 'WeightFunction'\n72. 'weightSMART'\n73. 'weightTf'\n74. 'weightTfIdf'\n75. 'writeCorpus'\n76. 'XMLSource'\n77. 'XMLTextDocument'\n78. 'Zipf_plot'\n79. 'ZipSource'\n\n\n",
            "text/latex": "\\begin{enumerate*}\n\\item 'as.DocumentTermMatrix'\n\\item 'as.TermDocumentMatrix'\n\\item 'as.VCorpus'\n\\item 'Boost\\_tokenizer'\n\\item 'content\\_transformer'\n\\item 'Corpus'\n\\item 'DataframeSource'\n\\item 'DirSource'\n\\item 'Docs'\n\\item 'DocumentTermMatrix'\n\\item 'DublinCore'\n\\item 'DublinCore<-'\n\\item 'eoi'\n\\item 'findAssocs'\n\\item 'findFreqTerms'\n\\item 'findMostFreqTerms'\n\\item 'FunctionGenerator'\n\\item 'getElem'\n\\item 'getMeta'\n\\item 'getReaders'\n\\item 'getSources'\n\\item 'getTokenizers'\n\\item 'getTransformations'\n\\item 'Heaps\\_plot'\n\\item 'inspect'\n\\item 'MC\\_tokenizer'\n\\item 'nDocs'\n\\item 'nTerms'\n\\item 'PCorpus'\n\\item 'pGetElem'\n\\item 'PlainTextDocument'\n\\item 'read\\_dtm\\_Blei\\_et\\_al'\n\\item 'read\\_dtm\\_MC'\n\\item 'readDataframe'\n\\item 'readDOC'\n\\item 'reader'\n\\item 'readPDF'\n\\item 'readPlain'\n\\item 'readRCV1'\n\\item 'readRCV1asPlain'\n\\item 'readReut21578XML'\n\\item 'readReut21578XMLasPlain'\n\\item 'readTagged'\n\\item 'readXML'\n\\item 'removeNumbers'\n\\item 'removePunctuation'\n\\item 'removeSparseTerms'\n\\item 'removeWords'\n\\item 'scan\\_tokenizer'\n\\item 'SimpleCorpus'\n\\item 'SimpleSource'\n\\item 'stemCompletion'\n\\item 'stemDocument'\n\\item 'stepNext'\n\\item 'stopwords'\n\\item 'stripWhitespace'\n\\item 'TermDocumentMatrix'\n\\item 'termFreq'\n\\item 'Terms'\n\\item 'tm\\_filter'\n\\item 'tm\\_index'\n\\item 'tm\\_map'\n\\item 'tm\\_parLapply'\n\\item 'tm\\_parLapply\\_engine'\n\\item 'tm\\_reduce'\n\\item 'tm\\_term\\_score'\n\\item 'URISource'\n\\item 'VCorpus'\n\\item 'VectorSource'\n\\item 'weightBin'\n\\item 'WeightFunction'\n\\item 'weightSMART'\n\\item 'weightTf'\n\\item 'weightTfIdf'\n\\item 'writeCorpus'\n\\item 'XMLSource'\n\\item 'XMLTextDocument'\n\\item 'Zipf\\_plot'\n\\item 'ZipSource'\n\\end{enumerate*}\n",
            "text/plain": [
              " [1] \"as.DocumentTermMatrix\"   \"as.TermDocumentMatrix\"  \n",
              " [3] \"as.VCorpus\"              \"Boost_tokenizer\"        \n",
              " [5] \"content_transformer\"     \"Corpus\"                 \n",
              " [7] \"DataframeSource\"         \"DirSource\"              \n",
              " [9] \"Docs\"                    \"DocumentTermMatrix\"     \n",
              "[11] \"DublinCore\"              \"DublinCore<-\"           \n",
              "[13] \"eoi\"                     \"findAssocs\"             \n",
              "[15] \"findFreqTerms\"           \"findMostFreqTerms\"      \n",
              "[17] \"FunctionGenerator\"       \"getElem\"                \n",
              "[19] \"getMeta\"                 \"getReaders\"             \n",
              "[21] \"getSources\"              \"getTokenizers\"          \n",
              "[23] \"getTransformations\"      \"Heaps_plot\"             \n",
              "[25] \"inspect\"                 \"MC_tokenizer\"           \n",
              "[27] \"nDocs\"                   \"nTerms\"                 \n",
              "[29] \"PCorpus\"                 \"pGetElem\"               \n",
              "[31] \"PlainTextDocument\"       \"read_dtm_Blei_et_al\"    \n",
              "[33] \"read_dtm_MC\"             \"readDataframe\"          \n",
              "[35] \"readDOC\"                 \"reader\"                 \n",
              "[37] \"readPDF\"                 \"readPlain\"              \n",
              "[39] \"readRCV1\"                \"readRCV1asPlain\"        \n",
              "[41] \"readReut21578XML\"        \"readReut21578XMLasPlain\"\n",
              "[43] \"readTagged\"              \"readXML\"                \n",
              "[45] \"removeNumbers\"           \"removePunctuation\"      \n",
              "[47] \"removeSparseTerms\"       \"removeWords\"            \n",
              "[49] \"scan_tokenizer\"          \"SimpleCorpus\"           \n",
              "[51] \"SimpleSource\"            \"stemCompletion\"         \n",
              "[53] \"stemDocument\"            \"stepNext\"               \n",
              "[55] \"stopwords\"               \"stripWhitespace\"        \n",
              "[57] \"TermDocumentMatrix\"      \"termFreq\"               \n",
              "[59] \"Terms\"                   \"tm_filter\"              \n",
              "[61] \"tm_index\"                \"tm_map\"                 \n",
              "[63] \"tm_parLapply\"            \"tm_parLapply_engine\"    \n",
              "[65] \"tm_reduce\"               \"tm_term_score\"          \n",
              "[67] \"URISource\"               \"VCorpus\"                \n",
              "[69] \"VectorSource\"            \"weightBin\"              \n",
              "[71] \"WeightFunction\"          \"weightSMART\"            \n",
              "[73] \"weightTf\"                \"weightTfIdf\"            \n",
              "[75] \"writeCorpus\"             \"XMLSource\"              \n",
              "[77] \"XMLTextDocument\"         \"Zipf_plot\"              \n",
              "[79] \"ZipSource\"              "
            ]
          },
          "metadata": {}
        }
      ]
    },
    {
      "cell_type": "code",
      "source": [
        "# Fungsi-fungsi preprocessing/transformasi\n",
        "getTransformations()"
      ],
      "metadata": {
        "colab": {
          "base_uri": "https://localhost:8080/",
          "height": 34
        },
        "id": "71NEwoSKe5zu",
        "outputId": "8b397808-1be2-4bb7-aea9-d2084696bab0"
      },
      "execution_count": null,
      "outputs": [
        {
          "output_type": "display_data",
          "data": {
            "text/html": [
              "<style>\n",
              ".list-inline {list-style: none; margin:0; padding: 0}\n",
              ".list-inline>li {display: inline-block}\n",
              ".list-inline>li:not(:last-child)::after {content: \"\\00b7\"; padding: 0 .5ex}\n",
              "</style>\n",
              "<ol class=list-inline><li>'removeNumbers'</li><li>'removePunctuation'</li><li>'removeWords'</li><li>'stemDocument'</li><li>'stripWhitespace'</li></ol>\n"
            ],
            "text/markdown": "1. 'removeNumbers'\n2. 'removePunctuation'\n3. 'removeWords'\n4. 'stemDocument'\n5. 'stripWhitespace'\n\n\n",
            "text/latex": "\\begin{enumerate*}\n\\item 'removeNumbers'\n\\item 'removePunctuation'\n\\item 'removeWords'\n\\item 'stemDocument'\n\\item 'stripWhitespace'\n\\end{enumerate*}\n",
            "text/plain": [
              "[1] \"removeNumbers\"     \"removePunctuation\" \"removeWords\"      \n",
              "[4] \"stemDocument\"      \"stripWhitespace\"  "
            ]
          },
          "metadata": {}
        }
      ]
    },
    {
      "cell_type": "code",
      "source": [
        "# konversi ke huruf kecil\n",
        "corpuspadatm <- Corpus(VectorSource(cv))\n",
        "corpuspadatmkecil <- tm_map(corpuspadatm, tolower)\n",
        "corpuspadatm$content\n",
        "corpuspadatmkecil$content"
      ],
      "metadata": {
        "colab": {
          "base_uri": "https://localhost:8080/",
          "height": 87
        },
        "id": "kLL3mikffD8w",
        "outputId": "817b92da-9c27-4341-c2d3-ef29e42fe4ee"
      },
      "execution_count": null,
      "outputs": [
        {
          "output_type": "stream",
          "name": "stderr",
          "text": [
            "Warning message in tm_map.SimpleCorpus(corpuspadatm, tolower):\n",
            "“transformation drops documents”\n"
          ]
        },
        {
          "output_type": "display_data",
          "data": {
            "text/html": [
              "<style>\n",
              ".list-inline {list-style: none; margin:0; padding: 0}\n",
              ".list-inline>li {display: inline-block}\n",
              ".list-inline>li:not(:last-child)::after {content: \"\\00b7\"; padding: 0 .5ex}\n",
              "</style>\n",
              "<ol class=list-inline><li>'This vector is a character vector.'</li><li>'It has three elements.'</li><li>'Each element is a text string.'</li></ol>\n"
            ],
            "text/markdown": "1. 'This vector is a character vector.'\n2. 'It has three elements.'\n3. 'Each element is a text string.'\n\n\n",
            "text/latex": "\\begin{enumerate*}\n\\item 'This vector is a character vector.'\n\\item 'It has three elements.'\n\\item 'Each element is a text string.'\n\\end{enumerate*}\n",
            "text/plain": [
              "[1] \"This vector is a character vector.\" \"It has three elements.\"            \n",
              "[3] \"Each element is a text string.\"    "
            ]
          },
          "metadata": {}
        },
        {
          "output_type": "display_data",
          "data": {
            "text/html": [
              "<style>\n",
              ".list-inline {list-style: none; margin:0; padding: 0}\n",
              ".list-inline>li {display: inline-block}\n",
              ".list-inline>li:not(:last-child)::after {content: \"\\00b7\"; padding: 0 .5ex}\n",
              "</style>\n",
              "<ol class=list-inline><li>'this vector is a character vector.'</li><li>'it has three elements.'</li><li>'each element is a text string.'</li></ol>\n"
            ],
            "text/markdown": "1. 'this vector is a character vector.'\n2. 'it has three elements.'\n3. 'each element is a text string.'\n\n\n",
            "text/latex": "\\begin{enumerate*}\n\\item 'this vector is a character vector.'\n\\item 'it has three elements.'\n\\item 'each element is a text string.'\n\\end{enumerate*}\n",
            "text/plain": [
              "[1] \"this vector is a character vector.\" \"it has three elements.\"            \n",
              "[3] \"each element is a text string.\"    "
            ]
          },
          "metadata": {}
        }
      ]
    },
    {
      "cell_type": "code",
      "source": [
        "# Menghilangkan stopwords\n",
        "corpustelahstopwords <- tm_map(corpuspadatmkecil, removeWords, stopwords(\"english\"))\n",
        "corpuspadatm$content\n",
        "corpustelahstopwords$content"
      ],
      "metadata": {
        "colab": {
          "base_uri": "https://localhost:8080/",
          "height": 87
        },
        "id": "efeX57opfiAf",
        "outputId": "19edea18-8298-4689-f58f-a6c99ded53e8"
      },
      "execution_count": null,
      "outputs": [
        {
          "output_type": "stream",
          "name": "stderr",
          "text": [
            "Warning message in tm_map.SimpleCorpus(corpuspadatmkecil, removeWords, stopwords(\"english\")):\n",
            "“transformation drops documents”\n"
          ]
        },
        {
          "output_type": "display_data",
          "data": {
            "text/html": [
              "<style>\n",
              ".list-inline {list-style: none; margin:0; padding: 0}\n",
              ".list-inline>li {display: inline-block}\n",
              ".list-inline>li:not(:last-child)::after {content: \"\\00b7\"; padding: 0 .5ex}\n",
              "</style>\n",
              "<ol class=list-inline><li>'This vector is a character vector.'</li><li>'It has three elements.'</li><li>'Each element is a text string.'</li></ol>\n"
            ],
            "text/markdown": "1. 'This vector is a character vector.'\n2. 'It has three elements.'\n3. 'Each element is a text string.'\n\n\n",
            "text/latex": "\\begin{enumerate*}\n\\item 'This vector is a character vector.'\n\\item 'It has three elements.'\n\\item 'Each element is a text string.'\n\\end{enumerate*}\n",
            "text/plain": [
              "[1] \"This vector is a character vector.\" \"It has three elements.\"            \n",
              "[3] \"Each element is a text string.\"    "
            ]
          },
          "metadata": {}
        },
        {
          "output_type": "display_data",
          "data": {
            "text/html": [
              "<style>\n",
              ".list-inline {list-style: none; margin:0; padding: 0}\n",
              ".list-inline>li {display: inline-block}\n",
              ".list-inline>li:not(:last-child)::after {content: \"\\00b7\"; padding: 0 .5ex}\n",
              "</style>\n",
              "<ol class=list-inline><li><span style=white-space:pre-wrap>' vector   character vector.'</span></li><li><span style=white-space:pre-wrap>'  three elements.'</span></li><li><span style=white-space:pre-wrap>' element   text string.'</span></li></ol>\n"
            ],
            "text/markdown": "1. <span style=white-space:pre-wrap>' vector   character vector.'</span>\n2. <span style=white-space:pre-wrap>'  three elements.'</span>\n3. <span style=white-space:pre-wrap>' element   text string.'</span>\n\n\n",
            "text/latex": "\\begin{enumerate*}\n\\item ' vector   character vector.'\n\\item '  three elements.'\n\\item ' element   text string.'\n\\end{enumerate*}\n",
            "text/plain": [
              "[1] \" vector   character vector.\" \"  three elements.\"          \n",
              "[3] \" element   text string.\"    "
            ]
          },
          "metadata": {}
        }
      ]
    },
    {
      "cell_type": "code",
      "source": [
        "# Menghilangkan spasi\n",
        "corpushilangspasi <- tm_map(corpustelahstopwords, stripWhitespace)\n",
        "corpustelahstopwords$content\n",
        "corpushilangspasi$content"
      ],
      "metadata": {
        "colab": {
          "base_uri": "https://localhost:8080/",
          "height": 87
        },
        "id": "eez-zfnxgB_K",
        "outputId": "b745f725-aa75-4628-8212-0debda0c5b83"
      },
      "execution_count": null,
      "outputs": [
        {
          "output_type": "stream",
          "name": "stderr",
          "text": [
            "Warning message in tm_map.SimpleCorpus(corpustelahstopwords, stripWhitespace):\n",
            "“transformation drops documents”\n"
          ]
        },
        {
          "output_type": "display_data",
          "data": {
            "text/html": [
              "<style>\n",
              ".list-inline {list-style: none; margin:0; padding: 0}\n",
              ".list-inline>li {display: inline-block}\n",
              ".list-inline>li:not(:last-child)::after {content: \"\\00b7\"; padding: 0 .5ex}\n",
              "</style>\n",
              "<ol class=list-inline><li><span style=white-space:pre-wrap>' vector   character vector.'</span></li><li><span style=white-space:pre-wrap>'  three elements.'</span></li><li><span style=white-space:pre-wrap>' element   text string.'</span></li></ol>\n"
            ],
            "text/markdown": "1. <span style=white-space:pre-wrap>' vector   character vector.'</span>\n2. <span style=white-space:pre-wrap>'  three elements.'</span>\n3. <span style=white-space:pre-wrap>' element   text string.'</span>\n\n\n",
            "text/latex": "\\begin{enumerate*}\n\\item ' vector   character vector.'\n\\item '  three elements.'\n\\item ' element   text string.'\n\\end{enumerate*}\n",
            "text/plain": [
              "[1] \" vector   character vector.\" \"  three elements.\"          \n",
              "[3] \" element   text string.\"    "
            ]
          },
          "metadata": {}
        },
        {
          "output_type": "display_data",
          "data": {
            "text/html": [
              "<style>\n",
              ".list-inline {list-style: none; margin:0; padding: 0}\n",
              ".list-inline>li {display: inline-block}\n",
              ".list-inline>li:not(:last-child)::after {content: \"\\00b7\"; padding: 0 .5ex}\n",
              "</style>\n",
              "<ol class=list-inline><li>' vector character vector.'</li><li>' three elements.'</li><li>' element text string.'</li></ol>\n"
            ],
            "text/markdown": "1. ' vector character vector.'\n2. ' three elements.'\n3. ' element text string.'\n\n\n",
            "text/latex": "\\begin{enumerate*}\n\\item ' vector character vector.'\n\\item ' three elements.'\n\\item ' element text string.'\n\\end{enumerate*}\n",
            "text/plain": [
              "[1] \" vector character vector.\" \" three elements.\"         \n",
              "[3] \" element text string.\"    "
            ]
          },
          "metadata": {}
        }
      ]
    },
    {
      "cell_type": "code",
      "source": [
        "# Menghilangkan tanda baca\n",
        "corpushilangtandabaca <- tm_map(corpushilangspasi,removePunctuation)\n",
        "corpushilangspasi$content\n",
        "corpushilangtandabaca$content"
      ],
      "metadata": {
        "colab": {
          "base_uri": "https://localhost:8080/",
          "height": 87
        },
        "id": "jn7alPlxgTR-",
        "outputId": "3605f148-a0ec-4ffb-f978-fc8be0fb051d"
      },
      "execution_count": null,
      "outputs": [
        {
          "output_type": "stream",
          "name": "stderr",
          "text": [
            "Warning message in tm_map.SimpleCorpus(corpushilangspasi, removePunctuation):\n",
            "“transformation drops documents”\n"
          ]
        },
        {
          "output_type": "display_data",
          "data": {
            "text/html": [
              "<style>\n",
              ".list-inline {list-style: none; margin:0; padding: 0}\n",
              ".list-inline>li {display: inline-block}\n",
              ".list-inline>li:not(:last-child)::after {content: \"\\00b7\"; padding: 0 .5ex}\n",
              "</style>\n",
              "<ol class=list-inline><li>' vector character vector.'</li><li>' three elements.'</li><li>' element text string.'</li></ol>\n"
            ],
            "text/markdown": "1. ' vector character vector.'\n2. ' three elements.'\n3. ' element text string.'\n\n\n",
            "text/latex": "\\begin{enumerate*}\n\\item ' vector character vector.'\n\\item ' three elements.'\n\\item ' element text string.'\n\\end{enumerate*}\n",
            "text/plain": [
              "[1] \" vector character vector.\" \" three elements.\"         \n",
              "[3] \" element text string.\"    "
            ]
          },
          "metadata": {}
        },
        {
          "output_type": "display_data",
          "data": {
            "text/html": [
              "<style>\n",
              ".list-inline {list-style: none; margin:0; padding: 0}\n",
              ".list-inline>li {display: inline-block}\n",
              ".list-inline>li:not(:last-child)::after {content: \"\\00b7\"; padding: 0 .5ex}\n",
              "</style>\n",
              "<ol class=list-inline><li>' vector character vector'</li><li>' three elements'</li><li>' element text string'</li></ol>\n"
            ],
            "text/markdown": "1. ' vector character vector'\n2. ' three elements'\n3. ' element text string'\n\n\n",
            "text/latex": "\\begin{enumerate*}\n\\item ' vector character vector'\n\\item ' three elements'\n\\item ' element text string'\n\\end{enumerate*}\n",
            "text/plain": [
              "[1] \" vector character vector\" \" three elements\"         \n",
              "[3] \" element text string\"    "
            ]
          },
          "metadata": {}
        }
      ]
    },
    {
      "cell_type": "code",
      "source": [
        "# Sebelum dan Setelah Transformasi\n"
      ],
      "metadata": {
        "id": "dy4sRe2T6Tn_"
      },
      "execution_count": null,
      "outputs": []
    },
    {
      "cell_type": "markdown",
      "source": [
        "### Implementasi Pada Dokumen"
      ],
      "metadata": {
        "id": "RxcRI_jdgpYA"
      }
    },
    {
      "cell_type": "code",
      "source": [
        "alamat <- 'http://archive.ics.uci.edu/ml/machine-learning-databases/auto-mpg/auto-mpg.names'\n",
        "metadatahasil <- readLines(alamat)\n",
        "metadatahasil"
      ],
      "metadata": {
        "colab": {
          "base_uri": "https://localhost:8080/",
          "height": 278
        },
        "id": "OG3Ne2oYgjQJ",
        "outputId": "5fc9031d-9ee7-4453-c6d3-76c8536b191c"
      },
      "execution_count": null,
      "outputs": [
        {
          "output_type": "display_data",
          "data": {
            "text/html": [
              "<style>\n",
              ".list-inline {list-style: none; margin:0; padding: 0}\n",
              ".list-inline>li {display: inline-block}\n",
              ".list-inline>li:not(:last-child)::after {content: \"\\00b7\"; padding: 0 .5ex}\n",
              "</style>\n",
              "<ol class=list-inline><li>'1. Title: Auto-Mpg Data'</li><li>''</li><li>'2. Sources:'</li><li><span style=white-space:pre-wrap>'   (a) Origin:  This dataset was taken from the StatLib library which is'</span></li><li><span style=white-space:pre-wrap>'                maintained at Carnegie Mellon University. The dataset was '</span></li><li><span style=white-space:pre-wrap>'                used in the 1983 American Statistical Association Exposition.'</span></li><li><span style=white-space:pre-wrap>'   (c) Date: July 7, 1993'</span></li><li>''</li><li>'3. Past Usage:'</li><li><span style=white-space:pre-wrap>'    -  See 2b (above)'</span></li><li><span style=white-space:pre-wrap>'    -  Quinlan,R. (1993). Combining Instance-Based and Model-Based Learning.'</span></li><li><span style=white-space:pre-wrap>'       In Proceedings on the Tenth International Conference of Machine '</span></li><li><span style=white-space:pre-wrap>'       Learning, 236-243, University of Massachusetts, Amherst. Morgan'</span></li><li><span style=white-space:pre-wrap>'       Kaufmann.'</span></li><li>''</li><li>'4. Relevant Information:'</li><li>''</li><li><span style=white-space:pre-wrap>'   This dataset is a slightly modified version of the dataset provided in'</span></li><li><span style=white-space:pre-wrap>'   the StatLib library.  In line with the use by Ross Quinlan (1993) in'</span></li><li><span style=white-space:pre-wrap>'   predicting the attribute \"mpg\", 8 of the original instances were removed '</span></li><li><span style=white-space:pre-wrap>'   because they had unknown values for the \"mpg\" attribute.  The original '</span></li><li><span style=white-space:pre-wrap>'   dataset is available in the file \"auto-mpg.data-original\".'</span></li><li>''</li><li><span style=white-space:pre-wrap>'   \"The data concerns city-cycle fuel consumption in miles per gallon,'</span></li><li><span style=white-space:pre-wrap>'    to be predicted in terms of 3 multivalued discrete and 5 continuous'</span></li><li><span style=white-space:pre-wrap>'    attributes.\" (Quinlan, 1993)'</span></li><li>''</li><li>'5. Number of Instances: 398'</li><li>''</li><li>'6. Number of Attributes: 9 including the class attribute'</li><li>''</li><li>'7. Attribute Information:'</li><li>''</li><li><span style=white-space:pre-wrap>'    1. mpg:           continuous'</span></li><li><span style=white-space:pre-wrap>'    2. cylinders:     multi-valued discrete'</span></li><li><span style=white-space:pre-wrap>'    3. displacement:  continuous'</span></li><li><span style=white-space:pre-wrap>'    4. horsepower:    continuous'</span></li><li><span style=white-space:pre-wrap>'    5. weight:        continuous'</span></li><li><span style=white-space:pre-wrap>'    6. acceleration:  continuous'</span></li><li><span style=white-space:pre-wrap>'    7. model year:    multi-valued discrete'</span></li><li><span style=white-space:pre-wrap>'    8. origin:        multi-valued discrete'</span></li><li><span style=white-space:pre-wrap>'    9. car name:      string (unique for each instance)'</span></li><li>''</li><li><span style=white-space:pre-wrap>'8. Missing Attribute Values:  horsepower has 6 missing values'</span></li><li>''</li></ol>\n"
            ],
            "text/markdown": "1. '1. Title: Auto-Mpg Data'\n2. ''\n3. '2. Sources:'\n4. <span style=white-space:pre-wrap>'   (a) Origin:  This dataset was taken from the StatLib library which is'</span>\n5. <span style=white-space:pre-wrap>'                maintained at Carnegie Mellon University. The dataset was '</span>\n6. <span style=white-space:pre-wrap>'                used in the 1983 American Statistical Association Exposition.'</span>\n7. <span style=white-space:pre-wrap>'   (c) Date: July 7, 1993'</span>\n8. ''\n9. '3. Past Usage:'\n10. <span style=white-space:pre-wrap>'    -  See 2b (above)'</span>\n11. <span style=white-space:pre-wrap>'    -  Quinlan,R. (1993). Combining Instance-Based and Model-Based Learning.'</span>\n12. <span style=white-space:pre-wrap>'       In Proceedings on the Tenth International Conference of Machine '</span>\n13. <span style=white-space:pre-wrap>'       Learning, 236-243, University of Massachusetts, Amherst. Morgan'</span>\n14. <span style=white-space:pre-wrap>'       Kaufmann.'</span>\n15. ''\n16. '4. Relevant Information:'\n17. ''\n18. <span style=white-space:pre-wrap>'   This dataset is a slightly modified version of the dataset provided in'</span>\n19. <span style=white-space:pre-wrap>'   the StatLib library.  In line with the use by Ross Quinlan (1993) in'</span>\n20. <span style=white-space:pre-wrap>'   predicting the attribute \"mpg\", 8 of the original instances were removed '</span>\n21. <span style=white-space:pre-wrap>'   because they had unknown values for the \"mpg\" attribute.  The original '</span>\n22. <span style=white-space:pre-wrap>'   dataset is available in the file \"auto-mpg.data-original\".'</span>\n23. ''\n24. <span style=white-space:pre-wrap>'   \"The data concerns city-cycle fuel consumption in miles per gallon,'</span>\n25. <span style=white-space:pre-wrap>'    to be predicted in terms of 3 multivalued discrete and 5 continuous'</span>\n26. <span style=white-space:pre-wrap>'    attributes.\" (Quinlan, 1993)'</span>\n27. ''\n28. '5. Number of Instances: 398'\n29. ''\n30. '6. Number of Attributes: 9 including the class attribute'\n31. ''\n32. '7. Attribute Information:'\n33. ''\n34. <span style=white-space:pre-wrap>'    1. mpg:           continuous'</span>\n35. <span style=white-space:pre-wrap>'    2. cylinders:     multi-valued discrete'</span>\n36. <span style=white-space:pre-wrap>'    3. displacement:  continuous'</span>\n37. <span style=white-space:pre-wrap>'    4. horsepower:    continuous'</span>\n38. <span style=white-space:pre-wrap>'    5. weight:        continuous'</span>\n39. <span style=white-space:pre-wrap>'    6. acceleration:  continuous'</span>\n40. <span style=white-space:pre-wrap>'    7. model year:    multi-valued discrete'</span>\n41. <span style=white-space:pre-wrap>'    8. origin:        multi-valued discrete'</span>\n42. <span style=white-space:pre-wrap>'    9. car name:      string (unique for each instance)'</span>\n43. ''\n44. <span style=white-space:pre-wrap>'8. Missing Attribute Values:  horsepower has 6 missing values'</span>\n45. ''\n\n\n",
            "text/latex": "\\begin{enumerate*}\n\\item '1. Title: Auto-Mpg Data'\n\\item ''\n\\item '2. Sources:'\n\\item '   (a) Origin:  This dataset was taken from the StatLib library which is'\n\\item '                maintained at Carnegie Mellon University. The dataset was '\n\\item '                used in the 1983 American Statistical Association Exposition.'\n\\item '   (c) Date: July 7, 1993'\n\\item ''\n\\item '3. Past Usage:'\n\\item '    -  See 2b (above)'\n\\item '    -  Quinlan,R. (1993). Combining Instance-Based and Model-Based Learning.'\n\\item '       In Proceedings on the Tenth International Conference of Machine '\n\\item '       Learning, 236-243, University of Massachusetts, Amherst. Morgan'\n\\item '       Kaufmann.'\n\\item ''\n\\item '4. Relevant Information:'\n\\item ''\n\\item '   This dataset is a slightly modified version of the dataset provided in'\n\\item '   the StatLib library.  In line with the use by Ross Quinlan (1993) in'\n\\item '   predicting the attribute \"mpg\", 8 of the original instances were removed '\n\\item '   because they had unknown values for the \"mpg\" attribute.  The original '\n\\item '   dataset is available in the file \"auto-mpg.data-original\".'\n\\item ''\n\\item '   \"The data concerns city-cycle fuel consumption in miles per gallon,'\n\\item '    to be predicted in terms of 3 multivalued discrete and 5 continuous'\n\\item '    attributes.\" (Quinlan, 1993)'\n\\item ''\n\\item '5. Number of Instances: 398'\n\\item ''\n\\item '6. Number of Attributes: 9 including the class attribute'\n\\item ''\n\\item '7. Attribute Information:'\n\\item ''\n\\item '    1. mpg:           continuous'\n\\item '    2. cylinders:     multi-valued discrete'\n\\item '    3. displacement:  continuous'\n\\item '    4. horsepower:    continuous'\n\\item '    5. weight:        continuous'\n\\item '    6. acceleration:  continuous'\n\\item '    7. model year:    multi-valued discrete'\n\\item '    8. origin:        multi-valued discrete'\n\\item '    9. car name:      string (unique for each instance)'\n\\item ''\n\\item '8. Missing Attribute Values:  horsepower has 6 missing values'\n\\item ''\n\\end{enumerate*}\n",
            "text/plain": [
              " [1] \"1. Title: Auto-Mpg Data\"                                                       \n",
              " [2] \"\"                                                                              \n",
              " [3] \"2. Sources:\"                                                                   \n",
              " [4] \"   (a) Origin:  This dataset was taken from the StatLib library which is\"      \n",
              " [5] \"                maintained at Carnegie Mellon University. The dataset was \"    \n",
              " [6] \"                used in the 1983 American Statistical Association Exposition.\" \n",
              " [7] \"   (c) Date: July 7, 1993\"                                                     \n",
              " [8] \"\"                                                                              \n",
              " [9] \"3. Past Usage:\"                                                                \n",
              "[10] \"    -  See 2b (above)\"                                                         \n",
              "[11] \"    -  Quinlan,R. (1993). Combining Instance-Based and Model-Based Learning.\"  \n",
              "[12] \"       In Proceedings on the Tenth International Conference of Machine \"       \n",
              "[13] \"       Learning, 236-243, University of Massachusetts, Amherst. Morgan\"        \n",
              "[14] \"       Kaufmann.\"                                                              \n",
              "[15] \"\"                                                                              \n",
              "[16] \"4. Relevant Information:\"                                                      \n",
              "[17] \"\"                                                                              \n",
              "[18] \"   This dataset is a slightly modified version of the dataset provided in\"     \n",
              "[19] \"   the StatLib library.  In line with the use by Ross Quinlan (1993) in\"       \n",
              "[20] \"   predicting the attribute \\\"mpg\\\", 8 of the original instances were removed \"\n",
              "[21] \"   because they had unknown values for the \\\"mpg\\\" attribute.  The original \"  \n",
              "[22] \"   dataset is available in the file \\\"auto-mpg.data-original\\\".\"               \n",
              "[23] \"\"                                                                              \n",
              "[24] \"   \\\"The data concerns city-cycle fuel consumption in miles per gallon,\"       \n",
              "[25] \"    to be predicted in terms of 3 multivalued discrete and 5 continuous\"       \n",
              "[26] \"    attributes.\\\" (Quinlan, 1993)\"                                             \n",
              "[27] \"\"                                                                              \n",
              "[28] \"5. Number of Instances: 398\"                                                   \n",
              "[29] \"\"                                                                              \n",
              "[30] \"6. Number of Attributes: 9 including the class attribute\"                      \n",
              "[31] \"\"                                                                              \n",
              "[32] \"7. Attribute Information:\"                                                     \n",
              "[33] \"\"                                                                              \n",
              "[34] \"    1. mpg:           continuous\"                                              \n",
              "[35] \"    2. cylinders:     multi-valued discrete\"                                   \n",
              "[36] \"    3. displacement:  continuous\"                                              \n",
              "[37] \"    4. horsepower:    continuous\"                                              \n",
              "[38] \"    5. weight:        continuous\"                                              \n",
              "[39] \"    6. acceleration:  continuous\"                                              \n",
              "[40] \"    7. model year:    multi-valued discrete\"                                   \n",
              "[41] \"    8. origin:        multi-valued discrete\"                                   \n",
              "[42] \"    9. car name:      string (unique for each instance)\"                       \n",
              "[43] \"\"                                                                              \n",
              "[44] \"8. Missing Attribute Values:  horsepower has 6 missing values\"                 \n",
              "[45] \"\"                                                                              "
            ]
          },
          "metadata": {}
        }
      ]
    },
    {
      "cell_type": "code",
      "source": [
        "library(quanteda)"
      ],
      "metadata": {
        "id": "2p8sxhP8g8fk"
      },
      "execution_count": null,
      "outputs": []
    },
    {
      "cell_type": "code",
      "source": [
        "# Tokenisasi dokumen\n",
        "tokenpertama <- tokens(metadatahasil)\n",
        "head(tokenpertama)"
      ],
      "metadata": {
        "colab": {
          "base_uri": "https://localhost:8080/",
          "height": 410
        },
        "id": "AyHuQANghJNV",
        "outputId": "2a680b03-fe55-4663-c153-c63041bdfba7"
      },
      "execution_count": null,
      "outputs": [
        {
          "output_type": "display_data",
          "data": {
            "text/plain": [
              "Tokens consisting of 6 documents.\n",
              "text1 :\n",
              "[1] \"1\"        \".\"        \"Title\"    \":\"        \"Auto-Mpg\" \"Data\"    \n",
              "\n",
              "text2 :\n",
              "character(0)\n",
              "\n",
              "text3 :\n",
              "[1] \"2\"       \".\"       \"Sources\" \":\"      \n",
              "\n",
              "text4 :\n",
              " [1] \"(\"       \"a\"       \")\"       \"Origin\"  \":\"       \"This\"    \"dataset\"\n",
              " [8] \"was\"     \"taken\"   \"from\"    \"the\"     \"StatLib\"\n",
              "[ ... and 3 more ]\n",
              "\n",
              "text5 :\n",
              "[1] \"maintained\" \"at\"         \"Carnegie\"   \"Mellon\"     \"University\"\n",
              "[6] \".\"          \"The\"        \"dataset\"    \"was\"       \n",
              "\n",
              "text6 :\n",
              "[1] \"used\"        \"in\"          \"the\"         \"1983\"        \"American\"   \n",
              "[6] \"Statistical\" \"Association\" \"Exposition\"  \".\"          \n"
            ]
          },
          "metadata": {}
        }
      ]
    },
    {
      "cell_type": "code",
      "source": [
        "# Membuat document-feature matrix (dfm)\n",
        "hasildfm <- dfm(tokenpertama, tolower = FALSE, verbose = FALSE)\n",
        "topfeatures(hasildfm, n=20)"
      ],
      "metadata": {
        "colab": {
          "base_uri": "https://localhost:8080/",
          "height": 52
        },
        "id": "6yu_d13QhPEz",
        "outputId": "83dd3d20-2113-429e-e564-07fda366d923"
      },
      "execution_count": null,
      "outputs": [
        {
          "output_type": "display_data",
          "data": {
            "text/html": [
              "<style>\n",
              ".dl-inline {width: auto; margin:0; padding: 0}\n",
              ".dl-inline>dt, .dl-inline>dd {float: none; width: auto; display: inline-block}\n",
              ".dl-inline>dt::after {content: \":\\0020\"; padding-right: .5ex}\n",
              ".dl-inline>dt:not(:first-of-type) {padding-left: .5ex}\n",
              "</style><dl class=dl-inline><dt>.</dt><dd>28</dd><dt>:</dt><dd>19</dd><dt>the</dt><dd>11</dd><dt>,</dt><dd>8</dd><dt>\"</dt><dd>8</dd><dt>(</dt><dd>7</dd><dt>)</dt><dd>7</dd><dt>of</dt><dd>7</dd><dt>in</dt><dd>6</dd><dt>continuous</dt><dd>6</dd><dt>dataset</dt><dd>5</dd><dt>1993</dt><dd>4</dd><dt>discrete</dt><dd>4</dd><dt>is</dt><dd>3</dd><dt>The</dt><dd>3</dd><dt>7</dt><dd>3</dd><dt>3</dt><dd>3</dd><dt>Quinlan</dt><dd>3</dd><dt>attribute</dt><dd>3</dd><dt>mpg</dt><dd>3</dd></dl>\n"
            ],
            "text/markdown": ".\n:   28:\n:   19the\n:   11,\n:   8\"\n:   8(\n:   7)\n:   7of\n:   7in\n:   6continuous\n:   6dataset\n:   51993\n:   4discrete\n:   4is\n:   3The\n:   37\n:   33\n:   3Quinlan\n:   3attribute\n:   3mpg\n:   3\n\n",
            "text/latex": "\\begin{description*}\n\\item[.] 28\n\\item[:] 19\n\\item[the] 11\n\\item[,] 8\n\\item[\"] 8\n\\item[(] 7\n\\item[)] 7\n\\item[of] 7\n\\item[in] 6\n\\item[continuous] 6\n\\item[dataset] 5\n\\item[1993] 4\n\\item[discrete] 4\n\\item[is] 3\n\\item[The] 3\n\\item[7] 3\n\\item[3] 3\n\\item[Quinlan] 3\n\\item[attribute] 3\n\\item[mpg] 3\n\\end{description*}\n",
            "text/plain": [
              "         .          :        the          ,          \"          (          ) \n",
              "        28         19         11          8          8          7          7 \n",
              "        of         in continuous    dataset       1993   discrete         is \n",
              "         7          6          6          5          4          4          3 \n",
              "       The          7          3    Quinlan  attribute        mpg \n",
              "         3          3          3          3          3          3 "
            ]
          },
          "metadata": {}
        }
      ]
    },
    {
      "cell_type": "code",
      "source": [
        "# Preprosesing dokumen teks dan menampilkan dfm\n",
        "tokenkedua <- tokens(metadatahasil, remove_symbols = TRUE, remove_punct = TRUE, remove_numbers = TRUE)\n",
        "hasildfm2 <- dfm(tokenkedua, tolower = TRUE, verbose = FALSE)\n",
        "topfeatures(hasildfm2, n=20)"
      ],
      "metadata": {
        "id": "AmFTTtrUhjsM",
        "colab": {
          "base_uri": "https://localhost:8080/",
          "height": 69
        },
        "outputId": "fd18ca1c-bae3-4d0a-c48d-dc37668a5934"
      },
      "execution_count": null,
      "outputs": [
        {
          "output_type": "display_data",
          "data": {
            "text/html": [
              "<style>\n",
              ".dl-inline {width: auto; margin:0; padding: 0}\n",
              ".dl-inline>dt, .dl-inline>dd {float: none; width: auto; display: inline-block}\n",
              ".dl-inline>dt::after {content: \":\\0020\"; padding-right: .5ex}\n",
              ".dl-inline>dt:not(:first-of-type) {padding-left: .5ex}\n",
              "</style><dl class=dl-inline><dt>the</dt><dd>14</dd><dt>in</dt><dd>8</dd><dt>of</dt><dd>7</dd><dt>continuous</dt><dd>6</dd><dt>dataset</dt><dd>5</dd><dt>attribute</dt><dd>5</dd><dt>discrete</dt><dd>4</dd><dt>is</dt><dd>3</dd><dt>quinlan</dt><dd>3</dd><dt>mpg</dt><dd>3</dd><dt>values</dt><dd>3</dd><dt>multi-valued</dt><dd>3</dd><dt>data</dt><dd>2</dd><dt>a</dt><dd>2</dd><dt>origin</dt><dd>2</dd><dt>this</dt><dd>2</dd><dt>was</dt><dd>2</dd><dt>statlib</dt><dd>2</dd><dt>library</dt><dd>2</dd><dt>university</dt><dd>2</dd></dl>\n"
            ],
            "text/markdown": "the\n:   14in\n:   8of\n:   7continuous\n:   6dataset\n:   5attribute\n:   5discrete\n:   4is\n:   3quinlan\n:   3mpg\n:   3values\n:   3multi-valued\n:   3data\n:   2a\n:   2origin\n:   2this\n:   2was\n:   2statlib\n:   2library\n:   2university\n:   2\n\n",
            "text/latex": "\\begin{description*}\n\\item[the] 14\n\\item[in] 8\n\\item[of] 7\n\\item[continuous] 6\n\\item[dataset] 5\n\\item[attribute] 5\n\\item[discrete] 4\n\\item[is] 3\n\\item[quinlan] 3\n\\item[mpg] 3\n\\item[values] 3\n\\item[multi-valued] 3\n\\item[data] 2\n\\item[a] 2\n\\item[origin] 2\n\\item[this] 2\n\\item[was] 2\n\\item[statlib] 2\n\\item[library] 2\n\\item[university] 2\n\\end{description*}\n",
            "text/plain": [
              "         the           in           of   continuous      dataset    attribute \n",
              "          14            8            7            6            5            5 \n",
              "    discrete           is      quinlan          mpg       values multi-valued \n",
              "           4            3            3            3            3            3 \n",
              "        data            a       origin         this          was      statlib \n",
              "           2            2            2            2            2            2 \n",
              "     library   university \n",
              "           2            2 "
            ]
          },
          "metadata": {}
        }
      ]
    },
    {
      "cell_type": "code",
      "source": [
        "tokenketiga <- tokens_remove(tokenkedua, stopwords(\"english\"))\n",
        "hasildfm3 <- dfm(tokenketiga, verbose=FALSE)\n",
        "topfeatures(hasildfm3, n=20)"
      ],
      "metadata": {
        "colab": {
          "base_uri": "https://localhost:8080/",
          "height": 69
        },
        "id": "nOlwwRr0iHqF",
        "outputId": "ffb3792c-d2c5-4553-d099-ecad078e0a7d"
      },
      "execution_count": null,
      "outputs": [
        {
          "output_type": "display_data",
          "data": {
            "text/html": [
              "<style>\n",
              ".dl-inline {width: auto; margin:0; padding: 0}\n",
              ".dl-inline>dt, .dl-inline>dd {float: none; width: auto; display: inline-block}\n",
              ".dl-inline>dt::after {content: \":\\0020\"; padding-right: .5ex}\n",
              ".dl-inline>dt:not(:first-of-type) {padding-left: .5ex}\n",
              "</style><dl class=dl-inline><dt>continuous</dt><dd>6</dd><dt>dataset</dt><dd>5</dd><dt>attribute</dt><dd>5</dd><dt>discrete</dt><dd>4</dd><dt>quinlan</dt><dd>3</dd><dt>mpg</dt><dd>3</dd><dt>values</dt><dd>3</dd><dt>multi-valued</dt><dd>3</dd><dt>data</dt><dd>2</dd><dt>origin</dt><dd>2</dd><dt>statlib</dt><dd>2</dd><dt>library</dt><dd>2</dd><dt>university</dt><dd>2</dd><dt>learning</dt><dd>2</dd><dt>information</dt><dd>2</dd><dt>original</dt><dd>2</dd><dt>instances</dt><dd>2</dd><dt>attributes</dt><dd>2</dd><dt>number</dt><dd>2</dd><dt>horsepower</dt><dd>2</dd></dl>\n"
            ],
            "text/markdown": "continuous\n:   6dataset\n:   5attribute\n:   5discrete\n:   4quinlan\n:   3mpg\n:   3values\n:   3multi-valued\n:   3data\n:   2origin\n:   2statlib\n:   2library\n:   2university\n:   2learning\n:   2information\n:   2original\n:   2instances\n:   2attributes\n:   2number\n:   2horsepower\n:   2\n\n",
            "text/latex": "\\begin{description*}\n\\item[continuous] 6\n\\item[dataset] 5\n\\item[attribute] 5\n\\item[discrete] 4\n\\item[quinlan] 3\n\\item[mpg] 3\n\\item[values] 3\n\\item[multi-valued] 3\n\\item[data] 2\n\\item[origin] 2\n\\item[statlib] 2\n\\item[library] 2\n\\item[university] 2\n\\item[learning] 2\n\\item[information] 2\n\\item[original] 2\n\\item[instances] 2\n\\item[attributes] 2\n\\item[number] 2\n\\item[horsepower] 2\n\\end{description*}\n",
            "text/plain": [
              "  continuous      dataset    attribute     discrete      quinlan          mpg \n",
              "           6            5            5            4            3            3 \n",
              "      values multi-valued         data       origin      statlib      library \n",
              "           3            3            2            2            2            2 \n",
              "  university     learning  information     original    instances   attributes \n",
              "           2            2            2            2            2            2 \n",
              "      number   horsepower \n",
              "           2            2 "
            ]
          },
          "metadata": {}
        }
      ]
    },
    {
      "cell_type": "code",
      "source": [
        "tokenkeempat <- tokens_wordstem(tokenketiga)\n",
        "hasildfm4 <- dfm(tokenkeempat, verbose = FALSE)\n",
        "topfeatures(hasildfm4, n=20)"
      ],
      "metadata": {
        "id": "urN7jNngibqb",
        "colab": {
          "base_uri": "https://localhost:8080/",
          "height": 69
        },
        "outputId": "a82e2815-9f99-4f65-c92c-7da240ffbe62"
      },
      "execution_count": null,
      "outputs": [
        {
          "output_type": "display_data",
          "data": {
            "text/html": [
              "<style>\n",
              ".dl-inline {width: auto; margin:0; padding: 0}\n",
              ".dl-inline>dt, .dl-inline>dd {float: none; width: auto; display: inline-block}\n",
              ".dl-inline>dt::after {content: \":\\0020\"; padding-right: .5ex}\n",
              ".dl-inline>dt:not(:first-of-type) {padding-left: .5ex}\n",
              "</style><dl class=dl-inline><dt>attribut</dt><dd>7</dd><dt>continu</dt><dd>6</dd><dt>dataset</dt><dd>5</dd><dt>origin</dt><dd>4</dd><dt>discret</dt><dd>4</dd><dt>quinlan</dt><dd>3</dd><dt>mpg</dt><dd>3</dd><dt>instanc</dt><dd>3</dd><dt>valu</dt><dd>3</dd><dt>multi-valu</dt><dd>3</dd><dt>data</dt><dd>2</dd><dt>statlib</dt><dd>2</dd><dt>librari</dt><dd>2</dd><dt>univers</dt><dd>2</dd><dt>use</dt><dd>2</dd><dt>learn</dt><dd>2</dd><dt>informat</dt><dd>2</dd><dt>predict</dt><dd>2</dd><dt>number</dt><dd>2</dd><dt>horsepow</dt><dd>2</dd></dl>\n"
            ],
            "text/markdown": "attribut\n:   7continu\n:   6dataset\n:   5origin\n:   4discret\n:   4quinlan\n:   3mpg\n:   3instanc\n:   3valu\n:   3multi-valu\n:   3data\n:   2statlib\n:   2librari\n:   2univers\n:   2use\n:   2learn\n:   2informat\n:   2predict\n:   2number\n:   2horsepow\n:   2\n\n",
            "text/latex": "\\begin{description*}\n\\item[attribut] 7\n\\item[continu] 6\n\\item[dataset] 5\n\\item[origin] 4\n\\item[discret] 4\n\\item[quinlan] 3\n\\item[mpg] 3\n\\item[instanc] 3\n\\item[valu] 3\n\\item[multi-valu] 3\n\\item[data] 2\n\\item[statlib] 2\n\\item[librari] 2\n\\item[univers] 2\n\\item[use] 2\n\\item[learn] 2\n\\item[informat] 2\n\\item[predict] 2\n\\item[number] 2\n\\item[horsepow] 2\n\\end{description*}\n",
            "text/plain": [
              "  attribut    continu    dataset     origin    discret    quinlan        mpg \n",
              "         7          6          5          4          4          3          3 \n",
              "   instanc       valu multi-valu       data    statlib    librari    univers \n",
              "         3          3          3          2          2          2          2 \n",
              "       use      learn   informat    predict     number   horsepow \n",
              "         2          2          2          2          2          2 "
            ]
          },
          "metadata": {}
        }
      ]
    },
    {
      "cell_type": "code",
      "source": [
        "# Latihan\n",
        "Teks <- c(\"And I understand that because it's an election season, expectations for what we will achieve \n",
        "this year are low. But, Mr. Speaker, I appreciate the constructive approach that you and the other leaders\n",
        "took at the end of last year to pass a budget and make tax cuts permanent for workinf families. So I hope \n",
        "we can work together this year on some bipartisian priorities like criminal justice reform -- (applause) -- \n",
        "and helping people who are battling prescription drug abuse and heroin abuse. (Applause.) So, who knows, \n",
        "we might surprise the cynics again\")"
      ],
      "metadata": {
        "id": "oJnYNjBCgKxg"
      },
      "execution_count": null,
      "outputs": []
    },
    {
      "cell_type": "markdown",
      "source": [
        "### Visualisasi Data Teks"
      ],
      "metadata": {
        "id": "cXCf0axUnaLW"
      }
    },
    {
      "cell_type": "code",
      "source": [
        "topfeatures(hasildfm, n=20)"
      ],
      "metadata": {
        "colab": {
          "base_uri": "https://localhost:8080/",
          "height": 52
        },
        "id": "oxH4KTEIlhw4",
        "outputId": "f29398fe-9619-446e-a25d-c65d6cf2f464"
      },
      "execution_count": null,
      "outputs": [
        {
          "output_type": "display_data",
          "data": {
            "text/html": [
              "<style>\n",
              ".dl-inline {width: auto; margin:0; padding: 0}\n",
              ".dl-inline>dt, .dl-inline>dd {float: none; width: auto; display: inline-block}\n",
              ".dl-inline>dt::after {content: \":\\0020\"; padding-right: .5ex}\n",
              ".dl-inline>dt:not(:first-of-type) {padding-left: .5ex}\n",
              "</style><dl class=dl-inline><dt>.</dt><dd>28</dd><dt>:</dt><dd>19</dd><dt>the</dt><dd>11</dd><dt>,</dt><dd>8</dd><dt>\"</dt><dd>8</dd><dt>(</dt><dd>7</dd><dt>)</dt><dd>7</dd><dt>of</dt><dd>7</dd><dt>in</dt><dd>6</dd><dt>continuous</dt><dd>6</dd><dt>dataset</dt><dd>5</dd><dt>1993</dt><dd>4</dd><dt>discrete</dt><dd>4</dd><dt>is</dt><dd>3</dd><dt>The</dt><dd>3</dd><dt>7</dt><dd>3</dd><dt>3</dt><dd>3</dd><dt>Quinlan</dt><dd>3</dd><dt>attribute</dt><dd>3</dd><dt>mpg</dt><dd>3</dd></dl>\n"
            ],
            "text/markdown": ".\n:   28:\n:   19the\n:   11,\n:   8\"\n:   8(\n:   7)\n:   7of\n:   7in\n:   6continuous\n:   6dataset\n:   51993\n:   4discrete\n:   4is\n:   3The\n:   37\n:   33\n:   3Quinlan\n:   3attribute\n:   3mpg\n:   3\n\n",
            "text/latex": "\\begin{description*}\n\\item[.] 28\n\\item[:] 19\n\\item[the] 11\n\\item[,] 8\n\\item[\"] 8\n\\item[(] 7\n\\item[)] 7\n\\item[of] 7\n\\item[in] 6\n\\item[continuous] 6\n\\item[dataset] 5\n\\item[1993] 4\n\\item[discrete] 4\n\\item[is] 3\n\\item[The] 3\n\\item[7] 3\n\\item[3] 3\n\\item[Quinlan] 3\n\\item[attribute] 3\n\\item[mpg] 3\n\\end{description*}\n",
            "text/plain": [
              "         .          :        the          ,          \"          (          ) \n",
              "        28         19         11          8          8          7          7 \n",
              "        of         in continuous    dataset       1993   discrete         is \n",
              "         7          6          6          5          4          4          3 \n",
              "       The          7          3    Quinlan  attribute        mpg \n",
              "         3          3          3          3          3          3 "
            ]
          },
          "metadata": {}
        }
      ]
    },
    {
      "cell_type": "code",
      "source": [
        "topfeatures(hasildfm2, n=20)"
      ],
      "metadata": {
        "colab": {
          "base_uri": "https://localhost:8080/",
          "height": 69
        },
        "id": "tEipXuXOnnn9",
        "outputId": "bda79576-d064-4c46-ce33-bb3bb7170c26"
      },
      "execution_count": null,
      "outputs": [
        {
          "output_type": "display_data",
          "data": {
            "text/html": [
              "<style>\n",
              ".dl-inline {width: auto; margin:0; padding: 0}\n",
              ".dl-inline>dt, .dl-inline>dd {float: none; width: auto; display: inline-block}\n",
              ".dl-inline>dt::after {content: \":\\0020\"; padding-right: .5ex}\n",
              ".dl-inline>dt:not(:first-of-type) {padding-left: .5ex}\n",
              "</style><dl class=dl-inline><dt>the</dt><dd>14</dd><dt>in</dt><dd>8</dd><dt>of</dt><dd>7</dd><dt>continuous</dt><dd>6</dd><dt>dataset</dt><dd>5</dd><dt>attribute</dt><dd>5</dd><dt>discrete</dt><dd>4</dd><dt>is</dt><dd>3</dd><dt>quinlan</dt><dd>3</dd><dt>mpg</dt><dd>3</dd><dt>values</dt><dd>3</dd><dt>multi-valued</dt><dd>3</dd><dt>data</dt><dd>2</dd><dt>a</dt><dd>2</dd><dt>origin</dt><dd>2</dd><dt>this</dt><dd>2</dd><dt>was</dt><dd>2</dd><dt>statlib</dt><dd>2</dd><dt>library</dt><dd>2</dd><dt>university</dt><dd>2</dd></dl>\n"
            ],
            "text/markdown": "the\n:   14in\n:   8of\n:   7continuous\n:   6dataset\n:   5attribute\n:   5discrete\n:   4is\n:   3quinlan\n:   3mpg\n:   3values\n:   3multi-valued\n:   3data\n:   2a\n:   2origin\n:   2this\n:   2was\n:   2statlib\n:   2library\n:   2university\n:   2\n\n",
            "text/latex": "\\begin{description*}\n\\item[the] 14\n\\item[in] 8\n\\item[of] 7\n\\item[continuous] 6\n\\item[dataset] 5\n\\item[attribute] 5\n\\item[discrete] 4\n\\item[is] 3\n\\item[quinlan] 3\n\\item[mpg] 3\n\\item[values] 3\n\\item[multi-valued] 3\n\\item[data] 2\n\\item[a] 2\n\\item[origin] 2\n\\item[this] 2\n\\item[was] 2\n\\item[statlib] 2\n\\item[library] 2\n\\item[university] 2\n\\end{description*}\n",
            "text/plain": [
              "         the           in           of   continuous      dataset    attribute \n",
              "          14            8            7            6            5            5 \n",
              "    discrete           is      quinlan          mpg       values multi-valued \n",
              "           4            3            3            3            3            3 \n",
              "        data            a       origin         this          was      statlib \n",
              "           2            2            2            2            2            2 \n",
              "     library   university \n",
              "           2            2 "
            ]
          },
          "metadata": {}
        }
      ]
    },
    {
      "cell_type": "code",
      "source": [
        "topfeatures(hasildfm3, n=20)"
      ],
      "metadata": {
        "colab": {
          "base_uri": "https://localhost:8080/",
          "height": 69
        },
        "id": "ROriOlaCnyLs",
        "outputId": "3b14c2c0-4022-42d0-a75a-d25724b62631"
      },
      "execution_count": null,
      "outputs": [
        {
          "output_type": "display_data",
          "data": {
            "text/html": [
              "<style>\n",
              ".dl-inline {width: auto; margin:0; padding: 0}\n",
              ".dl-inline>dt, .dl-inline>dd {float: none; width: auto; display: inline-block}\n",
              ".dl-inline>dt::after {content: \":\\0020\"; padding-right: .5ex}\n",
              ".dl-inline>dt:not(:first-of-type) {padding-left: .5ex}\n",
              "</style><dl class=dl-inline><dt>continuous</dt><dd>6</dd><dt>dataset</dt><dd>5</dd><dt>attribute</dt><dd>5</dd><dt>discrete</dt><dd>4</dd><dt>quinlan</dt><dd>3</dd><dt>mpg</dt><dd>3</dd><dt>values</dt><dd>3</dd><dt>multi-valued</dt><dd>3</dd><dt>data</dt><dd>2</dd><dt>origin</dt><dd>2</dd><dt>statlib</dt><dd>2</dd><dt>library</dt><dd>2</dd><dt>university</dt><dd>2</dd><dt>learning</dt><dd>2</dd><dt>information</dt><dd>2</dd><dt>original</dt><dd>2</dd><dt>instances</dt><dd>2</dd><dt>attributes</dt><dd>2</dd><dt>number</dt><dd>2</dd><dt>horsepower</dt><dd>2</dd></dl>\n"
            ],
            "text/markdown": "continuous\n:   6dataset\n:   5attribute\n:   5discrete\n:   4quinlan\n:   3mpg\n:   3values\n:   3multi-valued\n:   3data\n:   2origin\n:   2statlib\n:   2library\n:   2university\n:   2learning\n:   2information\n:   2original\n:   2instances\n:   2attributes\n:   2number\n:   2horsepower\n:   2\n\n",
            "text/latex": "\\begin{description*}\n\\item[continuous] 6\n\\item[dataset] 5\n\\item[attribute] 5\n\\item[discrete] 4\n\\item[quinlan] 3\n\\item[mpg] 3\n\\item[values] 3\n\\item[multi-valued] 3\n\\item[data] 2\n\\item[origin] 2\n\\item[statlib] 2\n\\item[library] 2\n\\item[university] 2\n\\item[learning] 2\n\\item[information] 2\n\\item[original] 2\n\\item[instances] 2\n\\item[attributes] 2\n\\item[number] 2\n\\item[horsepower] 2\n\\end{description*}\n",
            "text/plain": [
              "  continuous      dataset    attribute     discrete      quinlan          mpg \n",
              "           6            5            5            4            3            3 \n",
              "      values multi-valued         data       origin      statlib      library \n",
              "           3            3            2            2            2            2 \n",
              "  university     learning  information     original    instances   attributes \n",
              "           2            2            2            2            2            2 \n",
              "      number   horsepower \n",
              "           2            2 "
            ]
          },
          "metadata": {}
        }
      ]
    },
    {
      "cell_type": "code",
      "source": [
        "topfeatures(hasildfm4, n=20)"
      ],
      "metadata": {
        "colab": {
          "base_uri": "https://localhost:8080/",
          "height": 69
        },
        "id": "vD8LHXk8n3pW",
        "outputId": "b6383c0f-219d-45fb-9ea6-63013828430b"
      },
      "execution_count": null,
      "outputs": [
        {
          "output_type": "display_data",
          "data": {
            "text/html": [
              "<style>\n",
              ".dl-inline {width: auto; margin:0; padding: 0}\n",
              ".dl-inline>dt, .dl-inline>dd {float: none; width: auto; display: inline-block}\n",
              ".dl-inline>dt::after {content: \":\\0020\"; padding-right: .5ex}\n",
              ".dl-inline>dt:not(:first-of-type) {padding-left: .5ex}\n",
              "</style><dl class=dl-inline><dt>attribut</dt><dd>7</dd><dt>continu</dt><dd>6</dd><dt>dataset</dt><dd>5</dd><dt>origin</dt><dd>4</dd><dt>discret</dt><dd>4</dd><dt>quinlan</dt><dd>3</dd><dt>mpg</dt><dd>3</dd><dt>instanc</dt><dd>3</dd><dt>valu</dt><dd>3</dd><dt>multi-valu</dt><dd>3</dd><dt>data</dt><dd>2</dd><dt>statlib</dt><dd>2</dd><dt>librari</dt><dd>2</dd><dt>univers</dt><dd>2</dd><dt>use</dt><dd>2</dd><dt>learn</dt><dd>2</dd><dt>informat</dt><dd>2</dd><dt>predict</dt><dd>2</dd><dt>number</dt><dd>2</dd><dt>horsepow</dt><dd>2</dd></dl>\n"
            ],
            "text/markdown": "attribut\n:   7continu\n:   6dataset\n:   5origin\n:   4discret\n:   4quinlan\n:   3mpg\n:   3instanc\n:   3valu\n:   3multi-valu\n:   3data\n:   2statlib\n:   2librari\n:   2univers\n:   2use\n:   2learn\n:   2informat\n:   2predict\n:   2number\n:   2horsepow\n:   2\n\n",
            "text/latex": "\\begin{description*}\n\\item[attribut] 7\n\\item[continu] 6\n\\item[dataset] 5\n\\item[origin] 4\n\\item[discret] 4\n\\item[quinlan] 3\n\\item[mpg] 3\n\\item[instanc] 3\n\\item[valu] 3\n\\item[multi-valu] 3\n\\item[data] 2\n\\item[statlib] 2\n\\item[librari] 2\n\\item[univers] 2\n\\item[use] 2\n\\item[learn] 2\n\\item[informat] 2\n\\item[predict] 2\n\\item[number] 2\n\\item[horsepow] 2\n\\end{description*}\n",
            "text/plain": [
              "  attribut    continu    dataset     origin    discret    quinlan        mpg \n",
              "         7          6          5          4          4          3          3 \n",
              "   instanc       valu multi-valu       data    statlib    librari    univers \n",
              "         3          3          3          2          2          2          2 \n",
              "       use      learn   informat    predict     number   horsepow \n",
              "         2          2          2          2          2          2 "
            ]
          },
          "metadata": {}
        }
      ]
    },
    {
      "cell_type": "code",
      "source": [
        "#install dan memanggil library quanteda.textplots\n",
        "install.packages(\"quanteda.textplots\")\n",
        "library(quanteda.textplots)"
      ],
      "metadata": {
        "id": "WTLEZYTsn-Wi",
        "colab": {
          "base_uri": "https://localhost:8080/"
        },
        "outputId": "1b1a3ffb-0624-4351-ee5f-d9cfa0bfbb65"
      },
      "execution_count": null,
      "outputs": [
        {
          "output_type": "stream",
          "name": "stderr",
          "text": [
            "Installing package into ‘/usr/local/lib/R/site-library’\n",
            "(as ‘lib’ is unspecified)\n",
            "\n",
            "also installing the dependencies ‘coda’, ‘extrafontdb’, ‘Rttf2pt1’, ‘statnet.common’, ‘extrafont’, ‘ggrepel’, ‘sna’, ‘igraph’, ‘network’\n",
            "\n",
            "\n"
          ]
        }
      ]
    },
    {
      "cell_type": "code",
      "source": [
        "textplot_wordcloud(hasildfm)\n",
        "textplot_wordcloud(hasildfm2)\n",
        "textplot_wordcloud(hasildfm3)\n",
        "textplot_wordcloud(hasildfm4)"
      ],
      "metadata": {
        "colab": {
          "base_uri": "https://localhost:8080/",
          "height": 1000
        },
        "id": "BEt28N-_oXQK",
        "outputId": "e4a4df37-b33f-45b9-ae5c-395f9afd1636"
      },
      "execution_count": null,
      "outputs": [
        {
          "output_type": "display_data",
          "data": {
            "text/plain": [
              "plot without title"
            ],
            "image/png": "[encoded data removed]"
          },
          "metadata": {
            "image/png": {
              "width": 420,
              "height": 420
            }
          }
        },
        {
          "output_type": "display_data",
          "data": {
            "text/plain": [
              "plot without title"
            ],
            "image/png": "[encoded data removed]"
          },
          "metadata": {
            "image/png": {
              "width": 420,
              "height": 420
            }
          }
        },
        {
          "output_type": "display_data",
          "data": {
            "text/plain": [
              "plot without title"
            ],
            "image/png": "[encoded data removed]"
          },
          "metadata": {
            "image/png": {
              "width": 420,
              "height": 420
            }
          }
        },
        {
          "output_type": "display_data",
          "data": {
            "text/plain": [
              "plot without title"
            ],
            "image/png": "[encoded data removed]"
          },
          "metadata": {
            "image/png": {
              "width": 420,
              "height": 420
            }
          }
        }
      ]
    },
    {
      "cell_type": "code",
      "source": [
        "textplot_wordcloud(hasildfm4, rotation = 0.25, color = rev(RColorBrewer::brewer.pal(10,\"RdBu\")))"
      ],
      "metadata": {
        "colab": {
          "base_uri": "https://localhost:8080/",
          "height": 437
        },
        "id": "FUJHfv1IubdP",
        "outputId": "692a1a20-ff71-40fb-9ba9-7ddd3906161a"
      },
      "execution_count": null,
      "outputs": [
        {
          "output_type": "display_data",
          "data": {
            "text/plain": [
              "plot without title"
            ],
            "image/png": "[encoded data removed]"
          },
          "metadata": {
            "image/png": {
              "width": 420,
              "height": 420
            }
          }
        }
      ]
    },
    {
      "cell_type": "code",
      "source": [
        "col <- sapply(seq(0.1, 1, 0.1), function(x) adjustcolor(\"#1F78B4\", x))\n",
        "textplot_wordcloud(hasildfm4, adjust = 0.5, random_order = FALSE, color = col, rotation = FALSE)"
      ],
      "metadata": {
        "colab": {
          "base_uri": "https://localhost:8080/",
          "height": 437
        },
        "id": "oFkK0OBzu2_o",
        "outputId": "322d0305-42c9-4f56-ee35-b72676127fca"
      },
      "execution_count": null,
      "outputs": [
        {
          "output_type": "display_data",
          "data": {
            "text/plain": [
              "plot without title"
            ],
            "image/png": "[encoded data removed]"
          },
          "metadata": {
            "image/png": {
              "width": 420,
              "height": 420
            }
          }
        }
      ]
    },
    {
      "cell_type": "code",
      "source": [
        "head(dfm_sort(hasildfm4, decreasing = TRUE, margin = \"both\"), n=10, nf=10)"
      ],
      "metadata": {
        "colab": {
          "base_uri": "https://localhost:8080/",
          "height": 374
        },
        "id": "1Axid95hvI6-",
        "outputId": "b75e2b7d-4152-43c0-ca5b-d1f02d6494f2"
      },
      "execution_count": null,
      "outputs": [
        {
          "output_type": "stream",
          "name": "stderr",
          "text": [
            "Warning message:\n",
            "“nf argument is not used.”\n"
          ]
        },
        {
          "output_type": "display_data",
          "data": {
            "text/plain": [
              "Document-feature matrix of: 10 documents, 86 features (93.49% sparse) and 0 docvars.\n",
              "        features\n",
              "docs     attribut continu dataset origin discret quinlan mpg instanc valu\n",
              "  text24        0       0       0      0       0       0   0       0    0\n",
              "  text11        0       0       0      0       0       1   0       0    0\n",
              "  text13        0       0       0      0       0       0   0       0    0\n",
              "  text18        0       0       2      0       0       0   0       0    0\n",
              "  text19        0       0       0      0       0       1   0       0    0\n",
              "  text20        1       0       0      1       0       0   1       1    0\n",
              "        features\n",
              "docs     multi-valu\n",
              "  text24          0\n",
              "  text11          0\n",
              "  text13          0\n",
              "  text18          0\n",
              "  text19          0\n",
              "  text20          0\n",
              "[ reached max_ndoc ... 4 more documents, reached max_nfeat ... 76 more features ]"
            ]
          },
          "metadata": {}
        }
      ]
    },
    {
      "cell_type": "code",
      "source": [
        "# Pengelompokan kata\n",
        "hasildist <-dist(as.matrix(hasildfm4))\n",
        "cobacluster<-hclust(hasildist)\n",
        "plot(cobacluster)"
      ],
      "metadata": {
        "colab": {
          "base_uri": "https://localhost:8080/",
          "height": 437
        },
        "id": "ZMtggEKgw6iW",
        "outputId": "ed0ca702-c2a5-437e-e8fb-4f3e76295f78"
      },
      "execution_count": null,
      "outputs": [
        {
          "output_type": "display_data",
          "data": {
            "text/plain": [
              "Plot with title “Cluster Dendrogram”"
            ],
            "image/png": "[encoded data removed]"
          },
          "metadata": {
            "image/png": {
              "width": 420,
              "height": 420
            }
          }
        }
      ]
    },
    {
      "cell_type": "code",
      "source": [
        "# Melihat Term pada dokumen 20 dan 21\n",
        "hasildfm4[20:21,]"
      ],
      "metadata": {
        "colab": {
          "base_uri": "https://localhost:8080/",
          "height": 124
        },
        "id": "mpNS8z9wxspp",
        "outputId": "359615ac-afed-4609-b2de-c54879f1dcf4"
      },
      "execution_count": null,
      "outputs": [
        {
          "output_type": "display_data",
          "data": {
            "text/plain": [
              "Document-feature matrix of: 2 documents, 86 features (93.60% sparse) and 0 docvars.\n",
              "        features\n",
              "docs     titl auto-mpg data sourc origin dataset taken statlib librari maintain\n",
              "  text20    0        0    0     0      1       0     0       0       0        0\n",
              "  text21    0        0    0     0      1       0     0       0       0        0\n",
              "[ reached max_nfeat ... 76 more features ]"
            ]
          },
          "metadata": {}
        }
      ]
    },
    {
      "cell_type": "markdown",
      "source": [
        "###Contoh Kasus"
      ],
      "metadata": {
        "id": "zP0MpERuF4uN"
      }
    },
    {
      "cell_type": "code",
      "source": [
        "#Contoh dfm\n",
        "data_teks <- c(\"makassar kota indah\", \"kota makassar kota kuliner\", \"saya berasal dari makassar\")\n",
        "token_data_teks <- tokens(data_teks)\n",
        "dfm_data_teks <- dfm(token_data_teks)\n",
        "topfeatures(dfm_data_teks)"
      ],
      "metadata": {
        "colab": {
          "base_uri": "https://localhost:8080/",
          "height": 34
        },
        "id": "ea8GSog88oLt",
        "outputId": "72259fbe-343c-44bd-9063-58d0669aba45"
      },
      "execution_count": null,
      "outputs": [
        {
          "output_type": "display_data",
          "data": {
            "text/html": [
              "<style>\n",
              ".dl-inline {width: auto; margin:0; padding: 0}\n",
              ".dl-inline>dt, .dl-inline>dd {float: none; width: auto; display: inline-block}\n",
              ".dl-inline>dt::after {content: \":\\0020\"; padding-right: .5ex}\n",
              ".dl-inline>dt:not(:first-of-type) {padding-left: .5ex}\n",
              "</style><dl class=dl-inline><dt>makassar</dt><dd>3</dd><dt>kota</dt><dd>3</dd><dt>indah</dt><dd>1</dd><dt>kuliner</dt><dd>1</dd><dt>saya</dt><dd>1</dd><dt>berasal</dt><dd>1</dd><dt>dari</dt><dd>1</dd></dl>\n"
            ],
            "text/markdown": "makassar\n:   3kota\n:   3indah\n:   1kuliner\n:   1saya\n:   1berasal\n:   1dari\n:   1\n\n",
            "text/latex": "\\begin{description*}\n\\item[makassar] 3\n\\item[kota] 3\n\\item[indah] 1\n\\item[kuliner] 1\n\\item[saya] 1\n\\item[berasal] 1\n\\item[dari] 1\n\\end{description*}\n",
            "text/plain": [
              "makassar     kota    indah  kuliner     saya  berasal     dari \n",
              "       3        3        1        1        1        1        1 "
            ]
          },
          "metadata": {}
        }
      ]
    },
    {
      "cell_type": "code",
      "source": [
        "head(dfm_sort(dfm_data_teks, decreasing = TRUE, margin = \"both\"), n=3)"
      ],
      "metadata": {
        "colab": {
          "base_uri": "https://localhost:8080/",
          "height": 124
        },
        "id": "OHRtB45OF9Df",
        "outputId": "2e3c1c89-4b65-47e5-9c0c-13f1e73d57c3"
      },
      "execution_count": null,
      "outputs": [
        {
          "output_type": "display_data",
          "data": {
            "text/plain": [
              "Document-feature matrix of: 3 documents, 7 features (52.38% sparse) and 0 docvars.\n",
              "       features\n",
              "docs    makassar kota indah kuliner saya berasal dari\n",
              "  text2        1    2     0       1    0       0    0\n",
              "  text3        1    0     0       0    1       1    1\n",
              "  text1        1    1     1       0    0       0    0"
            ]
          },
          "metadata": {}
        }
      ]
    },
    {
      "cell_type": "code",
      "source": [
        "#Pengelompokan kata\n",
        "hasildist_data_teks <-dist(as.matrix(dfm_data_teks))\n",
        "hasildist_data_teks\n",
        "cluster_data_teks<-hclust(hasildist_data_teks)\n",
        "plot(cluster_data_teks)"
      ],
      "metadata": {
        "colab": {
          "base_uri": "https://localhost:8080/",
          "height": 491
        },
        "id": "HQg2YmADJSxp",
        "outputId": "84099d37-afae-469b-a739-17e051ce9bd3"
      },
      "execution_count": null,
      "outputs": [
        {
          "output_type": "display_data",
          "data": {
            "text/plain": [
              "         text1    text2\n",
              "text2 1.732051         \n",
              "text3 2.236068 2.828427"
            ]
          },
          "metadata": {}
        },
        {
          "output_type": "display_data",
          "data": {
            "text/plain": [
              "Plot with title “Cluster Dendrogram”"
            ],
            "image/png": "[encoded data removed]"
          },
          "metadata": {
            "image/png": {
              "width": 420,
              "height": 420
            }
          }
        }
      ]
    },
    {
      "cell_type": "code",
      "source": [
        "dfm_data_teks[1:3,]"
      ],
      "metadata": {
        "colab": {
          "base_uri": "https://localhost:8080/",
          "height": 124
        },
        "id": "log9L3IZIzMh",
        "outputId": "e449e055-c3db-4800-da23-3dd08481e357"
      },
      "execution_count": null,
      "outputs": [
        {
          "output_type": "display_data",
          "data": {
            "text/plain": [
              "Document-feature matrix of: 3 documents, 7 features (52.38% sparse) and 0 docvars.\n",
              "       features\n",
              "docs    makassar kota indah kuliner saya berasal dari\n",
              "  text1        1    1     1       0    0       0    0\n",
              "  text2        1    2     0       1    0       0    0\n",
              "  text3        1    0     0       0    1       1    1"
            ]
          },
          "metadata": {}
        }
      ]
    },
    {
      "cell_type": "code",
      "source": [
        ""
      ],
      "metadata": {
        "id": "EExyIv37JC8s"
      },
      "execution_count": null,
      "outputs": []
    }
  ]
}