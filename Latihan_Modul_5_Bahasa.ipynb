{
  "nbformat": 4,
  "nbformat_minor": 0,
  "metadata": {
    "colab": {
      "name": "Latihan Modul 5-Bahasa.ipynb",
      "provenance": [],
      "authorship_tag": "ABX9TyOTeHwpEwAMr6sxSVaBUPSf",
      "include_colab_link": true
    },
    "kernelspec": {
      "name": "ir",
      "display_name": "R"
    },
    "language_info": {
      "name": "R"
    }
  },
  "cells": [
    {
      "cell_type": "markdown",
      "metadata": {
        "id": "view-in-github",
        "colab_type": "text"
      },
      "source": [
        "<a href=\"https://colab.research.google.com/github/iizmyy/Analisis-dan-Visualisasi-Data/blob/main/Latihan_Modul_5_Bahasa.ipynb\" target=\"_parent\"><img src=\"https://colab.research.google.com/assets/colab-badge.svg\" alt=\"Open In Colab\"/></a>"
      ]
    },
    {
      "cell_type": "code",
      "execution_count": 132,
      "metadata": {
        "id": "8-EE7987lqgp",
        "colab": {
          "base_uri": "https://localhost:8080/",
          "height": 52
        },
        "outputId": "83ba7917-5f9c-4baa-8d3a-35b9f7856158"
      },
      "outputs": [
        {
          "output_type": "display_data",
          "data": {
            "text/html": [
              "<style>\n",
              ".list-inline {list-style: none; margin:0; padding: 0}\n",
              ".list-inline>li {display: inline-block}\n",
              ".list-inline>li:not(:last-child)::after {content: \"\\00b7\"; padding: 0 .5ex}\n",
              "</style>\n",
              "<ol class=list-inline><li>'pelayanan ramah dan hangat, sayang ac sempat mati selama 2 jam, tapi syukurlah ac bisa diperbaiki, overall oke lah'</li><li>'viewnya bagus, cocok untuk melepas lelah, nunggu di FO agak lama, kamar bersih, ac agak bermasalah, ac kurang dingin, mohon maintenance dong..'</li><li>'breakfast enak, anak-anak suka, pelayanan ramah, tempat bermain bagus'</li></ol>\n"
            ],
            "text/markdown": "1. 'pelayanan ramah dan hangat, sayang ac sempat mati selama 2 jam, tapi syukurlah ac bisa diperbaiki, overall oke lah'\n2. 'viewnya bagus, cocok untuk melepas lelah, nunggu di FO agak lama, kamar bersih, ac agak bermasalah, ac kurang dingin, mohon maintenance dong..'\n3. 'breakfast enak, anak-anak suka, pelayanan ramah, tempat bermain bagus'\n\n\n",
            "text/latex": "\\begin{enumerate*}\n\\item 'pelayanan ramah dan hangat, sayang ac sempat mati selama 2 jam, tapi syukurlah ac bisa diperbaiki, overall oke lah'\n\\item 'viewnya bagus, cocok untuk melepas lelah, nunggu di FO agak lama, kamar bersih, ac agak bermasalah, ac kurang dingin, mohon maintenance dong..'\n\\item 'breakfast enak, anak-anak suka, pelayanan ramah, tempat bermain bagus'\n\\end{enumerate*}\n",
            "text/plain": [
              "[1] \"pelayanan ramah dan hangat, sayang ac sempat mati selama 2 jam, tapi syukurlah ac bisa diperbaiki, overall oke lah\"                            \n",
              "[2] \"viewnya bagus, cocok untuk melepas lelah, nunggu di FO agak lama, kamar bersih, ac agak bermasalah, ac kurang dingin, mohon maintenance dong..\"\n",
              "[3] \"breakfast enak, anak-anak suka, pelayanan ramah, tempat bermain bagus\"                                                                         "
            ]
          },
          "metadata": {}
        }
      ],
      "source": [
        "# Membaca data\n",
        "alamat <- 'https://raw.githubusercontent.com/iizmyy/Analisis-dan-Visualisasi-Data/main/dataset/komentarHotel.txt'\n",
        "review <- readLines(alamat)\n",
        "review"
      ]
    },
    {
      "cell_type": "code",
      "source": [
        "install.packages(\"quanteda\")\n",
        "library(quanteda)"
      ],
      "metadata": {
        "colab": {
          "base_uri": "https://localhost:8080/"
        },
        "id": "_l_EiQxYGCJB",
        "outputId": "17af2253-ad6f-4591-9fff-b3629cee8ee8"
      },
      "execution_count": 7,
      "outputs": [
        {
          "output_type": "stream",
          "name": "stderr",
          "text": [
            "Installing package into ‘/usr/local/lib/R/site-library’\n",
            "(as ‘lib’ is unspecified)\n",
            "\n"
          ]
        }
      ]
    },
    {
      "cell_type": "code",
      "source": [
        "# Import stopword bahasa indonesia\n",
        "stopwordsid <- readLines('https://raw.githubusercontent.com/iizmyy/bilp/master/stoplist.txt')"
      ],
      "metadata": {
        "id": "MN3AsDTkMKdy"
      },
      "execution_count": 31,
      "outputs": []
    },
    {
      "cell_type": "code",
      "source": [
        "# Install library Stemming bahasa indonesia\n",
        "\n",
        "#install.packages(\"devtools\")\n",
        "#library(devtools)\n",
        "#install_github(\"nurandi/katadasaR\")\n",
        "#library(katadasaR)\n",
        "katadasaR(\"makanan\")"
      ],
      "metadata": {
        "colab": {
          "base_uri": "https://localhost:8080/",
          "height": 34
        },
        "id": "Zj4H5XwnPqf1",
        "outputId": "f4434247-7980-4838-88e9-0edeec8c01d0"
      },
      "execution_count": 131,
      "outputs": [
        {
          "output_type": "display_data",
          "data": {
            "text/html": [
              "'makan'"
            ],
            "text/markdown": "'makan'",
            "text/latex": "'makan'",
            "text/plain": [
              "[1] \"makan\""
            ]
          },
          "metadata": {}
        }
      ]
    },
    {
      "cell_type": "code",
      "source": [
        "# Normalisasi Teks\n",
        "# Tokenisasi\n",
        "review.token <- tokens(review)\n",
        "#review.token\n",
        "# Merubah ke huruf kecil\n",
        "review.hkecil <- tokens_tolower(review.token)\n",
        "\n",
        "# Symbol Removal\n",
        "review.nosimbol <- tokens(review.hkecil, remove_numbers = TRUE, remove_symbols = TRUE, remove_punct = TRUE)\n",
        "\n",
        "# Hilangkan stopwords\n",
        "review.stopwords <- tokens_remove(review.nosimbol, stopwordsid)\n",
        "\n",
        "# Stemming\n",
        "stemming <- function(x){\n",
        "  paste(lapply(x, katadasaR), collapse = \" \")\n",
        "}\n",
        "review.stemming <- tokenize_fasterword(lapply(review.stopwords, stemming))\n",
        "review.stemming.token <- tokens(review.stemming)\n",
        "\n",
        "# Konversi teks menjadi angka\n",
        "hasildfm <- dfm(review.stemming.token, verbose = TRUE)\n",
        "topfeatures(hasildfm, 20)\n",
        "\n",
        "#head(dfm_sort(hasildfm, decreasing = TRUE, margin = \"both\"), n=10, nf=10)"
      ],
      "metadata": {
        "colab": {
          "base_uri": "https://localhost:8080/",
          "height": 230
        },
        "id": "gSMYAxDHGYTa",
        "outputId": "56f3e558-ecf8-456f-f4ef-c443c86b4f1a"
      },
      "execution_count": 128,
      "outputs": [
        {
          "output_type": "stream",
          "name": "stderr",
          "text": [
            "Creating a dfm from a tokens input...\n",
            "\n",
            " ...lowercasing\n",
            "\n",
            " ...found 3 documents, 29 features\n",
            "\n",
            " ...complete, elapsed time: 0.025 seconds.\n",
            "\n",
            "Finished constructing a 3 x 29 sparse dfm.\n",
            "\n"
          ]
        },
        {
          "output_type": "display_data",
          "data": {
            "text/html": [
              "<style>\n",
              ".dl-inline {width: auto; margin:0; padding: 0}\n",
              ".dl-inline>dt, .dl-inline>dd {float: none; width: auto; display: inline-block}\n",
              ".dl-inline>dt::after {content: \":\\0020\"; padding-right: .5ex}\n",
              ".dl-inline>dt:not(:first-of-type) {padding-left: .5ex}\n",
              "</style><dl class=dl-inline><dt>ac</dt><dd>4</dd><dt>ayan</dt><dd>2</dd><dt>ramah</dt><dd>2</dd><dt>bagus</dt><dd>2</dd><dt>hangat</dt><dd>1</dd><dt>sayang</dt><dd>1</dd><dt>mati</dt><dd>1</dd><dt>jam</dt><dd>1</dd><dt>syukur</dt><dd>1</dd><dt>baik</dt><dd>1</dd><dt>overall</dt><dd>1</dd><dt>oke</dt><dd>1</dd><dt>viewnya</dt><dd>1</dd><dt>cocok</dt><dd>1</dd><dt>lepas</dt><dd>1</dd><dt>lelah</dt><dd>1</dd><dt>nunggu</dt><dd>1</dd><dt>fo</dt><dd>1</dd><dt>kamar</dt><dd>1</dd><dt>bersih</dt><dd>1</dd></dl>\n"
            ],
            "text/markdown": "ac\n:   4ayan\n:   2ramah\n:   2bagus\n:   2hangat\n:   1sayang\n:   1mati\n:   1jam\n:   1syukur\n:   1baik\n:   1overall\n:   1oke\n:   1viewnya\n:   1cocok\n:   1lepas\n:   1lelah\n:   1nunggu\n:   1fo\n:   1kamar\n:   1bersih\n:   1\n\n",
            "text/latex": "\\begin{description*}\n\\item[ac] 4\n\\item[ayan] 2\n\\item[ramah] 2\n\\item[bagus] 2\n\\item[hangat] 1\n\\item[sayang] 1\n\\item[mati] 1\n\\item[jam] 1\n\\item[syukur] 1\n\\item[baik] 1\n\\item[overall] 1\n\\item[oke] 1\n\\item[viewnya] 1\n\\item[cocok] 1\n\\item[lepas] 1\n\\item[lelah] 1\n\\item[nunggu] 1\n\\item[fo] 1\n\\item[kamar] 1\n\\item[bersih] 1\n\\end{description*}\n",
            "text/plain": [
              "     ac    ayan   ramah   bagus  hangat  sayang    mati     jam  syukur    baik \n",
              "      4       2       2       2       1       1       1       1       1       1 \n",
              "overall     oke viewnya   cocok   lepas   lelah  nunggu      fo   kamar  bersih \n",
              "      1       1       1       1       1       1       1       1       1       1 "
            ]
          },
          "metadata": {}
        }
      ]
    },
    {
      "cell_type": "code",
      "source": [
        "# Install textplots\n",
        "#install.packages(\"quanteda.textplots\")\n",
        "#library(quanteda.textplots)\n",
        "textplot_wordcloud(hasildfm, min_count = 1, max_size = 7)"
      ],
      "metadata": {
        "colab": {
          "base_uri": "https://localhost:8080/",
          "height": 437
        },
        "id": "g5fxL8MHGli7",
        "outputId": "d54bd88b-a3a4-418f-a67b-a076f9ad9d5b"
      },
      "execution_count": 126,
      "outputs": [
        {
          "output_type": "display_data",
          "data": {
            "text/plain": [
              "plot without title"
            ],
            "image/png": "[encoded data removed]"
          },
          "metadata": {
            "image/png": {
              "width": 420,
              "height": 420
            }
          }
        }
      ]
    },
    {
      "cell_type": "code",
      "source": [
        ""
      ],
      "metadata": {
        "id": "v3Zn2OMcJWHq"
      },
      "execution_count": null,
      "outputs": []
    }
  ]
}