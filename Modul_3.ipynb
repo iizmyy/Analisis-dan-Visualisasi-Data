{
  "nbformat": 4,
  "nbformat_minor": 0,
  "metadata": {
    "colab": {
      "name": "Modul 3.ipynb",
      "provenance": [],
      "collapsed_sections": [],
      "authorship_tag": "ABX9TyNQy+5NKw1ulW2FUigTH80h",
      "include_colab_link": true
    },
    "kernelspec": {
      "name": "ir",
      "display_name": "R"
    },
    "language_info": {
      "name": "R"
    }
  },
  "cells": [
    {
      "cell_type": "markdown",
      "metadata": {
        "id": "view-in-github",
        "colab_type": "text"
      },
      "source": [
        "<a href=\"https://colab.research.google.com/github/iizmyy/Analisis-dan-Visualisasi-Data/blob/main/Modul_3.ipynb\" target=\"_parent\"><img src=\"https://colab.research.google.com/assets/colab-badge.svg\" alt=\"Open In Colab\"/></a>"
      ]
    },
    {
      "cell_type": "code",
      "execution_count": 3,
      "metadata": {
        "colab": {
          "base_uri": "https://localhost:8080/",
          "height": 225
        },
        "id": "drGqY3NxM6FA",
        "outputId": "9a728c94-cf33-4ab5-813e-84ffa43e06ed"
      },
      "outputs": [
        {
          "output_type": "stream",
          "name": "stdout",
          "text": [
            "'data.frame':\t55 obs. of  3 variables:\n",
            " $ Panjang: num  30 31.2 31.1 33.5 34 34.7 34.5 35 35.1 36.2 ...\n",
            " $ Tinggi : num  11.5 12.5 12.4 12.7 12.4 ...\n",
            " $ Lebar  : num  4.02 4.31 4.7 NA 5.13 ...\n"
          ]
        },
        {
          "output_type": "display_data",
          "data": {
            "text/plain": [
              "    Panjang          Tinggi           Lebar      \n",
              " Min.   :16.20   Min.   : 4.147   Min.   :2.268  \n",
              " 1st Qu.:26.75   1st Qu.: 7.060   1st Qu.:3.820  \n",
              " Median :35.00   Median :13.759   Median :4.927  \n",
              " Mean   :33.49   Mean   :12.096   Mean   :4.781  \n",
              " 3rd Qu.:39.35   3rd Qu.:15.496   3rd Qu.:5.580  \n",
              " Max.   :46.50   Max.   :18.957   Max.   :6.750  \n",
              "                                  NA's   :2      "
            ]
          },
          "metadata": {}
        }
      ],
      "source": [
        "#Membaca data\n",
        "dataikan <- read.csv(\"https://raw.githubusercontent.com/iizmyy/Analisis-dan-Visualisasi-Data/main/dataset/fish.csv\", header = TRUE, colClasses = c(\"NULL\", NA, NA, NA))\n",
        "# Melihat data secara sekilas\n",
        "str(dataikan)\n",
        "# Melihat ringkasan statistik setiap variabel pada data\n",
        "summary(dataikan)"
      ]
    },
    {
      "cell_type": "markdown",
      "source": [
        "####Penanganan Data Hilang dengan Penghapusan Kasus (Listwise or Case Deletion)"
      ],
      "metadata": {
        "id": "Ua8My33DgDDW"
      }
    },
    {
      "cell_type": "code",
      "source": [
        "datahilang <- dataikan[is.na(dataikan$Lebar),]\n",
        "datahilang\n",
        "datalengkap <- dataikan[!is.na(dataikan$Lebar),]\n",
        "datalengkap"
      ],
      "metadata": {
        "colab": {
          "base_uri": "https://localhost:8080/",
          "height": 1000
        },
        "id": "a7GbLuk1dyNy",
        "outputId": "4be187f2-4548-40e8-a79e-dc1224111be5"
      },
      "execution_count": 6,
      "outputs": [
        {
          "output_type": "display_data",
          "data": {
            "text/html": [
              "<table class=\"dataframe\">\n",
              "<caption>A data.frame: 2 × 3</caption>\n",
              "<thead>\n",
              "\t<tr><th></th><th scope=col>Panjang</th><th scope=col>Tinggi</th><th scope=col>Lebar</th></tr>\n",
              "\t<tr><th></th><th scope=col>&lt;dbl&gt;</th><th scope=col>&lt;dbl&gt;</th><th scope=col>&lt;dbl&gt;</th></tr>\n",
              "</thead>\n",
              "<tbody>\n",
              "\t<tr><th scope=row>4</th><td>33.5</td><td>12.7300</td><td>NA</td></tr>\n",
              "\t<tr><th scope=row>23</th><td>39.7</td><td>15.5227</td><td>NA</td></tr>\n",
              "</tbody>\n",
              "</table>\n"
            ],
            "text/markdown": "\nA data.frame: 2 × 3\n\n| <!--/--> | Panjang &lt;dbl&gt; | Tinggi &lt;dbl&gt; | Lebar &lt;dbl&gt; |\n|---|---|---|---|\n| 4 | 33.5 | 12.7300 | NA |\n| 23 | 39.7 | 15.5227 | NA |\n\n",
            "text/latex": "A data.frame: 2 × 3\n\\begin{tabular}{r|lll}\n  & Panjang & Tinggi & Lebar\\\\\n  & <dbl> & <dbl> & <dbl>\\\\\n\\hline\n\t4 & 33.5 & 12.7300 & NA\\\\\n\t23 & 39.7 & 15.5227 & NA\\\\\n\\end{tabular}\n",
            "text/plain": [
              "   Panjang Tinggi  Lebar\n",
              "4  33.5    12.7300 NA   \n",
              "23 39.7    15.5227 NA   "
            ]
          },
          "metadata": {}
        },
        {
          "output_type": "display_data",
          "data": {
            "text/html": [
              "<table class=\"dataframe\">\n",
              "<caption>A data.frame: 53 × 3</caption>\n",
              "<thead>\n",
              "\t<tr><th></th><th scope=col>Panjang</th><th scope=col>Tinggi</th><th scope=col>Lebar</th></tr>\n",
              "\t<tr><th></th><th scope=col>&lt;dbl&gt;</th><th scope=col>&lt;dbl&gt;</th><th scope=col>&lt;dbl&gt;</th></tr>\n",
              "</thead>\n",
              "<tbody>\n",
              "\t<tr><th scope=row>1</th><td>30.0</td><td>11.5200</td><td>4.0200</td></tr>\n",
              "\t<tr><th scope=row>2</th><td>31.2</td><td>12.4800</td><td>4.3056</td></tr>\n",
              "\t<tr><th scope=row>3</th><td>31.1</td><td>12.3778</td><td>4.6961</td></tr>\n",
              "\t<tr><th scope=row>5</th><td>34.0</td><td>12.4440</td><td>5.1340</td></tr>\n",
              "\t<tr><th scope=row>6</th><td>34.7</td><td>13.6024</td><td>4.9274</td></tr>\n",
              "\t<tr><th scope=row>7</th><td>34.5</td><td>14.1795</td><td>5.2785</td></tr>\n",
              "\t<tr><th scope=row>8</th><td>35.0</td><td>12.6700</td><td>4.6900</td></tr>\n",
              "\t<tr><th scope=row>9</th><td>35.1</td><td>14.0049</td><td>4.8438</td></tr>\n",
              "\t<tr><th scope=row>10</th><td>36.2</td><td>14.2266</td><td>4.9594</td></tr>\n",
              "\t<tr><th scope=row>11</th><td>36.2</td><td>14.2628</td><td>5.1042</td></tr>\n",
              "\t<tr><th scope=row>12</th><td>36.2</td><td>14.3714</td><td>4.8146</td></tr>\n",
              "\t<tr><th scope=row>13</th><td>36.4</td><td>13.7592</td><td>4.3680</td></tr>\n",
              "\t<tr><th scope=row>14</th><td>37.3</td><td>13.9129</td><td>5.0728</td></tr>\n",
              "\t<tr><th scope=row>15</th><td>37.2</td><td>14.9544</td><td>5.1708</td></tr>\n",
              "\t<tr><th scope=row>16</th><td>37.2</td><td>15.4380</td><td>5.5800</td></tr>\n",
              "\t<tr><th scope=row>17</th><td>38.3</td><td>14.8604</td><td>5.2854</td></tr>\n",
              "\t<tr><th scope=row>18</th><td>38.5</td><td>14.9380</td><td>5.1975</td></tr>\n",
              "\t<tr><th scope=row>19</th><td>38.6</td><td>15.6330</td><td>5.1338</td></tr>\n",
              "\t<tr><th scope=row>20</th><td>38.7</td><td>14.4738</td><td>5.7276</td></tr>\n",
              "\t<tr><th scope=row>21</th><td>39.5</td><td>15.1285</td><td>5.5695</td></tr>\n",
              "\t<tr><th scope=row>22</th><td>39.2</td><td>15.9936</td><td>5.3704</td></tr>\n",
              "\t<tr><th scope=row>24</th><td>40.6</td><td>15.4686</td><td>6.1306</td></tr>\n",
              "\t<tr><th scope=row>25</th><td>40.5</td><td>16.2405</td><td>5.5890</td></tr>\n",
              "\t<tr><th scope=row>26</th><td>40.9</td><td>16.3600</td><td>6.0532</td></tr>\n",
              "\t<tr><th scope=row>27</th><td>40.6</td><td>16.3618</td><td>6.0900</td></tr>\n",
              "\t<tr><th scope=row>28</th><td>41.5</td><td>16.5170</td><td>5.8515</td></tr>\n",
              "\t<tr><th scope=row>29</th><td>41.6</td><td>16.8896</td><td>6.1984</td></tr>\n",
              "\t<tr><th scope=row>30</th><td>42.6</td><td>18.9570</td><td>6.6030</td></tr>\n",
              "\t<tr><th scope=row>31</th><td>44.1</td><td>18.0369</td><td>6.3063</td></tr>\n",
              "\t<tr><th scope=row>32</th><td>44.0</td><td>18.0480</td><td>6.2920</td></tr>\n",
              "\t<tr><th scope=row>33</th><td>45.3</td><td>18.7542</td><td>6.7497</td></tr>\n",
              "\t<tr><th scope=row>34</th><td>45.9</td><td>18.6354</td><td>6.7473</td></tr>\n",
              "\t<tr><th scope=row>35</th><td>46.5</td><td>17.6235</td><td>6.3705</td></tr>\n",
              "\t<tr><th scope=row>36</th><td>16.2</td><td> 4.1472</td><td>2.2680</td></tr>\n",
              "\t<tr><th scope=row>37</th><td>20.3</td><td> 5.2983</td><td>2.8217</td></tr>\n",
              "\t<tr><th scope=row>38</th><td>21.2</td><td> 5.5756</td><td>2.9044</td></tr>\n",
              "\t<tr><th scope=row>39</th><td>22.2</td><td> 5.6166</td><td>3.1746</td></tr>\n",
              "\t<tr><th scope=row>40</th><td>22.2</td><td> 6.2160</td><td>3.5742</td></tr>\n",
              "\t<tr><th scope=row>41</th><td>22.8</td><td> 6.4752</td><td>3.3516</td></tr>\n",
              "\t<tr><th scope=row>42</th><td>23.1</td><td> 6.1677</td><td>3.3957</td></tr>\n",
              "\t<tr><th scope=row>43</th><td>23.7</td><td> 6.1146</td><td>3.2943</td></tr>\n",
              "\t<tr><th scope=row>44</th><td>24.7</td><td> 5.8045</td><td>3.7544</td></tr>\n",
              "\t<tr><th scope=row>45</th><td>24.3</td><td> 6.6339</td><td>3.5478</td></tr>\n",
              "\t<tr><th scope=row>46</th><td>25.3</td><td> 7.0334</td><td>3.8203</td></tr>\n",
              "\t<tr><th scope=row>47</th><td>25.0</td><td> 6.5500</td><td>3.3250</td></tr>\n",
              "\t<tr><th scope=row>48</th><td>25.0</td><td> 6.4000</td><td>3.8000</td></tr>\n",
              "\t<tr><th scope=row>49</th><td>27.2</td><td> 7.5344</td><td>3.8352</td></tr>\n",
              "\t<tr><th scope=row>50</th><td>26.7</td><td> 6.9153</td><td>3.6312</td></tr>\n",
              "\t<tr><th scope=row>51</th><td>26.8</td><td> 7.3968</td><td>4.1272</td></tr>\n",
              "\t<tr><th scope=row>52</th><td>27.9</td><td> 7.0866</td><td>3.9060</td></tr>\n",
              "\t<tr><th scope=row>53</th><td>29.2</td><td> 8.8768</td><td>4.4968</td></tr>\n",
              "\t<tr><th scope=row>54</th><td>30.6</td><td> 8.5680</td><td>4.7736</td></tr>\n",
              "\t<tr><th scope=row>55</th><td>35.0</td><td> 9.4850</td><td>5.3550</td></tr>\n",
              "</tbody>\n",
              "</table>\n"
            ],
            "text/markdown": "\nA data.frame: 53 × 3\n\n| <!--/--> | Panjang &lt;dbl&gt; | Tinggi &lt;dbl&gt; | Lebar &lt;dbl&gt; |\n|---|---|---|---|\n| 1 | 30.0 | 11.5200 | 4.0200 |\n| 2 | 31.2 | 12.4800 | 4.3056 |\n| 3 | 31.1 | 12.3778 | 4.6961 |\n| 5 | 34.0 | 12.4440 | 5.1340 |\n| 6 | 34.7 | 13.6024 | 4.9274 |\n| 7 | 34.5 | 14.1795 | 5.2785 |\n| 8 | 35.0 | 12.6700 | 4.6900 |\n| 9 | 35.1 | 14.0049 | 4.8438 |\n| 10 | 36.2 | 14.2266 | 4.9594 |\n| 11 | 36.2 | 14.2628 | 5.1042 |\n| 12 | 36.2 | 14.3714 | 4.8146 |\n| 13 | 36.4 | 13.7592 | 4.3680 |\n| 14 | 37.3 | 13.9129 | 5.0728 |\n| 15 | 37.2 | 14.9544 | 5.1708 |\n| 16 | 37.2 | 15.4380 | 5.5800 |\n| 17 | 38.3 | 14.8604 | 5.2854 |\n| 18 | 38.5 | 14.9380 | 5.1975 |\n| 19 | 38.6 | 15.6330 | 5.1338 |\n| 20 | 38.7 | 14.4738 | 5.7276 |\n| 21 | 39.5 | 15.1285 | 5.5695 |\n| 22 | 39.2 | 15.9936 | 5.3704 |\n| 24 | 40.6 | 15.4686 | 6.1306 |\n| 25 | 40.5 | 16.2405 | 5.5890 |\n| 26 | 40.9 | 16.3600 | 6.0532 |\n| 27 | 40.6 | 16.3618 | 6.0900 |\n| 28 | 41.5 | 16.5170 | 5.8515 |\n| 29 | 41.6 | 16.8896 | 6.1984 |\n| 30 | 42.6 | 18.9570 | 6.6030 |\n| 31 | 44.1 | 18.0369 | 6.3063 |\n| 32 | 44.0 | 18.0480 | 6.2920 |\n| 33 | 45.3 | 18.7542 | 6.7497 |\n| 34 | 45.9 | 18.6354 | 6.7473 |\n| 35 | 46.5 | 17.6235 | 6.3705 |\n| 36 | 16.2 |  4.1472 | 2.2680 |\n| 37 | 20.3 |  5.2983 | 2.8217 |\n| 38 | 21.2 |  5.5756 | 2.9044 |\n| 39 | 22.2 |  5.6166 | 3.1746 |\n| 40 | 22.2 |  6.2160 | 3.5742 |\n| 41 | 22.8 |  6.4752 | 3.3516 |\n| 42 | 23.1 |  6.1677 | 3.3957 |\n| 43 | 23.7 |  6.1146 | 3.2943 |\n| 44 | 24.7 |  5.8045 | 3.7544 |\n| 45 | 24.3 |  6.6339 | 3.5478 |\n| 46 | 25.3 |  7.0334 | 3.8203 |\n| 47 | 25.0 |  6.5500 | 3.3250 |\n| 48 | 25.0 |  6.4000 | 3.8000 |\n| 49 | 27.2 |  7.5344 | 3.8352 |\n| 50 | 26.7 |  6.9153 | 3.6312 |\n| 51 | 26.8 |  7.3968 | 4.1272 |\n| 52 | 27.9 |  7.0866 | 3.9060 |\n| 53 | 29.2 |  8.8768 | 4.4968 |\n| 54 | 30.6 |  8.5680 | 4.7736 |\n| 55 | 35.0 |  9.4850 | 5.3550 |\n\n",
            "text/latex": "A data.frame: 53 × 3\n\\begin{tabular}{r|lll}\n  & Panjang & Tinggi & Lebar\\\\\n  & <dbl> & <dbl> & <dbl>\\\\\n\\hline\n\t1 & 30.0 & 11.5200 & 4.0200\\\\\n\t2 & 31.2 & 12.4800 & 4.3056\\\\\n\t3 & 31.1 & 12.3778 & 4.6961\\\\\n\t5 & 34.0 & 12.4440 & 5.1340\\\\\n\t6 & 34.7 & 13.6024 & 4.9274\\\\\n\t7 & 34.5 & 14.1795 & 5.2785\\\\\n\t8 & 35.0 & 12.6700 & 4.6900\\\\\n\t9 & 35.1 & 14.0049 & 4.8438\\\\\n\t10 & 36.2 & 14.2266 & 4.9594\\\\\n\t11 & 36.2 & 14.2628 & 5.1042\\\\\n\t12 & 36.2 & 14.3714 & 4.8146\\\\\n\t13 & 36.4 & 13.7592 & 4.3680\\\\\n\t14 & 37.3 & 13.9129 & 5.0728\\\\\n\t15 & 37.2 & 14.9544 & 5.1708\\\\\n\t16 & 37.2 & 15.4380 & 5.5800\\\\\n\t17 & 38.3 & 14.8604 & 5.2854\\\\\n\t18 & 38.5 & 14.9380 & 5.1975\\\\\n\t19 & 38.6 & 15.6330 & 5.1338\\\\\n\t20 & 38.7 & 14.4738 & 5.7276\\\\\n\t21 & 39.5 & 15.1285 & 5.5695\\\\\n\t22 & 39.2 & 15.9936 & 5.3704\\\\\n\t24 & 40.6 & 15.4686 & 6.1306\\\\\n\t25 & 40.5 & 16.2405 & 5.5890\\\\\n\t26 & 40.9 & 16.3600 & 6.0532\\\\\n\t27 & 40.6 & 16.3618 & 6.0900\\\\\n\t28 & 41.5 & 16.5170 & 5.8515\\\\\n\t29 & 41.6 & 16.8896 & 6.1984\\\\\n\t30 & 42.6 & 18.9570 & 6.6030\\\\\n\t31 & 44.1 & 18.0369 & 6.3063\\\\\n\t32 & 44.0 & 18.0480 & 6.2920\\\\\n\t33 & 45.3 & 18.7542 & 6.7497\\\\\n\t34 & 45.9 & 18.6354 & 6.7473\\\\\n\t35 & 46.5 & 17.6235 & 6.3705\\\\\n\t36 & 16.2 &  4.1472 & 2.2680\\\\\n\t37 & 20.3 &  5.2983 & 2.8217\\\\\n\t38 & 21.2 &  5.5756 & 2.9044\\\\\n\t39 & 22.2 &  5.6166 & 3.1746\\\\\n\t40 & 22.2 &  6.2160 & 3.5742\\\\\n\t41 & 22.8 &  6.4752 & 3.3516\\\\\n\t42 & 23.1 &  6.1677 & 3.3957\\\\\n\t43 & 23.7 &  6.1146 & 3.2943\\\\\n\t44 & 24.7 &  5.8045 & 3.7544\\\\\n\t45 & 24.3 &  6.6339 & 3.5478\\\\\n\t46 & 25.3 &  7.0334 & 3.8203\\\\\n\t47 & 25.0 &  6.5500 & 3.3250\\\\\n\t48 & 25.0 &  6.4000 & 3.8000\\\\\n\t49 & 27.2 &  7.5344 & 3.8352\\\\\n\t50 & 26.7 &  6.9153 & 3.6312\\\\\n\t51 & 26.8 &  7.3968 & 4.1272\\\\\n\t52 & 27.9 &  7.0866 & 3.9060\\\\\n\t53 & 29.2 &  8.8768 & 4.4968\\\\\n\t54 & 30.6 &  8.5680 & 4.7736\\\\\n\t55 & 35.0 &  9.4850 & 5.3550\\\\\n\\end{tabular}\n",
            "text/plain": [
              "   Panjang Tinggi  Lebar \n",
              "1  30.0    11.5200 4.0200\n",
              "2  31.2    12.4800 4.3056\n",
              "3  31.1    12.3778 4.6961\n",
              "5  34.0    12.4440 5.1340\n",
              "6  34.7    13.6024 4.9274\n",
              "7  34.5    14.1795 5.2785\n",
              "8  35.0    12.6700 4.6900\n",
              "9  35.1    14.0049 4.8438\n",
              "10 36.2    14.2266 4.9594\n",
              "11 36.2    14.2628 5.1042\n",
              "12 36.2    14.3714 4.8146\n",
              "13 36.4    13.7592 4.3680\n",
              "14 37.3    13.9129 5.0728\n",
              "15 37.2    14.9544 5.1708\n",
              "16 37.2    15.4380 5.5800\n",
              "17 38.3    14.8604 5.2854\n",
              "18 38.5    14.9380 5.1975\n",
              "19 38.6    15.6330 5.1338\n",
              "20 38.7    14.4738 5.7276\n",
              "21 39.5    15.1285 5.5695\n",
              "22 39.2    15.9936 5.3704\n",
              "24 40.6    15.4686 6.1306\n",
              "25 40.5    16.2405 5.5890\n",
              "26 40.9    16.3600 6.0532\n",
              "27 40.6    16.3618 6.0900\n",
              "28 41.5    16.5170 5.8515\n",
              "29 41.6    16.8896 6.1984\n",
              "30 42.6    18.9570 6.6030\n",
              "31 44.1    18.0369 6.3063\n",
              "32 44.0    18.0480 6.2920\n",
              "33 45.3    18.7542 6.7497\n",
              "34 45.9    18.6354 6.7473\n",
              "35 46.5    17.6235 6.3705\n",
              "36 16.2     4.1472 2.2680\n",
              "37 20.3     5.2983 2.8217\n",
              "38 21.2     5.5756 2.9044\n",
              "39 22.2     5.6166 3.1746\n",
              "40 22.2     6.2160 3.5742\n",
              "41 22.8     6.4752 3.3516\n",
              "42 23.1     6.1677 3.3957\n",
              "43 23.7     6.1146 3.2943\n",
              "44 24.7     5.8045 3.7544\n",
              "45 24.3     6.6339 3.5478\n",
              "46 25.3     7.0334 3.8203\n",
              "47 25.0     6.5500 3.3250\n",
              "48 25.0     6.4000 3.8000\n",
              "49 27.2     7.5344 3.8352\n",
              "50 26.7     6.9153 3.6312\n",
              "51 26.8     7.3968 4.1272\n",
              "52 27.9     7.0866 3.9060\n",
              "53 29.2     8.8768 4.4968\n",
              "54 30.6     8.5680 4.7736\n",
              "55 35.0     9.4850 5.3550"
            ]
          },
          "metadata": {}
        }
      ]
    },
    {
      "cell_type": "code",
      "source": [
        "model.1 <- lm(Tinggi~.,data=datalengkap)\n",
        "model.1"
      ],
      "metadata": {
        "colab": {
          "base_uri": "https://localhost:8080/",
          "height": 139
        },
        "id": "G3b1Dvvai2CM",
        "outputId": "fe28004f-1ebe-4562-c8a9-02fe1898d468"
      },
      "execution_count": null,
      "outputs": [
        {
          "output_type": "display_data",
          "data": {
            "text/plain": [
              "\n",
              "Call:\n",
              "lm(formula = Tinggi ~ ., data = datalengkap)\n",
              "\n",
              "Coefficients:\n",
              "(Intercept)      Panjang        Lebar  \n",
              "    -6.8942       0.6315      -0.4516  \n"
            ]
          },
          "metadata": {}
        }
      ]
    },
    {
      "cell_type": "code",
      "source": [
        "model.2 <- lm(Tinggi~Panjang,data=datalengkap)\n",
        "model.2"
      ],
      "metadata": {
        "colab": {
          "base_uri": "https://localhost:8080/",
          "height": 139
        },
        "id": "d7FnauIxjIqI",
        "outputId": "85e6919d-c78b-4680-d7bb-1d186f7c1d3d"
      },
      "execution_count": null,
      "outputs": [
        {
          "output_type": "display_data",
          "data": {
            "text/plain": [
              "\n",
              "Call:\n",
              "lm(formula = Tinggi ~ Panjang, data = datalengkap)\n",
              "\n",
              "Coefficients:\n",
              "(Intercept)      Panjang  \n",
              "    -6.9236       0.5677  \n"
            ]
          },
          "metadata": {}
        }
      ]
    },
    {
      "cell_type": "markdown",
      "source": [
        "#### Penanganan Data Hilang dengan Penghapusan Berpasangan (Pairwise Deletion)"
      ],
      "metadata": {
        "id": "VH_5R0bslB2t"
      }
    },
    {
      "cell_type": "code",
      "source": [
        "model.3 <- lm(Tinggi~., data=datalengkap)\n",
        "model.3"
      ],
      "metadata": {
        "colab": {
          "base_uri": "https://localhost:8080/",
          "height": 139
        },
        "id": "bD8dkmOgkaKm",
        "outputId": "95a81c0a-4bfb-4a73-bd7f-6aede74fad35"
      },
      "execution_count": null,
      "outputs": [
        {
          "output_type": "display_data",
          "data": {
            "text/plain": [
              "\n",
              "Call:\n",
              "lm(formula = Tinggi ~ ., data = datalengkap)\n",
              "\n",
              "Coefficients:\n",
              "(Intercept)      Panjang        Lebar  \n",
              "    -6.8942       0.6315      -0.4516  \n"
            ]
          },
          "metadata": {}
        }
      ]
    },
    {
      "cell_type": "code",
      "source": [
        "model.4 <- lm(Tinggi~Panjang, data=dataikan)\n",
        "model.4"
      ],
      "metadata": {
        "colab": {
          "base_uri": "https://localhost:8080/",
          "height": 139
        },
        "id": "2csPVuZ2YhYz",
        "outputId": "fc7cfa72-dd23-4279-bfaa-6b2accd63dcc"
      },
      "execution_count": null,
      "outputs": [
        {
          "output_type": "display_data",
          "data": {
            "text/plain": [
              "\n",
              "Call:\n",
              "lm(formula = Tinggi ~ Panjang, data = dataikan)\n",
              "\n",
              "Coefficients:\n",
              "(Intercept)      Panjang  \n",
              "    -6.9079       0.5675  \n"
            ]
          },
          "metadata": {}
        }
      ]
    },
    {
      "cell_type": "markdown",
      "source": [
        "### Penanganan Data Hilang dengan Penggantian dengan Rataan (Mean Substitution)"
      ],
      "metadata": {
        "id": "qpOsTZ0ykfMd"
      }
    },
    {
      "cell_type": "code",
      "source": [
        "rataan.lebar <- mean(datalengkap$Lebar)\n",
        "rataan.lebar\n",
        "Lebar.2 <- ifelse(is.na(dataikan$Lebar), rataan.lebar, dataikan$Lebar)\n",
        "datalengkap.2 <- data.frame(dataikan[,1:2],Lebar.2)\n",
        "datalengkap.2"
      ],
      "metadata": {
        "colab": {
          "base_uri": "https://localhost:8080/",
          "height": 1000
        },
        "id": "mfbbDJa4YCoL",
        "outputId": "52e44f25-8cf2-40cd-9c65-28be7ab7803a"
      },
      "execution_count": 12,
      "outputs": [
        {
          "output_type": "display_data",
          "data": {
            "text/html": [
              "4.78090377358491"
            ],
            "text/markdown": "4.78090377358491",
            "text/latex": "4.78090377358491",
            "text/plain": [
              "[1] 4.780904"
            ]
          },
          "metadata": {}
        },
        {
          "output_type": "display_data",
          "data": {
            "text/html": [
              "<table class=\"dataframe\">\n",
              "<caption>A data.frame: 55 × 3</caption>\n",
              "<thead>\n",
              "\t<tr><th scope=col>Panjang</th><th scope=col>Tinggi</th><th scope=col>Lebar.2</th></tr>\n",
              "\t<tr><th scope=col>&lt;dbl&gt;</th><th scope=col>&lt;dbl&gt;</th><th scope=col>&lt;dbl&gt;</th></tr>\n",
              "</thead>\n",
              "<tbody>\n",
              "\t<tr><td>30.0</td><td>11.5200</td><td>4.020000</td></tr>\n",
              "\t<tr><td>31.2</td><td>12.4800</td><td>4.305600</td></tr>\n",
              "\t<tr><td>31.1</td><td>12.3778</td><td>4.696100</td></tr>\n",
              "\t<tr><td>33.5</td><td>12.7300</td><td>4.780904</td></tr>\n",
              "\t<tr><td>34.0</td><td>12.4440</td><td>5.134000</td></tr>\n",
              "\t<tr><td>34.7</td><td>13.6024</td><td>4.927400</td></tr>\n",
              "\t<tr><td>34.5</td><td>14.1795</td><td>5.278500</td></tr>\n",
              "\t<tr><td>35.0</td><td>12.6700</td><td>4.690000</td></tr>\n",
              "\t<tr><td>35.1</td><td>14.0049</td><td>4.843800</td></tr>\n",
              "\t<tr><td>36.2</td><td>14.2266</td><td>4.959400</td></tr>\n",
              "\t<tr><td>36.2</td><td>14.2628</td><td>5.104200</td></tr>\n",
              "\t<tr><td>36.2</td><td>14.3714</td><td>4.814600</td></tr>\n",
              "\t<tr><td>36.4</td><td>13.7592</td><td>4.368000</td></tr>\n",
              "\t<tr><td>37.3</td><td>13.9129</td><td>5.072800</td></tr>\n",
              "\t<tr><td>37.2</td><td>14.9544</td><td>5.170800</td></tr>\n",
              "\t<tr><td>37.2</td><td>15.4380</td><td>5.580000</td></tr>\n",
              "\t<tr><td>38.3</td><td>14.8604</td><td>5.285400</td></tr>\n",
              "\t<tr><td>38.5</td><td>14.9380</td><td>5.197500</td></tr>\n",
              "\t<tr><td>38.6</td><td>15.6330</td><td>5.133800</td></tr>\n",
              "\t<tr><td>38.7</td><td>14.4738</td><td>5.727600</td></tr>\n",
              "\t<tr><td>39.5</td><td>15.1285</td><td>5.569500</td></tr>\n",
              "\t<tr><td>39.2</td><td>15.9936</td><td>5.370400</td></tr>\n",
              "\t<tr><td>39.7</td><td>15.5227</td><td>4.780904</td></tr>\n",
              "\t<tr><td>40.6</td><td>15.4686</td><td>6.130600</td></tr>\n",
              "\t<tr><td>40.5</td><td>16.2405</td><td>5.589000</td></tr>\n",
              "\t<tr><td>40.9</td><td>16.3600</td><td>6.053200</td></tr>\n",
              "\t<tr><td>40.6</td><td>16.3618</td><td>6.090000</td></tr>\n",
              "\t<tr><td>41.5</td><td>16.5170</td><td>5.851500</td></tr>\n",
              "\t<tr><td>41.6</td><td>16.8896</td><td>6.198400</td></tr>\n",
              "\t<tr><td>42.6</td><td>18.9570</td><td>6.603000</td></tr>\n",
              "\t<tr><td>44.1</td><td>18.0369</td><td>6.306300</td></tr>\n",
              "\t<tr><td>44.0</td><td>18.0480</td><td>6.292000</td></tr>\n",
              "\t<tr><td>45.3</td><td>18.7542</td><td>6.749700</td></tr>\n",
              "\t<tr><td>45.9</td><td>18.6354</td><td>6.747300</td></tr>\n",
              "\t<tr><td>46.5</td><td>17.6235</td><td>6.370500</td></tr>\n",
              "\t<tr><td>16.2</td><td> 4.1472</td><td>2.268000</td></tr>\n",
              "\t<tr><td>20.3</td><td> 5.2983</td><td>2.821700</td></tr>\n",
              "\t<tr><td>21.2</td><td> 5.5756</td><td>2.904400</td></tr>\n",
              "\t<tr><td>22.2</td><td> 5.6166</td><td>3.174600</td></tr>\n",
              "\t<tr><td>22.2</td><td> 6.2160</td><td>3.574200</td></tr>\n",
              "\t<tr><td>22.8</td><td> 6.4752</td><td>3.351600</td></tr>\n",
              "\t<tr><td>23.1</td><td> 6.1677</td><td>3.395700</td></tr>\n",
              "\t<tr><td>23.7</td><td> 6.1146</td><td>3.294300</td></tr>\n",
              "\t<tr><td>24.7</td><td> 5.8045</td><td>3.754400</td></tr>\n",
              "\t<tr><td>24.3</td><td> 6.6339</td><td>3.547800</td></tr>\n",
              "\t<tr><td>25.3</td><td> 7.0334</td><td>3.820300</td></tr>\n",
              "\t<tr><td>25.0</td><td> 6.5500</td><td>3.325000</td></tr>\n",
              "\t<tr><td>25.0</td><td> 6.4000</td><td>3.800000</td></tr>\n",
              "\t<tr><td>27.2</td><td> 7.5344</td><td>3.835200</td></tr>\n",
              "\t<tr><td>26.7</td><td> 6.9153</td><td>3.631200</td></tr>\n",
              "\t<tr><td>26.8</td><td> 7.3968</td><td>4.127200</td></tr>\n",
              "\t<tr><td>27.9</td><td> 7.0866</td><td>3.906000</td></tr>\n",
              "\t<tr><td>29.2</td><td> 8.8768</td><td>4.496800</td></tr>\n",
              "\t<tr><td>30.6</td><td> 8.5680</td><td>4.773600</td></tr>\n",
              "\t<tr><td>35.0</td><td> 9.4850</td><td>5.355000</td></tr>\n",
              "</tbody>\n",
              "</table>\n"
            ],
            "text/markdown": "\nA data.frame: 55 × 3\n\n| Panjang &lt;dbl&gt; | Tinggi &lt;dbl&gt; | Lebar.2 &lt;dbl&gt; |\n|---|---|---|\n| 30.0 | 11.5200 | 4.020000 |\n| 31.2 | 12.4800 | 4.305600 |\n| 31.1 | 12.3778 | 4.696100 |\n| 33.5 | 12.7300 | 4.780904 |\n| 34.0 | 12.4440 | 5.134000 |\n| 34.7 | 13.6024 | 4.927400 |\n| 34.5 | 14.1795 | 5.278500 |\n| 35.0 | 12.6700 | 4.690000 |\n| 35.1 | 14.0049 | 4.843800 |\n| 36.2 | 14.2266 | 4.959400 |\n| 36.2 | 14.2628 | 5.104200 |\n| 36.2 | 14.3714 | 4.814600 |\n| 36.4 | 13.7592 | 4.368000 |\n| 37.3 | 13.9129 | 5.072800 |\n| 37.2 | 14.9544 | 5.170800 |\n| 37.2 | 15.4380 | 5.580000 |\n| 38.3 | 14.8604 | 5.285400 |\n| 38.5 | 14.9380 | 5.197500 |\n| 38.6 | 15.6330 | 5.133800 |\n| 38.7 | 14.4738 | 5.727600 |\n| 39.5 | 15.1285 | 5.569500 |\n| 39.2 | 15.9936 | 5.370400 |\n| 39.7 | 15.5227 | 4.780904 |\n| 40.6 | 15.4686 | 6.130600 |\n| 40.5 | 16.2405 | 5.589000 |\n| 40.9 | 16.3600 | 6.053200 |\n| 40.6 | 16.3618 | 6.090000 |\n| 41.5 | 16.5170 | 5.851500 |\n| 41.6 | 16.8896 | 6.198400 |\n| 42.6 | 18.9570 | 6.603000 |\n| 44.1 | 18.0369 | 6.306300 |\n| 44.0 | 18.0480 | 6.292000 |\n| 45.3 | 18.7542 | 6.749700 |\n| 45.9 | 18.6354 | 6.747300 |\n| 46.5 | 17.6235 | 6.370500 |\n| 16.2 |  4.1472 | 2.268000 |\n| 20.3 |  5.2983 | 2.821700 |\n| 21.2 |  5.5756 | 2.904400 |\n| 22.2 |  5.6166 | 3.174600 |\n| 22.2 |  6.2160 | 3.574200 |\n| 22.8 |  6.4752 | 3.351600 |\n| 23.1 |  6.1677 | 3.395700 |\n| 23.7 |  6.1146 | 3.294300 |\n| 24.7 |  5.8045 | 3.754400 |\n| 24.3 |  6.6339 | 3.547800 |\n| 25.3 |  7.0334 | 3.820300 |\n| 25.0 |  6.5500 | 3.325000 |\n| 25.0 |  6.4000 | 3.800000 |\n| 27.2 |  7.5344 | 3.835200 |\n| 26.7 |  6.9153 | 3.631200 |\n| 26.8 |  7.3968 | 4.127200 |\n| 27.9 |  7.0866 | 3.906000 |\n| 29.2 |  8.8768 | 4.496800 |\n| 30.6 |  8.5680 | 4.773600 |\n| 35.0 |  9.4850 | 5.355000 |\n\n",
            "text/latex": "A data.frame: 55 × 3\n\\begin{tabular}{lll}\n Panjang & Tinggi & Lebar.2\\\\\n <dbl> & <dbl> & <dbl>\\\\\n\\hline\n\t 30.0 & 11.5200 & 4.020000\\\\\n\t 31.2 & 12.4800 & 4.305600\\\\\n\t 31.1 & 12.3778 & 4.696100\\\\\n\t 33.5 & 12.7300 & 4.780904\\\\\n\t 34.0 & 12.4440 & 5.134000\\\\\n\t 34.7 & 13.6024 & 4.927400\\\\\n\t 34.5 & 14.1795 & 5.278500\\\\\n\t 35.0 & 12.6700 & 4.690000\\\\\n\t 35.1 & 14.0049 & 4.843800\\\\\n\t 36.2 & 14.2266 & 4.959400\\\\\n\t 36.2 & 14.2628 & 5.104200\\\\\n\t 36.2 & 14.3714 & 4.814600\\\\\n\t 36.4 & 13.7592 & 4.368000\\\\\n\t 37.3 & 13.9129 & 5.072800\\\\\n\t 37.2 & 14.9544 & 5.170800\\\\\n\t 37.2 & 15.4380 & 5.580000\\\\\n\t 38.3 & 14.8604 & 5.285400\\\\\n\t 38.5 & 14.9380 & 5.197500\\\\\n\t 38.6 & 15.6330 & 5.133800\\\\\n\t 38.7 & 14.4738 & 5.727600\\\\\n\t 39.5 & 15.1285 & 5.569500\\\\\n\t 39.2 & 15.9936 & 5.370400\\\\\n\t 39.7 & 15.5227 & 4.780904\\\\\n\t 40.6 & 15.4686 & 6.130600\\\\\n\t 40.5 & 16.2405 & 5.589000\\\\\n\t 40.9 & 16.3600 & 6.053200\\\\\n\t 40.6 & 16.3618 & 6.090000\\\\\n\t 41.5 & 16.5170 & 5.851500\\\\\n\t 41.6 & 16.8896 & 6.198400\\\\\n\t 42.6 & 18.9570 & 6.603000\\\\\n\t 44.1 & 18.0369 & 6.306300\\\\\n\t 44.0 & 18.0480 & 6.292000\\\\\n\t 45.3 & 18.7542 & 6.749700\\\\\n\t 45.9 & 18.6354 & 6.747300\\\\\n\t 46.5 & 17.6235 & 6.370500\\\\\n\t 16.2 &  4.1472 & 2.268000\\\\\n\t 20.3 &  5.2983 & 2.821700\\\\\n\t 21.2 &  5.5756 & 2.904400\\\\\n\t 22.2 &  5.6166 & 3.174600\\\\\n\t 22.2 &  6.2160 & 3.574200\\\\\n\t 22.8 &  6.4752 & 3.351600\\\\\n\t 23.1 &  6.1677 & 3.395700\\\\\n\t 23.7 &  6.1146 & 3.294300\\\\\n\t 24.7 &  5.8045 & 3.754400\\\\\n\t 24.3 &  6.6339 & 3.547800\\\\\n\t 25.3 &  7.0334 & 3.820300\\\\\n\t 25.0 &  6.5500 & 3.325000\\\\\n\t 25.0 &  6.4000 & 3.800000\\\\\n\t 27.2 &  7.5344 & 3.835200\\\\\n\t 26.7 &  6.9153 & 3.631200\\\\\n\t 26.8 &  7.3968 & 4.127200\\\\\n\t 27.9 &  7.0866 & 3.906000\\\\\n\t 29.2 &  8.8768 & 4.496800\\\\\n\t 30.6 &  8.5680 & 4.773600\\\\\n\t 35.0 &  9.4850 & 5.355000\\\\\n\\end{tabular}\n",
            "text/plain": [
              "   Panjang Tinggi  Lebar.2 \n",
              "1  30.0    11.5200 4.020000\n",
              "2  31.2    12.4800 4.305600\n",
              "3  31.1    12.3778 4.696100\n",
              "4  33.5    12.7300 4.780904\n",
              "5  34.0    12.4440 5.134000\n",
              "6  34.7    13.6024 4.927400\n",
              "7  34.5    14.1795 5.278500\n",
              "8  35.0    12.6700 4.690000\n",
              "9  35.1    14.0049 4.843800\n",
              "10 36.2    14.2266 4.959400\n",
              "11 36.2    14.2628 5.104200\n",
              "12 36.2    14.3714 4.814600\n",
              "13 36.4    13.7592 4.368000\n",
              "14 37.3    13.9129 5.072800\n",
              "15 37.2    14.9544 5.170800\n",
              "16 37.2    15.4380 5.580000\n",
              "17 38.3    14.8604 5.285400\n",
              "18 38.5    14.9380 5.197500\n",
              "19 38.6    15.6330 5.133800\n",
              "20 38.7    14.4738 5.727600\n",
              "21 39.5    15.1285 5.569500\n",
              "22 39.2    15.9936 5.370400\n",
              "23 39.7    15.5227 4.780904\n",
              "24 40.6    15.4686 6.130600\n",
              "25 40.5    16.2405 5.589000\n",
              "26 40.9    16.3600 6.053200\n",
              "27 40.6    16.3618 6.090000\n",
              "28 41.5    16.5170 5.851500\n",
              "29 41.6    16.8896 6.198400\n",
              "30 42.6    18.9570 6.603000\n",
              "31 44.1    18.0369 6.306300\n",
              "32 44.0    18.0480 6.292000\n",
              "33 45.3    18.7542 6.749700\n",
              "34 45.9    18.6354 6.747300\n",
              "35 46.5    17.6235 6.370500\n",
              "36 16.2     4.1472 2.268000\n",
              "37 20.3     5.2983 2.821700\n",
              "38 21.2     5.5756 2.904400\n",
              "39 22.2     5.6166 3.174600\n",
              "40 22.2     6.2160 3.574200\n",
              "41 22.8     6.4752 3.351600\n",
              "42 23.1     6.1677 3.395700\n",
              "43 23.7     6.1146 3.294300\n",
              "44 24.7     5.8045 3.754400\n",
              "45 24.3     6.6339 3.547800\n",
              "46 25.3     7.0334 3.820300\n",
              "47 25.0     6.5500 3.325000\n",
              "48 25.0     6.4000 3.800000\n",
              "49 27.2     7.5344 3.835200\n",
              "50 26.7     6.9153 3.631200\n",
              "51 26.8     7.3968 4.127200\n",
              "52 27.9     7.0866 3.906000\n",
              "53 29.2     8.8768 4.496800\n",
              "54 30.6     8.5680 4.773600\n",
              "55 35.0     9.4850 5.355000"
            ]
          },
          "metadata": {}
        }
      ]
    },
    {
      "cell_type": "code",
      "source": [
        "model.5 <- lm(Tinggi~., data=datalengkap.2)\n",
        "model.5"
      ],
      "metadata": {
        "colab": {
          "base_uri": "https://localhost:8080/",
          "height": 139
        },
        "id": "rQQLzZlCax8o",
        "outputId": "baeeecc1-b419-4662-9649-5a4b7a35c1a8"
      },
      "execution_count": null,
      "outputs": [
        {
          "output_type": "display_data",
          "data": {
            "text/plain": [
              "\n",
              "Call:\n",
              "lm(formula = Tinggi ~ ., data = datalengkap.2)\n",
              "\n",
              "Coefficients:\n",
              "(Intercept)      Panjang      Lebar.2  \n",
              "    -6.8699       0.6169      -0.3542  \n"
            ]
          },
          "metadata": {}
        }
      ]
    },
    {
      "cell_type": "markdown",
      "source": [
        "### Penangan Data Hilang dengan Pengisian dengan Regresi (Regression Imputation)"
      ],
      "metadata": {
        "id": "4XAPia5RbJDg"
      }
    },
    {
      "cell_type": "code",
      "source": [
        "reg <- lm(Lebar~Tinggi, data=datalengkap)\n",
        "reg"
      ],
      "metadata": {
        "colab": {
          "base_uri": "https://localhost:8080/",
          "height": 139
        },
        "id": "foCP_SdNbQd3",
        "outputId": "4d254059-832e-40e5-d022-53523b951d72"
      },
      "execution_count": null,
      "outputs": [
        {
          "output_type": "display_data",
          "data": {
            "text/plain": [
              "\n",
              "Call:\n",
              "lm(formula = Lebar ~ Tinggi, data = datalengkap)\n",
              "\n",
              "Coefficients:\n",
              "(Intercept)       Tinggi  \n",
              "     1.9607       0.2346  \n"
            ]
          },
          "metadata": {}
        }
      ]
    },
    {
      "cell_type": "code",
      "source": [
        "prediksi.lebar <- predict(reg,newdata = datahilang)\n",
        "prediksi.lebar\n",
        "\n",
        "Lebar.3 <- dataikan$Lebar\n",
        "Lebar.3[c(4,23)] <- prediksi.lebar\n",
        "\n",
        "datalengkap.3 <- data.frame(dataikan[,1:2],Lebar.3)\n",
        "datalengkap.3"
      ],
      "metadata": {
        "colab": {
          "base_uri": "https://localhost:8080/",
          "height": 1000
        },
        "id": "f1gcxwvIbuDa",
        "outputId": "2b3b6974-2c0e-4732-bc63-0cc1d2c13d70"
      },
      "execution_count": null,
      "outputs": [
        {
          "output_type": "display_data",
          "data": {
            "text/html": [
              "<style>\n",
              ".dl-inline {width: auto; margin:0; padding: 0}\n",
              ".dl-inline>dt, .dl-inline>dd {float: none; width: auto; display: inline-block}\n",
              ".dl-inline>dt::after {content: \":\\0020\"; padding-right: .5ex}\n",
              ".dl-inline>dt:not(:first-of-type) {padding-left: .5ex}\n",
              "</style><dl class=dl-inline><dt>4</dt><dd>4.94767744826654</dd><dt>23</dt><dd>5.60295821481056</dd></dl>\n"
            ],
            "text/markdown": "4\n:   4.9476774482665423\n:   5.60295821481056\n\n",
            "text/latex": "\\begin{description*}\n\\item[4] 4.94767744826654\n\\item[23] 5.60295821481056\n\\end{description*}\n",
            "text/plain": [
              "       4       23 \n",
              "4.947677 5.602958 "
            ]
          },
          "metadata": {}
        },
        {
          "output_type": "display_data",
          "data": {
            "text/html": [
              "<table class=\"dataframe\">\n",
              "<caption>A data.frame: 55 × 3</caption>\n",
              "<thead>\n",
              "\t<tr><th scope=col>Panjang</th><th scope=col>Tinggi</th><th scope=col>Lebar.3</th></tr>\n",
              "\t<tr><th scope=col>&lt;dbl&gt;</th><th scope=col>&lt;dbl&gt;</th><th scope=col>&lt;dbl&gt;</th></tr>\n",
              "</thead>\n",
              "<tbody>\n",
              "\t<tr><td>30.0</td><td>11.5200</td><td>4.020000</td></tr>\n",
              "\t<tr><td>31.2</td><td>12.4800</td><td>4.305600</td></tr>\n",
              "\t<tr><td>31.1</td><td>12.3778</td><td>4.696100</td></tr>\n",
              "\t<tr><td>33.5</td><td>12.7300</td><td>4.947677</td></tr>\n",
              "\t<tr><td>34.0</td><td>12.4440</td><td>5.134000</td></tr>\n",
              "\t<tr><td>34.7</td><td>13.6024</td><td>4.927400</td></tr>\n",
              "\t<tr><td>34.5</td><td>14.1795</td><td>5.278500</td></tr>\n",
              "\t<tr><td>35.0</td><td>12.6700</td><td>4.690000</td></tr>\n",
              "\t<tr><td>35.1</td><td>14.0049</td><td>4.843800</td></tr>\n",
              "\t<tr><td>36.2</td><td>14.2266</td><td>4.959400</td></tr>\n",
              "\t<tr><td>36.2</td><td>14.2628</td><td>5.104200</td></tr>\n",
              "\t<tr><td>36.2</td><td>14.3714</td><td>4.814600</td></tr>\n",
              "\t<tr><td>36.4</td><td>13.7592</td><td>4.368000</td></tr>\n",
              "\t<tr><td>37.3</td><td>13.9129</td><td>5.072800</td></tr>\n",
              "\t<tr><td>37.2</td><td>14.9544</td><td>5.170800</td></tr>\n",
              "\t<tr><td>37.2</td><td>15.4380</td><td>5.580000</td></tr>\n",
              "\t<tr><td>38.3</td><td>14.8604</td><td>5.285400</td></tr>\n",
              "\t<tr><td>38.5</td><td>14.9380</td><td>5.197500</td></tr>\n",
              "\t<tr><td>38.6</td><td>15.6330</td><td>5.133800</td></tr>\n",
              "\t<tr><td>38.7</td><td>14.4738</td><td>5.727600</td></tr>\n",
              "\t<tr><td>39.5</td><td>15.1285</td><td>5.569500</td></tr>\n",
              "\t<tr><td>39.2</td><td>15.9936</td><td>5.370400</td></tr>\n",
              "\t<tr><td>39.7</td><td>15.5227</td><td>5.602958</td></tr>\n",
              "\t<tr><td>40.6</td><td>15.4686</td><td>6.130600</td></tr>\n",
              "\t<tr><td>40.5</td><td>16.2405</td><td>5.589000</td></tr>\n",
              "\t<tr><td>40.9</td><td>16.3600</td><td>6.053200</td></tr>\n",
              "\t<tr><td>40.6</td><td>16.3618</td><td>6.090000</td></tr>\n",
              "\t<tr><td>41.5</td><td>16.5170</td><td>5.851500</td></tr>\n",
              "\t<tr><td>41.6</td><td>16.8896</td><td>6.198400</td></tr>\n",
              "\t<tr><td>42.6</td><td>18.9570</td><td>6.603000</td></tr>\n",
              "\t<tr><td>44.1</td><td>18.0369</td><td>6.306300</td></tr>\n",
              "\t<tr><td>44.0</td><td>18.0480</td><td>6.292000</td></tr>\n",
              "\t<tr><td>45.3</td><td>18.7542</td><td>6.749700</td></tr>\n",
              "\t<tr><td>45.9</td><td>18.6354</td><td>6.747300</td></tr>\n",
              "\t<tr><td>46.5</td><td>17.6235</td><td>6.370500</td></tr>\n",
              "\t<tr><td>16.2</td><td> 4.1472</td><td>2.268000</td></tr>\n",
              "\t<tr><td>20.3</td><td> 5.2983</td><td>2.821700</td></tr>\n",
              "\t<tr><td>21.2</td><td> 5.5756</td><td>2.904400</td></tr>\n",
              "\t<tr><td>22.2</td><td> 5.6166</td><td>3.174600</td></tr>\n",
              "\t<tr><td>22.2</td><td> 6.2160</td><td>3.574200</td></tr>\n",
              "\t<tr><td>22.8</td><td> 6.4752</td><td>3.351600</td></tr>\n",
              "\t<tr><td>23.1</td><td> 6.1677</td><td>3.395700</td></tr>\n",
              "\t<tr><td>23.7</td><td> 6.1146</td><td>3.294300</td></tr>\n",
              "\t<tr><td>24.7</td><td> 5.8045</td><td>3.754400</td></tr>\n",
              "\t<tr><td>24.3</td><td> 6.6339</td><td>3.547800</td></tr>\n",
              "\t<tr><td>25.3</td><td> 7.0334</td><td>3.820300</td></tr>\n",
              "\t<tr><td>25.0</td><td> 6.5500</td><td>3.325000</td></tr>\n",
              "\t<tr><td>25.0</td><td> 6.4000</td><td>3.800000</td></tr>\n",
              "\t<tr><td>27.2</td><td> 7.5344</td><td>3.835200</td></tr>\n",
              "\t<tr><td>26.7</td><td> 6.9153</td><td>3.631200</td></tr>\n",
              "\t<tr><td>26.8</td><td> 7.3968</td><td>4.127200</td></tr>\n",
              "\t<tr><td>27.9</td><td> 7.0866</td><td>3.906000</td></tr>\n",
              "\t<tr><td>29.2</td><td> 8.8768</td><td>4.496800</td></tr>\n",
              "\t<tr><td>30.6</td><td> 8.5680</td><td>4.773600</td></tr>\n",
              "\t<tr><td>35.0</td><td> 9.4850</td><td>5.355000</td></tr>\n",
              "</tbody>\n",
              "</table>\n"
            ],
            "text/markdown": "\nA data.frame: 55 × 3\n\n| Panjang &lt;dbl&gt; | Tinggi &lt;dbl&gt; | Lebar.3 &lt;dbl&gt; |\n|---|---|---|\n| 30.0 | 11.5200 | 4.020000 |\n| 31.2 | 12.4800 | 4.305600 |\n| 31.1 | 12.3778 | 4.696100 |\n| 33.5 | 12.7300 | 4.947677 |\n| 34.0 | 12.4440 | 5.134000 |\n| 34.7 | 13.6024 | 4.927400 |\n| 34.5 | 14.1795 | 5.278500 |\n| 35.0 | 12.6700 | 4.690000 |\n| 35.1 | 14.0049 | 4.843800 |\n| 36.2 | 14.2266 | 4.959400 |\n| 36.2 | 14.2628 | 5.104200 |\n| 36.2 | 14.3714 | 4.814600 |\n| 36.4 | 13.7592 | 4.368000 |\n| 37.3 | 13.9129 | 5.072800 |\n| 37.2 | 14.9544 | 5.170800 |\n| 37.2 | 15.4380 | 5.580000 |\n| 38.3 | 14.8604 | 5.285400 |\n| 38.5 | 14.9380 | 5.197500 |\n| 38.6 | 15.6330 | 5.133800 |\n| 38.7 | 14.4738 | 5.727600 |\n| 39.5 | 15.1285 | 5.569500 |\n| 39.2 | 15.9936 | 5.370400 |\n| 39.7 | 15.5227 | 5.602958 |\n| 40.6 | 15.4686 | 6.130600 |\n| 40.5 | 16.2405 | 5.589000 |\n| 40.9 | 16.3600 | 6.053200 |\n| 40.6 | 16.3618 | 6.090000 |\n| 41.5 | 16.5170 | 5.851500 |\n| 41.6 | 16.8896 | 6.198400 |\n| 42.6 | 18.9570 | 6.603000 |\n| 44.1 | 18.0369 | 6.306300 |\n| 44.0 | 18.0480 | 6.292000 |\n| 45.3 | 18.7542 | 6.749700 |\n| 45.9 | 18.6354 | 6.747300 |\n| 46.5 | 17.6235 | 6.370500 |\n| 16.2 |  4.1472 | 2.268000 |\n| 20.3 |  5.2983 | 2.821700 |\n| 21.2 |  5.5756 | 2.904400 |\n| 22.2 |  5.6166 | 3.174600 |\n| 22.2 |  6.2160 | 3.574200 |\n| 22.8 |  6.4752 | 3.351600 |\n| 23.1 |  6.1677 | 3.395700 |\n| 23.7 |  6.1146 | 3.294300 |\n| 24.7 |  5.8045 | 3.754400 |\n| 24.3 |  6.6339 | 3.547800 |\n| 25.3 |  7.0334 | 3.820300 |\n| 25.0 |  6.5500 | 3.325000 |\n| 25.0 |  6.4000 | 3.800000 |\n| 27.2 |  7.5344 | 3.835200 |\n| 26.7 |  6.9153 | 3.631200 |\n| 26.8 |  7.3968 | 4.127200 |\n| 27.9 |  7.0866 | 3.906000 |\n| 29.2 |  8.8768 | 4.496800 |\n| 30.6 |  8.5680 | 4.773600 |\n| 35.0 |  9.4850 | 5.355000 |\n\n",
            "text/latex": "A data.frame: 55 × 3\n\\begin{tabular}{lll}\n Panjang & Tinggi & Lebar.3\\\\\n <dbl> & <dbl> & <dbl>\\\\\n\\hline\n\t 30.0 & 11.5200 & 4.020000\\\\\n\t 31.2 & 12.4800 & 4.305600\\\\\n\t 31.1 & 12.3778 & 4.696100\\\\\n\t 33.5 & 12.7300 & 4.947677\\\\\n\t 34.0 & 12.4440 & 5.134000\\\\\n\t 34.7 & 13.6024 & 4.927400\\\\\n\t 34.5 & 14.1795 & 5.278500\\\\\n\t 35.0 & 12.6700 & 4.690000\\\\\n\t 35.1 & 14.0049 & 4.843800\\\\\n\t 36.2 & 14.2266 & 4.959400\\\\\n\t 36.2 & 14.2628 & 5.104200\\\\\n\t 36.2 & 14.3714 & 4.814600\\\\\n\t 36.4 & 13.7592 & 4.368000\\\\\n\t 37.3 & 13.9129 & 5.072800\\\\\n\t 37.2 & 14.9544 & 5.170800\\\\\n\t 37.2 & 15.4380 & 5.580000\\\\\n\t 38.3 & 14.8604 & 5.285400\\\\\n\t 38.5 & 14.9380 & 5.197500\\\\\n\t 38.6 & 15.6330 & 5.133800\\\\\n\t 38.7 & 14.4738 & 5.727600\\\\\n\t 39.5 & 15.1285 & 5.569500\\\\\n\t 39.2 & 15.9936 & 5.370400\\\\\n\t 39.7 & 15.5227 & 5.602958\\\\\n\t 40.6 & 15.4686 & 6.130600\\\\\n\t 40.5 & 16.2405 & 5.589000\\\\\n\t 40.9 & 16.3600 & 6.053200\\\\\n\t 40.6 & 16.3618 & 6.090000\\\\\n\t 41.5 & 16.5170 & 5.851500\\\\\n\t 41.6 & 16.8896 & 6.198400\\\\\n\t 42.6 & 18.9570 & 6.603000\\\\\n\t 44.1 & 18.0369 & 6.306300\\\\\n\t 44.0 & 18.0480 & 6.292000\\\\\n\t 45.3 & 18.7542 & 6.749700\\\\\n\t 45.9 & 18.6354 & 6.747300\\\\\n\t 46.5 & 17.6235 & 6.370500\\\\\n\t 16.2 &  4.1472 & 2.268000\\\\\n\t 20.3 &  5.2983 & 2.821700\\\\\n\t 21.2 &  5.5756 & 2.904400\\\\\n\t 22.2 &  5.6166 & 3.174600\\\\\n\t 22.2 &  6.2160 & 3.574200\\\\\n\t 22.8 &  6.4752 & 3.351600\\\\\n\t 23.1 &  6.1677 & 3.395700\\\\\n\t 23.7 &  6.1146 & 3.294300\\\\\n\t 24.7 &  5.8045 & 3.754400\\\\\n\t 24.3 &  6.6339 & 3.547800\\\\\n\t 25.3 &  7.0334 & 3.820300\\\\\n\t 25.0 &  6.5500 & 3.325000\\\\\n\t 25.0 &  6.4000 & 3.800000\\\\\n\t 27.2 &  7.5344 & 3.835200\\\\\n\t 26.7 &  6.9153 & 3.631200\\\\\n\t 26.8 &  7.3968 & 4.127200\\\\\n\t 27.9 &  7.0866 & 3.906000\\\\\n\t 29.2 &  8.8768 & 4.496800\\\\\n\t 30.6 &  8.5680 & 4.773600\\\\\n\t 35.0 &  9.4850 & 5.355000\\\\\n\\end{tabular}\n",
            "text/plain": [
              "   Panjang Tinggi  Lebar.3 \n",
              "1  30.0    11.5200 4.020000\n",
              "2  31.2    12.4800 4.305600\n",
              "3  31.1    12.3778 4.696100\n",
              "4  33.5    12.7300 4.947677\n",
              "5  34.0    12.4440 5.134000\n",
              "6  34.7    13.6024 4.927400\n",
              "7  34.5    14.1795 5.278500\n",
              "8  35.0    12.6700 4.690000\n",
              "9  35.1    14.0049 4.843800\n",
              "10 36.2    14.2266 4.959400\n",
              "11 36.2    14.2628 5.104200\n",
              "12 36.2    14.3714 4.814600\n",
              "13 36.4    13.7592 4.368000\n",
              "14 37.3    13.9129 5.072800\n",
              "15 37.2    14.9544 5.170800\n",
              "16 37.2    15.4380 5.580000\n",
              "17 38.3    14.8604 5.285400\n",
              "18 38.5    14.9380 5.197500\n",
              "19 38.6    15.6330 5.133800\n",
              "20 38.7    14.4738 5.727600\n",
              "21 39.5    15.1285 5.569500\n",
              "22 39.2    15.9936 5.370400\n",
              "23 39.7    15.5227 5.602958\n",
              "24 40.6    15.4686 6.130600\n",
              "25 40.5    16.2405 5.589000\n",
              "26 40.9    16.3600 6.053200\n",
              "27 40.6    16.3618 6.090000\n",
              "28 41.5    16.5170 5.851500\n",
              "29 41.6    16.8896 6.198400\n",
              "30 42.6    18.9570 6.603000\n",
              "31 44.1    18.0369 6.306300\n",
              "32 44.0    18.0480 6.292000\n",
              "33 45.3    18.7542 6.749700\n",
              "34 45.9    18.6354 6.747300\n",
              "35 46.5    17.6235 6.370500\n",
              "36 16.2     4.1472 2.268000\n",
              "37 20.3     5.2983 2.821700\n",
              "38 21.2     5.5756 2.904400\n",
              "39 22.2     5.6166 3.174600\n",
              "40 22.2     6.2160 3.574200\n",
              "41 22.8     6.4752 3.351600\n",
              "42 23.1     6.1677 3.395700\n",
              "43 23.7     6.1146 3.294300\n",
              "44 24.7     5.8045 3.754400\n",
              "45 24.3     6.6339 3.547800\n",
              "46 25.3     7.0334 3.820300\n",
              "47 25.0     6.5500 3.325000\n",
              "48 25.0     6.4000 3.800000\n",
              "49 27.2     7.5344 3.835200\n",
              "50 26.7     6.9153 3.631200\n",
              "51 26.8     7.3968 4.127200\n",
              "52 27.9     7.0866 3.906000\n",
              "53 29.2     8.8768 4.496800\n",
              "54 30.6     8.5680 4.773600\n",
              "55 35.0     9.4850 5.355000"
            ]
          },
          "metadata": {}
        }
      ]
    },
    {
      "cell_type": "code",
      "source": [
        "model.6 <- lm(Tinggi~., data=datalengkap.3)\n",
        "model.6"
      ],
      "metadata": {
        "colab": {
          "base_uri": "https://localhost:8080/",
          "height": 469
        },
        "id": "OGxwSyjvdVb6",
        "outputId": "0e472c0e-8fd7-4e16-f2c1-adaebe25c3ec"
      },
      "execution_count": null,
      "outputs": [
        {
          "output_type": "display_data",
          "data": {
            "text/plain": [
              "\n",
              "Call:\n",
              "lm(formula = Tinggi ~ ., data = datalengkap.3)\n",
              "\n",
              "Coefficients:\n",
              "(Intercept)      Panjang      Lebar.3  \n",
              "    -6.8779       0.6269      -0.4207  \n"
            ]
          },
          "metadata": {}
        },
        {
          "output_type": "display_data",
          "data": {
            "text/plain": [
              "\n",
              "Call:\n",
              "lm(formula = Tinggi ~ ., data = datalengkap.3)\n",
              "\n",
              "Residuals:\n",
              "    Min      1Q  Median      3Q     Max \n",
              "-3.3252 -0.4683 -0.0100  0.5882  1.9075 \n",
              "\n",
              "Coefficients:\n",
              "            Estimate Std. Error t value Pr(>|t|)    \n",
              "(Intercept) -6.87788    0.62451 -11.013 3.34e-15 ***\n",
              "Panjang      0.62688    0.07786   8.052 1.05e-10 ***\n",
              "Lebar.3     -0.42067    0.53628  -0.784    0.436    \n",
              "---\n",
              "Signif. codes:  0 ‘***’ 0.001 ‘**’ 0.01 ‘*’ 0.05 ‘.’ 0.1 ‘ ’ 1\n",
              "\n",
              "Residual standard error: 1.023 on 52 degrees of freedom\n",
              "Multiple R-squared:  0.9495,\tAdjusted R-squared:  0.9476 \n",
              "F-statistic:   489 on 2 and 52 DF,  p-value: < 2.2e-16\n"
            ]
          },
          "metadata": {}
        }
      ]
    },
    {
      "cell_type": "code",
      "source": [
        "print(\"Model 1\")\n",
        "summary(model.1)\n",
        "print(\"Model 2\")\n",
        "summary(model.2)\n",
        "print(\"Model 3\")\n",
        "summary(model.3)\n",
        "print(\"Model 4\")\n",
        "summary(model.4)\n",
        "print(\"Model 5\")\n",
        "summary(model.5)\n",
        "print(\"Model 6\")\n",
        "summary(model.6)"
      ],
      "metadata": {
        "colab": {
          "base_uri": "https://localhost:8080/",
          "height": 1000
        },
        "id": "BF6oovLVd1ue",
        "outputId": "14c7668e-4b02-423c-e2ff-add32e364150"
      },
      "execution_count": null,
      "outputs": [
        {
          "output_type": "stream",
          "name": "stdout",
          "text": [
            "[1] \"Model 1\"\n"
          ]
        },
        {
          "output_type": "display_data",
          "data": {
            "text/plain": [
              "\n",
              "Call:\n",
              "lm(formula = Tinggi ~ ., data = datalengkap)\n",
              "\n",
              "Residuals:\n",
              "    Min      1Q  Median      3Q     Max \n",
              "-3.3044 -0.4697 -0.0016  0.5802  1.9319 \n",
              "\n",
              "Coefficients:\n",
              "            Estimate Std. Error t value Pr(>|t|)    \n",
              "(Intercept) -6.89418    0.63597 -10.840 9.92e-15 ***\n",
              "Panjang      0.63148    0.07941   7.952 1.97e-10 ***\n",
              "Lebar       -0.45156    0.54642  -0.826    0.413    \n",
              "---\n",
              "Signif. codes:  0 ‘***’ 0.001 ‘**’ 0.01 ‘*’ 0.05 ‘.’ 0.1 ‘ ’ 1\n",
              "\n",
              "Residual standard error: 1.039 on 50 degrees of freedom\n",
              "Multiple R-squared:  0.9494,\tAdjusted R-squared:  0.9474 \n",
              "F-statistic:   469 on 2 and 50 DF,  p-value: < 2.2e-16\n"
            ]
          },
          "metadata": {}
        },
        {
          "output_type": "stream",
          "name": "stdout",
          "text": [
            "[1] \"Model 2\"\n"
          ]
        },
        {
          "output_type": "display_data",
          "data": {
            "text/plain": [
              "\n",
              "Call:\n",
              "lm(formula = Tinggi ~ Panjang, data = datalengkap)\n",
              "\n",
              "Residuals:\n",
              "    Min      1Q  Median      3Q     Max \n",
              "-3.4596 -0.4968  0.0065  0.6448  1.8747 \n",
              "\n",
              "Coefficients:\n",
              "            Estimate Std. Error t value Pr(>|t|)    \n",
              "(Intercept) -6.92364    0.63299  -10.94 5.56e-15 ***\n",
              "Panjang      0.56767    0.01848   30.71  < 2e-16 ***\n",
              "---\n",
              "Signif. codes:  0 ‘***’ 0.001 ‘**’ 0.01 ‘*’ 0.05 ‘.’ 0.1 ‘ ’ 1\n",
              "\n",
              "Residual standard error: 1.035 on 51 degrees of freedom\n",
              "Multiple R-squared:  0.9487,\tAdjusted R-squared:  0.9477 \n",
              "F-statistic: 943.2 on 1 and 51 DF,  p-value: < 2.2e-16\n"
            ]
          },
          "metadata": {}
        },
        {
          "output_type": "stream",
          "name": "stdout",
          "text": [
            "[1] \"Model 3\"\n"
          ]
        },
        {
          "output_type": "display_data",
          "data": {
            "text/plain": [
              "\n",
              "Call:\n",
              "lm(formula = Tinggi ~ ., data = datalengkap)\n",
              "\n",
              "Residuals:\n",
              "    Min      1Q  Median      3Q     Max \n",
              "-3.3044 -0.4697 -0.0016  0.5802  1.9319 \n",
              "\n",
              "Coefficients:\n",
              "            Estimate Std. Error t value Pr(>|t|)    \n",
              "(Intercept) -6.89418    0.63597 -10.840 9.92e-15 ***\n",
              "Panjang      0.63148    0.07941   7.952 1.97e-10 ***\n",
              "Lebar       -0.45156    0.54642  -0.826    0.413    \n",
              "---\n",
              "Signif. codes:  0 ‘***’ 0.001 ‘**’ 0.01 ‘*’ 0.05 ‘.’ 0.1 ‘ ’ 1\n",
              "\n",
              "Residual standard error: 1.039 on 50 degrees of freedom\n",
              "Multiple R-squared:  0.9494,\tAdjusted R-squared:  0.9474 \n",
              "F-statistic:   469 on 2 and 50 DF,  p-value: < 2.2e-16\n"
            ]
          },
          "metadata": {}
        },
        {
          "output_type": "stream",
          "name": "stdout",
          "text": [
            "[1] \"Model 4\"\n"
          ]
        },
        {
          "output_type": "display_data",
          "data": {
            "text/plain": [
              "\n",
              "Call:\n",
              "lm(formula = Tinggi ~ Panjang, data = dataikan)\n",
              "\n",
              "Residuals:\n",
              "    Min      1Q  Median      3Q     Max \n",
              "-3.4693 -0.4658 -0.0025  0.6316  1.8617 \n",
              "\n",
              "Coefficients:\n",
              "            Estimate Std. Error t value Pr(>|t|)    \n",
              "(Intercept) -6.90789    0.62107  -11.12 1.79e-15 ***\n",
              "Panjang      0.56749    0.01809   31.38  < 2e-16 ***\n",
              "---\n",
              "Signif. codes:  0 ‘***’ 0.001 ‘**’ 0.01 ‘*’ 0.05 ‘.’ 0.1 ‘ ’ 1\n",
              "\n",
              "Residual standard error: 1.019 on 53 degrees of freedom\n",
              "Multiple R-squared:  0.9489,\tAdjusted R-squared:  0.948 \n",
              "F-statistic: 984.5 on 1 and 53 DF,  p-value: < 2.2e-16\n"
            ]
          },
          "metadata": {}
        },
        {
          "output_type": "stream",
          "name": "stdout",
          "text": [
            "[1] \"Model 5\"\n"
          ]
        },
        {
          "output_type": "display_data",
          "data": {
            "text/plain": [
              "\n",
              "Call:\n",
              "lm(formula = Tinggi ~ ., data = datalengkap.2)\n",
              "\n",
              "Residuals:\n",
              "    Min      1Q  Median      3Q     Max \n",
              "-3.3407 -0.4508 -0.0106  0.6109  1.8847 \n",
              "\n",
              "Coefficients:\n",
              "            Estimate Std. Error t value Pr(>|t|)    \n",
              "(Intercept)  -6.8699     0.6261 -10.973 3.82e-15 ***\n",
              "Panjang       0.6169     0.0706   8.738 8.84e-12 ***\n",
              "Lebar.2      -0.3542     0.4888  -0.725    0.472    \n",
              "---\n",
              "Signif. codes:  0 ‘***’ 0.001 ‘**’ 0.01 ‘*’ 0.05 ‘.’ 0.1 ‘ ’ 1\n",
              "\n",
              "Residual standard error: 1.024 on 52 degrees of freedom\n",
              "Multiple R-squared:  0.9494,\tAdjusted R-squared:  0.9475 \n",
              "F-statistic: 488.1 on 2 and 52 DF,  p-value: < 2.2e-16\n"
            ]
          },
          "metadata": {}
        },
        {
          "output_type": "stream",
          "name": "stdout",
          "text": [
            "[1] \"Model 6\"\n"
          ]
        },
        {
          "output_type": "display_data",
          "data": {
            "text/plain": [
              "\n",
              "Call:\n",
              "lm(formula = Tinggi ~ ., data = datalengkap.3)\n",
              "\n",
              "Residuals:\n",
              "    Min      1Q  Median      3Q     Max \n",
              "-3.3252 -0.4683 -0.0100  0.5882  1.9075 \n",
              "\n",
              "Coefficients:\n",
              "            Estimate Std. Error t value Pr(>|t|)    \n",
              "(Intercept) -6.87788    0.62451 -11.013 3.34e-15 ***\n",
              "Panjang      0.62688    0.07786   8.052 1.05e-10 ***\n",
              "Lebar.3     -0.42067    0.53628  -0.784    0.436    \n",
              "---\n",
              "Signif. codes:  0 ‘***’ 0.001 ‘**’ 0.01 ‘*’ 0.05 ‘.’ 0.1 ‘ ’ 1\n",
              "\n",
              "Residual standard error: 1.023 on 52 degrees of freedom\n",
              "Multiple R-squared:  0.9495,\tAdjusted R-squared:  0.9476 \n",
              "F-statistic:   489 on 2 and 52 DF,  p-value: < 2.2e-16\n"
            ]
          },
          "metadata": {}
        }
      ]
    }
  ]
}