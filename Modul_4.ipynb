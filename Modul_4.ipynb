{
  "nbformat": 4,
  "nbformat_minor": 0,
  "metadata": {
    "colab": {
      "name": "Modul 4.ipynb",
      "provenance": [],
      "authorship_tag": "ABX9TyOxR/28B3rYwHqvlzUBsYYO",
      "include_colab_link": true
    },
    "kernelspec": {
      "name": "ir",
      "display_name": "R"
    },
    "language_info": {
      "name": "R"
    }
  },
  "cells": [
    {
      "cell_type": "markdown",
      "metadata": {
        "id": "view-in-github",
        "colab_type": "text"
      },
      "source": [
        "<a href=\"https://colab.research.google.com/github/iizmyy/Analisis-dan-Visualisasi-Data/blob/main/Modul_4.ipynb\" target=\"_parent\"><img src=\"https://colab.research.google.com/assets/colab-badge.svg\" alt=\"Open In Colab\"/></a>"
      ]
    },
    {
      "cell_type": "code",
      "execution_count": null,
      "metadata": {
        "colab": {
          "base_uri": "https://localhost:8080/",
          "height": 989
        },
        "id": "cyJB3A-_zU6p",
        "outputId": "ef4bf7e7-56c0-4aad-a579-f0dc9b0c0888"
      },
      "outputs": [
        {
          "output_type": "display_data",
          "data": {
            "text/html": [
              "<table class=\"dataframe\">\n",
              "<caption>A data.frame: 15 × 3</caption>\n",
              "<thead>\n",
              "\t<tr><th scope=col>Kota</th><th scope=col>Biaya($)</th><th scope=col>Penghasilan($)</th></tr>\n",
              "\t<tr><th scope=col>&lt;chr&gt;</th><th scope=col>&lt;dbl&gt;</th><th scope=col>&lt;dbl&gt;</th></tr>\n",
              "</thead>\n",
              "<tbody>\n",
              "\t<tr><td>Yogyakarta</td><td>16.5</td><td>13.7</td></tr>\n",
              "\t<tr><td>Semarang  </td><td>15.8</td><td>17.6</td></tr>\n",
              "\t<tr><td>Kudus     </td><td>19.1</td><td>15.1</td></tr>\n",
              "\t<tr><td>Pati      </td><td>15.2</td><td>14.7</td></tr>\n",
              "\t<tr><td>Jepara    </td><td>14.3</td><td>19.5</td></tr>\n",
              "\t<tr><td>Tangerang </td><td>13.0</td><td>15.8</td></tr>\n",
              "\t<tr><td>Bekasi    </td><td>12.7</td><td>21.6</td></tr>\n",
              "\t<tr><td>Bogor     </td><td>12.1</td><td>12.2</td></tr>\n",
              "\t<tr><td>Bandung   </td><td>14.0</td><td>18.6</td></tr>\n",
              "\t<tr><td>Cirebon   </td><td>13.9</td><td>35.2</td></tr>\n",
              "\t<tr><td>Malang    </td><td> 7.3</td><td>35.9</td></tr>\n",
              "\t<tr><td>Surabaya  </td><td>11.3</td><td>22.1</td></tr>\n",
              "\t<tr><td>Sidoarjo  </td><td> 8.9</td><td>23.2</td></tr>\n",
              "\t<tr><td>Banyuwangi</td><td>10.9</td><td>31.2</td></tr>\n",
              "\t<tr><td>Ngawi     </td><td> 9.6</td><td>38.9</td></tr>\n",
              "</tbody>\n",
              "</table>\n"
            ],
            "text/markdown": "\nA data.frame: 15 × 3\n\n| Kota &lt;chr&gt; | Biaya($) &lt;dbl&gt; | Penghasilan($) &lt;dbl&gt; |\n|---|---|---|\n| Yogyakarta | 16.5 | 13.7 |\n| Semarang   | 15.8 | 17.6 |\n| Kudus      | 19.1 | 15.1 |\n| Pati       | 15.2 | 14.7 |\n| Jepara     | 14.3 | 19.5 |\n| Tangerang  | 13.0 | 15.8 |\n| Bekasi     | 12.7 | 21.6 |\n| Bogor      | 12.1 | 12.2 |\n| Bandung    | 14.0 | 18.6 |\n| Cirebon    | 13.9 | 35.2 |\n| Malang     |  7.3 | 35.9 |\n| Surabaya   | 11.3 | 22.1 |\n| Sidoarjo   |  8.9 | 23.2 |\n| Banyuwangi | 10.9 | 31.2 |\n| Ngawi      |  9.6 | 38.9 |\n\n",
            "text/latex": "A data.frame: 15 × 3\n\\begin{tabular}{lll}\n Kota & Biaya(\\$) & Penghasilan(\\$)\\\\\n <chr> & <dbl> & <dbl>\\\\\n\\hline\n\t Yogyakarta & 16.5 & 13.7\\\\\n\t Semarang   & 15.8 & 17.6\\\\\n\t Kudus      & 19.1 & 15.1\\\\\n\t Pati       & 15.2 & 14.7\\\\\n\t Jepara     & 14.3 & 19.5\\\\\n\t Tangerang  & 13.0 & 15.8\\\\\n\t Bekasi     & 12.7 & 21.6\\\\\n\t Bogor      & 12.1 & 12.2\\\\\n\t Bandung    & 14.0 & 18.6\\\\\n\t Cirebon    & 13.9 & 35.2\\\\\n\t Malang     &  7.3 & 35.9\\\\\n\t Surabaya   & 11.3 & 22.1\\\\\n\t Sidoarjo   &  8.9 & 23.2\\\\\n\t Banyuwangi & 10.9 & 31.2\\\\\n\t Ngawi      &  9.6 & 38.9\\\\\n\\end{tabular}\n",
            "text/plain": [
              "   Kota       Biaya($) Penghasilan($)\n",
              "1  Yogyakarta 16.5     13.7          \n",
              "2  Semarang   15.8     17.6          \n",
              "3  Kudus      19.1     15.1          \n",
              "4  Pati       15.2     14.7          \n",
              "5  Jepara     14.3     19.5          \n",
              "6  Tangerang  13.0     15.8          \n",
              "7  Bekasi     12.7     21.6          \n",
              "8  Bogor      12.1     12.2          \n",
              "9  Bandung    14.0     18.6          \n",
              "10 Cirebon    13.9     35.2          \n",
              "11 Malang      7.3     35.9          \n",
              "12 Surabaya   11.3     22.1          \n",
              "13 Sidoarjo    8.9     23.2          \n",
              "14 Banyuwangi 10.9     31.2          \n",
              "15 Ngawi       9.6     38.9          "
            ]
          },
          "metadata": {}
        },
        {
          "output_type": "display_data",
          "data": {
            "text/plain": [
              "plot without title"
            ],
            "image/png": "[encoded data removed]"
          },
          "metadata": {
            "image/png": {
              "width": 420,
              "height": 420
            }
          }
        }
      ],
      "source": [
        "kota <- c(\"Yogyakarta\",\"Semarang\",\"Kudus\",\"Pati\",\"Jepara\",\"Tangerang\",\"Bekasi\",\n",
        "\"Bogor\",\"Bandung\",\"Cirebon\",\"Malang\",\"Surabaya\",\"Sidoarjo\",\"Banyuwangi\",\"Ngawi\")\n",
        "x <- c(16.5, 15.8, 19.1, 15.2, 14.3, 13.0, 12.7, 12.1, 14.0,\n",
        "13.9, 7.3, 11.3, 8.9, 10.9, 9.6)\n",
        "y <- c(13.7, 17.6, 15.1, 14.7, 19.5, 15.8, 21.6, 12.2,\n",
        "18.6, 35.2, 35.9, 22.1, 23.2, 31.2, 38.9)\n",
        "data <- data.frame(kota,x,y)\n",
        "colnames(data) <- c(\"Kota\",\"Biaya($)\",\"Penghasilan($)\")\n",
        "plot(x,y)\n",
        "data"
      ]
    },
    {
      "cell_type": "code",
      "source": [
        "plot(x,y)\n",
        "abline(54.87204, -2.596774)"
      ],
      "metadata": {
        "colab": {
          "base_uri": "https://localhost:8080/",
          "height": 437
        },
        "id": "gJh6_k3b2zwr",
        "outputId": "40b16dc5-14c7-4a7e-d792-a65af9aceab8"
      },
      "execution_count": null,
      "outputs": [
        {
          "output_type": "display_data",
          "data": {
            "text/plain": [
              "plot without title"
            ],
            "image/png": "[encoded data removed]"
          },
          "metadata": {
            "image/png": {
              "width": 420,
              "height": 420
            }
          }
        }
      ]
    },
    {
      "cell_type": "code",
      "source": [
        "lm(y~x)\n",
        "plot(x,y)\n",
        "abline(46.078,-1.829)"
      ],
      "metadata": {
        "colab": {
          "base_uri": "https://localhost:8080/",
          "height": 562
        },
        "id": "Jnya6M-Oz7hK",
        "outputId": "f64013fc-afe8-4f62-a8ab-0dfe8ef4a99c"
      },
      "execution_count": null,
      "outputs": [
        {
          "output_type": "display_data",
          "data": {
            "text/plain": [
              "\n",
              "Call:\n",
              "lm(formula = y ~ x)\n",
              "\n",
              "Coefficients:\n",
              "(Intercept)            x  \n",
              "     46.078       -1.829  \n"
            ]
          },
          "metadata": {}
        },
        {
          "output_type": "display_data",
          "data": {
            "text/plain": [
              "plot without title"
            ],
            "image/png": "[encoded data removed]"
          },
          "metadata": {
            "image/png": {
              "width": 420,
              "height": 420
            }
          }
        }
      ]
    },
    {
      "cell_type": "markdown",
      "source": [
        "## Latihan Soal"
      ],
      "metadata": {
        "id": "iuLe11TrP9wP"
      }
    },
    {
      "cell_type": "code",
      "source": [
        "x <- c(25,30,35,40,45,45,50,55,60)\n",
        "y <- c(80,100,100,120,150,140,180,150,120)\n",
        "data_toko_sepeda <- cbind(x,y)\n",
        "data_toko_sepeda"
      ],
      "metadata": {
        "id": "grU9n-2G0nkg",
        "colab": {
          "base_uri": "https://localhost:8080/",
          "height": 384
        },
        "outputId": "1fbce667-f4d2-49f3-b45b-30e30e311c3e"
      },
      "execution_count": null,
      "outputs": [
        {
          "output_type": "display_data",
          "data": {
            "text/html": [
              "<table class=\"dataframe\">\n",
              "<caption>A matrix: 9 × 2 of type dbl</caption>\n",
              "<thead>\n",
              "\t<tr><th scope=col>x</th><th scope=col>y</th></tr>\n",
              "</thead>\n",
              "<tbody>\n",
              "\t<tr><td>25</td><td> 80</td></tr>\n",
              "\t<tr><td>30</td><td>100</td></tr>\n",
              "\t<tr><td>35</td><td>100</td></tr>\n",
              "\t<tr><td>40</td><td>120</td></tr>\n",
              "\t<tr><td>45</td><td>150</td></tr>\n",
              "\t<tr><td>45</td><td>140</td></tr>\n",
              "\t<tr><td>50</td><td>180</td></tr>\n",
              "\t<tr><td>55</td><td>150</td></tr>\n",
              "\t<tr><td>60</td><td>120</td></tr>\n",
              "</tbody>\n",
              "</table>\n"
            ],
            "text/markdown": "\nA matrix: 9 × 2 of type dbl\n\n| x | y |\n|---|---|\n| 25 |  80 |\n| 30 | 100 |\n| 35 | 100 |\n| 40 | 120 |\n| 45 | 150 |\n| 45 | 140 |\n| 50 | 180 |\n| 55 | 150 |\n| 60 | 120 |\n\n",
            "text/latex": "A matrix: 9 × 2 of type dbl\n\\begin{tabular}{ll}\n x & y\\\\\n\\hline\n\t 25 &  80\\\\\n\t 30 & 100\\\\\n\t 35 & 100\\\\\n\t 40 & 120\\\\\n\t 45 & 150\\\\\n\t 45 & 140\\\\\n\t 50 & 180\\\\\n\t 55 & 150\\\\\n\t 60 & 120\\\\\n\\end{tabular}\n",
            "text/plain": [
              "      x  y  \n",
              " [1,] 25  80\n",
              " [2,] 30 100\n",
              " [3,] 35 100\n",
              " [4,] 40 120\n",
              " [5,] 45 150\n",
              " [6,] 45 140\n",
              " [7,] 50 180\n",
              " [8,] 55 150\n",
              " [9,] 60 120"
            ]
          },
          "metadata": {}
        }
      ]
    },
    {
      "cell_type": "code",
      "source": [
        "plot(x,y,main=\"Data Toko Sepeda\")\n",
        "abline(43.33,2)"
      ],
      "metadata": {
        "colab": {
          "base_uri": "https://localhost:8080/",
          "height": 437
        },
        "id": "1k9AeZVUQlGG",
        "outputId": "e10b5a40-f43c-466d-9353-995434219ec0"
      },
      "execution_count": null,
      "outputs": [
        {
          "output_type": "display_data",
          "data": {
            "text/plain": [
              "Plot with title “Data Toko Sepeda”"
            ],
            "image/png": "[encoded data removed]"
          },
          "metadata": {
            "image/png": {
              "width": 420,
              "height": 420
            }
          }
        }
      ]
    },
    {
      "cell_type": "code",
      "source": [
        "lm(y~x)\n",
        "plot(x,y)\n",
        "abline(44.263,1.926)"
      ],
      "metadata": {
        "colab": {
          "base_uri": "https://localhost:8080/",
          "height": 559
        },
        "id": "rTAQIdy7ROUQ",
        "outputId": "fb1b7d90-c75b-4f12-fd1e-2ffa08cd8691"
      },
      "execution_count": null,
      "outputs": [
        {
          "output_type": "display_data",
          "data": {
            "text/plain": [
              "\n",
              "Call:\n",
              "lm(formula = y ~ x)\n",
              "\n",
              "Coefficients:\n",
              "(Intercept)            x  \n",
              "     44.263        1.926  \n"
            ]
          },
          "metadata": {}
        },
        {
          "output_type": "display_data",
          "data": {
            "text/plain": [
              "plot without title"
            ],
            "image/png": "[encoded data removed]"
          },
          "metadata": {
            "image/png": {
              "width": 420,
              "height": 420
            }
          }
        }
      ]
    },
    {
      "cell_type": "markdown",
      "source": [
        "### Regresi Konfirmasi\n"
      ],
      "metadata": {
        "id": "XtTPjGOTLUSV"
      }
    },
    {
      "cell_type": "code",
      "source": [
        "x <- c(16.5, 15.8, 19.1, 15.2, 14.3, 13.0, 12.7, 12.1, 14.0,\n",
        "13.9, 7.3, 11.3, 8.9, 10.9, 9.6)\n",
        "y <- c(13.7, 17.6, 15.1, 14.7, 19.5, 15.8, 21.6, 12.2,\n",
        "18.6, 35.2, 35.9, 22.1, 23.2, 31.2, 38.9)\n",
        "lm(y~x)"
      ],
      "metadata": {
        "colab": {
          "base_uri": "https://localhost:8080/",
          "height": 139
        },
        "id": "GDatHufBLWS9",
        "outputId": "f134f0ec-456f-41f4-cf4f-ff5a0b6cb623"
      },
      "execution_count": null,
      "outputs": [
        {
          "output_type": "display_data",
          "data": {
            "text/plain": [
              "\n",
              "Call:\n",
              "lm(formula = y ~ x)\n",
              "\n",
              "Coefficients:\n",
              "(Intercept)            x  \n",
              "     46.078       -1.829  \n"
            ]
          },
          "metadata": {}
        }
      ]
    },
    {
      "cell_type": "code",
      "source": [
        "plot(x,y)\n",
        "abline(46.078, -1.829)"
      ],
      "metadata": {
        "colab": {
          "base_uri": "https://localhost:8080/",
          "height": 437
        },
        "id": "5-OaXTDMLbLi",
        "outputId": "99e70b82-6c94-45d5-b5e3-de5e348c01b2"
      },
      "execution_count": null,
      "outputs": [
        {
          "output_type": "display_data",
          "data": {
            "text/plain": [
              "plot without title"
            ],
            "image/png": "[encoded data removed]"
          },
          "metadata": {
            "image/png": {
              "width": 420,
              "height": 420
            }
          }
        }
      ]
    },
    {
      "cell_type": "markdown",
      "source": [
        "### Latihan Soal"
      ],
      "metadata": {
        "id": "bkdFmbw5WWNr"
      }
    },
    {
      "cell_type": "code",
      "source": [
        "x <- c(1,2,3,4,5)\n",
        "y <- c(16,23,28,31,34)\n",
        "\n",
        "data <- cbind(x,y)\n",
        "data"
      ],
      "metadata": {
        "colab": {
          "base_uri": "https://localhost:8080/",
          "height": 293
        },
        "id": "rzWXdrn_WYl3",
        "outputId": "f015524d-b91a-4c89-b1e7-f9dbc8b0cccb"
      },
      "execution_count": 40,
      "outputs": [
        {
          "output_type": "display_data",
          "data": {
            "text/html": [
              "<table class=\"dataframe\">\n",
              "<caption>A matrix: 5 × 2 of type dbl</caption>\n",
              "<thead>\n",
              "\t<tr><th scope=col>x</th><th scope=col>y</th></tr>\n",
              "</thead>\n",
              "<tbody>\n",
              "\t<tr><td>1</td><td>16</td></tr>\n",
              "\t<tr><td>2</td><td>23</td></tr>\n",
              "\t<tr><td>3</td><td>28</td></tr>\n",
              "\t<tr><td>4</td><td>31</td></tr>\n",
              "\t<tr><td>5</td><td>34</td></tr>\n",
              "</tbody>\n",
              "</table>\n"
            ],
            "text/markdown": "\nA matrix: 5 × 2 of type dbl\n\n| x | y |\n|---|---|\n| 1 | 16 |\n| 2 | 23 |\n| 3 | 28 |\n| 4 | 31 |\n| 5 | 34 |\n\n",
            "text/latex": "A matrix: 5 × 2 of type dbl\n\\begin{tabular}{ll}\n x & y\\\\\n\\hline\n\t 1 & 16\\\\\n\t 2 & 23\\\\\n\t 3 & 28\\\\\n\t 4 & 31\\\\\n\t 5 & 34\\\\\n\\end{tabular}\n",
            "text/plain": [
              "     x y \n",
              "[1,] 1 16\n",
              "[2,] 2 23\n",
              "[3,] 3 28\n",
              "[4,] 4 31\n",
              "[5,] 5 34"
            ]
          },
          "metadata": {}
        }
      ]
    },
    {
      "cell_type": "code",
      "source": [
        "reg1 <- lm(y~x)\n",
        "reg1"
      ],
      "metadata": {
        "colab": {
          "base_uri": "https://localhost:8080/",
          "height": 139
        },
        "id": "X3KnahqAWk-S",
        "outputId": "f5a80542-d00e-41e2-8999-c07e1ffc6ec9"
      },
      "execution_count": 41,
      "outputs": [
        {
          "output_type": "display_data",
          "data": {
            "text/plain": [
              "\n",
              "Call:\n",
              "lm(formula = y ~ x)\n",
              "\n",
              "Coefficients:\n",
              "(Intercept)            x  \n",
              "       13.2          4.4  \n"
            ]
          },
          "metadata": {}
        }
      ]
    },
    {
      "cell_type": "code",
      "source": [
        "plot(x,y)\n",
        "abline(13.2,4.4)"
      ],
      "metadata": {
        "colab": {
          "base_uri": "https://localhost:8080/",
          "height": 437
        },
        "id": "TXrlbaVLWzOt",
        "outputId": "13b564ed-a185-4346-d514-909e37e20f14"
      },
      "execution_count": null,
      "outputs": [
        {
          "output_type": "display_data",
          "data": {
            "text/plain": [
              "plot without title"
            ],
            "image/png": "[encoded data removed]"
          },
          "metadata": {
            "image/png": {
              "width": 420,
              "height": 420
            }
          }
        }
      ]
    },
    {
      "cell_type": "markdown",
      "source": [
        "### Memprediksi beberapa nilai y"
      ],
      "metadata": {
        "id": "m9NQ6FsGWORx"
      }
    },
    {
      "cell_type": "code",
      "source": [
        "x <- c(2,3,4)\n",
        "y <- c(NA,NA,NA)\n",
        "data_baru <- data.frame(x,y)\n",
        "data_baru\n",
        "\n",
        "prediksi <- predict.lm(reg1,newdata = data_baru)\n",
        "\n",
        "data_baru <- data.frame(data_baru[1], prediksi)\n",
        "data_baru <- setNames(data_baru,c('x','y'))\n",
        "data_baru"
      ],
      "metadata": {
        "colab": {
          "base_uri": "https://localhost:8080/",
          "height": 402
        },
        "id": "Ubm_JWoaW8Ji",
        "outputId": "3bfb8dc2-3983-4740-a3f6-9fb4ac6f6e0b"
      },
      "execution_count": 46,
      "outputs": [
        {
          "output_type": "display_data",
          "data": {
            "text/html": [
              "<table class=\"dataframe\">\n",
              "<caption>A data.frame: 3 × 2</caption>\n",
              "<thead>\n",
              "\t<tr><th scope=col>x</th><th scope=col>y</th></tr>\n",
              "\t<tr><th scope=col>&lt;dbl&gt;</th><th scope=col>&lt;lgl&gt;</th></tr>\n",
              "</thead>\n",
              "<tbody>\n",
              "\t<tr><td>2</td><td>NA</td></tr>\n",
              "\t<tr><td>3</td><td>NA</td></tr>\n",
              "\t<tr><td>4</td><td>NA</td></tr>\n",
              "</tbody>\n",
              "</table>\n"
            ],
            "text/markdown": "\nA data.frame: 3 × 2\n\n| x &lt;dbl&gt; | y &lt;lgl&gt; |\n|---|---|\n| 2 | NA |\n| 3 | NA |\n| 4 | NA |\n\n",
            "text/latex": "A data.frame: 3 × 2\n\\begin{tabular}{ll}\n x & y\\\\\n <dbl> & <lgl>\\\\\n\\hline\n\t 2 & NA\\\\\n\t 3 & NA\\\\\n\t 4 & NA\\\\\n\\end{tabular}\n",
            "text/plain": [
              "  x y \n",
              "1 2 NA\n",
              "2 3 NA\n",
              "3 4 NA"
            ]
          },
          "metadata": {}
        },
        {
          "output_type": "display_data",
          "data": {
            "text/html": [
              "<table class=\"dataframe\">\n",
              "<caption>A data.frame: 3 × 2</caption>\n",
              "<thead>\n",
              "\t<tr><th></th><th scope=col>x</th><th scope=col>y</th></tr>\n",
              "\t<tr><th></th><th scope=col>&lt;dbl&gt;</th><th scope=col>&lt;dbl&gt;</th></tr>\n",
              "</thead>\n",
              "<tbody>\n",
              "\t<tr><th scope=row>1</th><td>2</td><td>22.0</td></tr>\n",
              "\t<tr><th scope=row>2</th><td>3</td><td>26.4</td></tr>\n",
              "\t<tr><th scope=row>3</th><td>4</td><td>30.8</td></tr>\n",
              "</tbody>\n",
              "</table>\n"
            ],
            "text/markdown": "\nA data.frame: 3 × 2\n\n| <!--/--> | x &lt;dbl&gt; | y &lt;dbl&gt; |\n|---|---|---|\n| 1 | 2 | 22.0 |\n| 2 | 3 | 26.4 |\n| 3 | 4 | 30.8 |\n\n",
            "text/latex": "A data.frame: 3 × 2\n\\begin{tabular}{r|ll}\n  & x & y\\\\\n  & <dbl> & <dbl>\\\\\n\\hline\n\t1 & 2 & 22.0\\\\\n\t2 & 3 & 26.4\\\\\n\t3 & 4 & 30.8\\\\\n\\end{tabular}\n",
            "text/plain": [
              "  x y   \n",
              "1 2 22.0\n",
              "2 3 26.4\n",
              "3 4 30.8"
            ]
          },
          "metadata": {}
        }
      ]
    },
    {
      "cell_type": "code",
      "source": [
        "data_wind_speed <- read.csv(\"https://raw.githubusercontent.com/iizmyy/Analisis-dan-Visualisasi-Data/main/dataset/windspeed.csv\", header = TRUE)\n",
        "data_wind_speed"
      ],
      "metadata": {
        "id": "i7_anQu9X5bF",
        "colab": {
          "base_uri": "https://localhost:8080/",
          "height": 882
        },
        "outputId": "25fa7897-f0dd-4f29-f2f6-8984967fcee9"
      },
      "execution_count": 47,
      "outputs": [
        {
          "output_type": "display_data",
          "data": {
            "text/html": [
              "<table class=\"dataframe\">\n",
              "<caption>A data.frame: 25 × 3</caption>\n",
              "<thead>\n",
              "\t<tr><th scope=col>no</th><th scope=col>speed</th><th scope=col>dc</th></tr>\n",
              "\t<tr><th scope=col>&lt;int&gt;</th><th scope=col>&lt;dbl&gt;</th><th scope=col>&lt;dbl&gt;</th></tr>\n",
              "</thead>\n",
              "<tbody>\n",
              "\t<tr><td> 1</td><td> 5.00</td><td>1.582</td></tr>\n",
              "\t<tr><td> 2</td><td> 6.00</td><td>1.822</td></tr>\n",
              "\t<tr><td> 3</td><td> 3.40</td><td>1.057</td></tr>\n",
              "\t<tr><td> 4</td><td> 2.70</td><td>0.500</td></tr>\n",
              "\t<tr><td> 5</td><td>10.00</td><td>2.236</td></tr>\n",
              "\t<tr><td> 6</td><td> 9.70</td><td>2.386</td></tr>\n",
              "\t<tr><td> 7</td><td> 9.55</td><td>2.294</td></tr>\n",
              "\t<tr><td> 8</td><td> 3.05</td><td>0.558</td></tr>\n",
              "\t<tr><td> 9</td><td> 8.15</td><td>2.166</td></tr>\n",
              "\t<tr><td>10</td><td> 6.20</td><td>1.866</td></tr>\n",
              "\t<tr><td>11</td><td> 2.90</td><td>0.653</td></tr>\n",
              "\t<tr><td>12</td><td> 6.35</td><td>1.930</td></tr>\n",
              "\t<tr><td>13</td><td> 4.60</td><td>1.562</td></tr>\n",
              "\t<tr><td>14</td><td> 5.80</td><td>1.737</td></tr>\n",
              "\t<tr><td>15</td><td> 7.40</td><td>2.088</td></tr>\n",
              "\t<tr><td>16</td><td> 3.60</td><td>1.137</td></tr>\n",
              "\t<tr><td>17</td><td> 7.85</td><td>2.179</td></tr>\n",
              "\t<tr><td>18</td><td> 8.80</td><td>2.112</td></tr>\n",
              "\t<tr><td>19</td><td> 7.00</td><td>1.800</td></tr>\n",
              "\t<tr><td>20</td><td> 5.45</td><td>1.501</td></tr>\n",
              "\t<tr><td>21</td><td> 9.10</td><td>2.303</td></tr>\n",
              "\t<tr><td>22</td><td>10.20</td><td>2.310</td></tr>\n",
              "\t<tr><td>23</td><td> 4.10</td><td>1.194</td></tr>\n",
              "\t<tr><td>24</td><td> 3.95</td><td>1.144</td></tr>\n",
              "\t<tr><td>25</td><td> 2.45</td><td>0.123</td></tr>\n",
              "</tbody>\n",
              "</table>\n"
            ],
            "text/markdown": "\nA data.frame: 25 × 3\n\n| no &lt;int&gt; | speed &lt;dbl&gt; | dc &lt;dbl&gt; |\n|---|---|---|\n|  1 |  5.00 | 1.582 |\n|  2 |  6.00 | 1.822 |\n|  3 |  3.40 | 1.057 |\n|  4 |  2.70 | 0.500 |\n|  5 | 10.00 | 2.236 |\n|  6 |  9.70 | 2.386 |\n|  7 |  9.55 | 2.294 |\n|  8 |  3.05 | 0.558 |\n|  9 |  8.15 | 2.166 |\n| 10 |  6.20 | 1.866 |\n| 11 |  2.90 | 0.653 |\n| 12 |  6.35 | 1.930 |\n| 13 |  4.60 | 1.562 |\n| 14 |  5.80 | 1.737 |\n| 15 |  7.40 | 2.088 |\n| 16 |  3.60 | 1.137 |\n| 17 |  7.85 | 2.179 |\n| 18 |  8.80 | 2.112 |\n| 19 |  7.00 | 1.800 |\n| 20 |  5.45 | 1.501 |\n| 21 |  9.10 | 2.303 |\n| 22 | 10.20 | 2.310 |\n| 23 |  4.10 | 1.194 |\n| 24 |  3.95 | 1.144 |\n| 25 |  2.45 | 0.123 |\n\n",
            "text/latex": "A data.frame: 25 × 3\n\\begin{tabular}{lll}\n no & speed & dc\\\\\n <int> & <dbl> & <dbl>\\\\\n\\hline\n\t  1 &  5.00 & 1.582\\\\\n\t  2 &  6.00 & 1.822\\\\\n\t  3 &  3.40 & 1.057\\\\\n\t  4 &  2.70 & 0.500\\\\\n\t  5 & 10.00 & 2.236\\\\\n\t  6 &  9.70 & 2.386\\\\\n\t  7 &  9.55 & 2.294\\\\\n\t  8 &  3.05 & 0.558\\\\\n\t  9 &  8.15 & 2.166\\\\\n\t 10 &  6.20 & 1.866\\\\\n\t 11 &  2.90 & 0.653\\\\\n\t 12 &  6.35 & 1.930\\\\\n\t 13 &  4.60 & 1.562\\\\\n\t 14 &  5.80 & 1.737\\\\\n\t 15 &  7.40 & 2.088\\\\\n\t 16 &  3.60 & 1.137\\\\\n\t 17 &  7.85 & 2.179\\\\\n\t 18 &  8.80 & 2.112\\\\\n\t 19 &  7.00 & 1.800\\\\\n\t 20 &  5.45 & 1.501\\\\\n\t 21 &  9.10 & 2.303\\\\\n\t 22 & 10.20 & 2.310\\\\\n\t 23 &  4.10 & 1.194\\\\\n\t 24 &  3.95 & 1.144\\\\\n\t 25 &  2.45 & 0.123\\\\\n\\end{tabular}\n",
            "text/plain": [
              "   no speed dc   \n",
              "1   1  5.00 1.582\n",
              "2   2  6.00 1.822\n",
              "3   3  3.40 1.057\n",
              "4   4  2.70 0.500\n",
              "5   5 10.00 2.236\n",
              "6   6  9.70 2.386\n",
              "7   7  9.55 2.294\n",
              "8   8  3.05 0.558\n",
              "9   9  8.15 2.166\n",
              "10 10  6.20 1.866\n",
              "11 11  2.90 0.653\n",
              "12 12  6.35 1.930\n",
              "13 13  4.60 1.562\n",
              "14 14  5.80 1.737\n",
              "15 15  7.40 2.088\n",
              "16 16  3.60 1.137\n",
              "17 17  7.85 2.179\n",
              "18 18  8.80 2.112\n",
              "19 19  7.00 1.800\n",
              "20 20  5.45 1.501\n",
              "21 21  9.10 2.303\n",
              "22 22 10.20 2.310\n",
              "23 23  4.10 1.194\n",
              "24 24  3.95 1.144\n",
              "25 25  2.45 0.123"
            ]
          },
          "metadata": {}
        }
      ]
    },
    {
      "cell_type": "code",
      "source": [
        "plot(data_wind_speed$speed, data_wind_speed$dc)"
      ],
      "metadata": {
        "id": "s14o1RJYWtQ7",
        "outputId": "5bb965d5-46b4-41b2-e9d8-b43338e1ec71",
        "colab": {
          "base_uri": "https://localhost:8080/",
          "height": 437
        }
      },
      "execution_count": 48,
      "outputs": [
        {
          "output_type": "display_data",
          "data": {
            "text/plain": [
              "plot without title"
            ],
            "image/png": "[encoded data removed]"
          },
          "metadata": {
            "image/png": {
              "width": 420,
              "height": 420
            }
          }
        }
      ]
    },
    {
      "cell_type": "code",
      "source": [
        "lm(data_wind_speed$dc~data_wind_speed$speed)"
      ],
      "metadata": {
        "id": "b-t3Pk_wYLV0",
        "outputId": "de984e1c-d33e-457d-bd0f-59d96b254c35",
        "colab": {
          "base_uri": "https://localhost:8080/",
          "height": 139
        }
      },
      "execution_count": 50,
      "outputs": [
        {
          "output_type": "display_data",
          "data": {
            "text/plain": [
              "\n",
              "Call:\n",
              "lm(formula = data_wind_speed$dc ~ data_wind_speed$speed)\n",
              "\n",
              "Coefficients:\n",
              "          (Intercept)  data_wind_speed$speed  \n",
              "               0.1309                 0.2411  \n"
            ]
          },
          "metadata": {}
        }
      ]
    },
    {
      "cell_type": "code",
      "source": [
        "plot(data_wind_speed$speed, data_wind_speed$dc)\n",
        "abline(0.1309,0.2411)"
      ],
      "metadata": {
        "id": "1iMyOgrkfEnq",
        "outputId": "002aabe0-9b0d-4ba8-83e2-9e5f71be3881",
        "colab": {
          "base_uri": "https://localhost:8080/",
          "height": 437
        }
      },
      "execution_count": 52,
      "outputs": [
        {
          "output_type": "display_data",
          "data": {
            "text/plain": [
              "plot without title"
            ],
            "image/png": "[encoded data removed]"
          },
          "metadata": {
            "image/png": {
              "width": 420,
              "height": 420
            }
          }
        }
      ]
    },
    {
      "cell_type": "code",
      "source": [
        ""
      ],
      "metadata": {
        "id": "rKcCBXjVfKlr"
      },
      "execution_count": null,
      "outputs": []
    }
  ]
}