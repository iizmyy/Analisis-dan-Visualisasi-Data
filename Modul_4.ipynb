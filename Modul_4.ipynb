{
  "nbformat": 4,
  "nbformat_minor": 0,
  "metadata": {
    "colab": {
      "name": "Modul 4.ipynb",
      "provenance": [],
      "authorship_tag": "ABX9TyPqZxsemI3+6D//GP0OqZ9s",
      "include_colab_link": true
    },
    "kernelspec": {
      "name": "ir",
      "display_name": "R"
    },
    "language_info": {
      "name": "R"
    }
  },
  "cells": [
    {
      "cell_type": "markdown",
      "metadata": {
        "id": "view-in-github",
        "colab_type": "text"
      },
      "source": [
        "<a href=\"https://colab.research.google.com/github/iizmyy/Analisis-dan-Visualisasi-Data/blob/main/Modul_4.ipynb\" target=\"_parent\"><img src=\"https://colab.research.google.com/assets/colab-badge.svg\" alt=\"Open In Colab\"/></a>"
      ]
    },
    {
      "cell_type": "code",
      "execution_count": 20,
      "metadata": {
        "colab": {
          "base_uri": "https://localhost:8080/",
          "height": 569
        },
        "id": "cyJB3A-_zU6p",
        "outputId": "5b495733-b50e-4fb1-d9b3-f6ff080c61b2"
      },
      "outputs": [
        {
          "output_type": "display_data",
          "data": {
            "text/html": [
              "<table class=\"dataframe\">\n",
              "<caption>A data.frame: 15 × 3</caption>\n",
              "<thead>\n",
              "\t<tr><th scope=col>Kota</th><th scope=col>Biaya($)</th><th scope=col>Penghasilan($)</th></tr>\n",
              "\t<tr><th scope=col>&lt;chr&gt;</th><th scope=col>&lt;dbl&gt;</th><th scope=col>&lt;dbl&gt;</th></tr>\n",
              "</thead>\n",
              "<tbody>\n",
              "\t<tr><td>Yogyakarta</td><td>16.5</td><td>13.7</td></tr>\n",
              "\t<tr><td>Semarang  </td><td>15.8</td><td>17.6</td></tr>\n",
              "\t<tr><td>Kudus     </td><td>19.1</td><td>15.1</td></tr>\n",
              "\t<tr><td>Pati      </td><td>15.2</td><td>14.7</td></tr>\n",
              "\t<tr><td>Jepara    </td><td>14.3</td><td>19.5</td></tr>\n",
              "\t<tr><td>Tangerang </td><td>13.0</td><td>15.8</td></tr>\n",
              "\t<tr><td>Bekasi    </td><td>12.7</td><td>21.6</td></tr>\n",
              "\t<tr><td>Bogor     </td><td>12.1</td><td>12.2</td></tr>\n",
              "\t<tr><td>Bandung   </td><td>14.0</td><td>18.6</td></tr>\n",
              "\t<tr><td>Cirebon   </td><td>13.9</td><td>35.2</td></tr>\n",
              "\t<tr><td>Malang    </td><td> 7.3</td><td>35.9</td></tr>\n",
              "\t<tr><td>Surabaya  </td><td>11.3</td><td>22.1</td></tr>\n",
              "\t<tr><td>Sidoarjo  </td><td> 8.9</td><td>23.2</td></tr>\n",
              "\t<tr><td>Banyuwangi</td><td>10.9</td><td>31.2</td></tr>\n",
              "\t<tr><td>Ngawi     </td><td> 9.6</td><td>38.9</td></tr>\n",
              "</tbody>\n",
              "</table>\n"
            ],
            "text/markdown": "\nA data.frame: 15 × 3\n\n| Kota &lt;chr&gt; | Biaya($) &lt;dbl&gt; | Penghasilan($) &lt;dbl&gt; |\n|---|---|---|\n| Yogyakarta | 16.5 | 13.7 |\n| Semarang   | 15.8 | 17.6 |\n| Kudus      | 19.1 | 15.1 |\n| Pati       | 15.2 | 14.7 |\n| Jepara     | 14.3 | 19.5 |\n| Tangerang  | 13.0 | 15.8 |\n| Bekasi     | 12.7 | 21.6 |\n| Bogor      | 12.1 | 12.2 |\n| Bandung    | 14.0 | 18.6 |\n| Cirebon    | 13.9 | 35.2 |\n| Malang     |  7.3 | 35.9 |\n| Surabaya   | 11.3 | 22.1 |\n| Sidoarjo   |  8.9 | 23.2 |\n| Banyuwangi | 10.9 | 31.2 |\n| Ngawi      |  9.6 | 38.9 |\n\n",
            "text/latex": "A data.frame: 15 × 3\n\\begin{tabular}{lll}\n Kota & Biaya(\\$) & Penghasilan(\\$)\\\\\n <chr> & <dbl> & <dbl>\\\\\n\\hline\n\t Yogyakarta & 16.5 & 13.7\\\\\n\t Semarang   & 15.8 & 17.6\\\\\n\t Kudus      & 19.1 & 15.1\\\\\n\t Pati       & 15.2 & 14.7\\\\\n\t Jepara     & 14.3 & 19.5\\\\\n\t Tangerang  & 13.0 & 15.8\\\\\n\t Bekasi     & 12.7 & 21.6\\\\\n\t Bogor      & 12.1 & 12.2\\\\\n\t Bandung    & 14.0 & 18.6\\\\\n\t Cirebon    & 13.9 & 35.2\\\\\n\t Malang     &  7.3 & 35.9\\\\\n\t Surabaya   & 11.3 & 22.1\\\\\n\t Sidoarjo   &  8.9 & 23.2\\\\\n\t Banyuwangi & 10.9 & 31.2\\\\\n\t Ngawi      &  9.6 & 38.9\\\\\n\\end{tabular}\n",
            "text/plain": [
              "   Kota       Biaya($) Penghasilan($)\n",
              "1  Yogyakarta 16.5     13.7          \n",
              "2  Semarang   15.8     17.6          \n",
              "3  Kudus      19.1     15.1          \n",
              "4  Pati       15.2     14.7          \n",
              "5  Jepara     14.3     19.5          \n",
              "6  Tangerang  13.0     15.8          \n",
              "7  Bekasi     12.7     21.6          \n",
              "8  Bogor      12.1     12.2          \n",
              "9  Bandung    14.0     18.6          \n",
              "10 Cirebon    13.9     35.2          \n",
              "11 Malang      7.3     35.9          \n",
              "12 Surabaya   11.3     22.1          \n",
              "13 Sidoarjo    8.9     23.2          \n",
              "14 Banyuwangi 10.9     31.2          \n",
              "15 Ngawi       9.6     38.9          "
            ]
          },
          "metadata": {}
        }
      ],
      "source": [
        "kota <- c(\"Yogyakarta\",\"Semarang\",\"Kudus\",\"Pati\",\"Jepara\",\"Tangerang\",\"Bekasi\",\n",
        "\"Bogor\",\"Bandung\",\"Cirebon\",\"Malang\",\"Surabaya\",\"Sidoarjo\",\"Banyuwangi\",\"Ngawi\")\n",
        "x <- c(16.5, 15.8, 19.1, 15.2, 14.3, 13.0, 12.7, 12.1, 14.0,\n",
        "13.9, 7.3, 11.3, 8.9, 10.9, 9.6)\n",
        "y <- c(13.7, 17.6, 15.1, 14.7, 19.5, 15.8, 21.6, 12.2,\n",
        "18.6, 35.2, 35.9, 22.1, 23.2, 31.2, 38.9)\n",
        "data <- data.frame(kota,x,y)\n",
        "colnames(data) <- c(\"Kota\",\"Biaya($)\",\"Penghasilan($)\")\n",
        "data"
      ]
    },
    {
      "cell_type": "code",
      "source": [
        "plot(x,y)\n",
        "abline(54.87204, -2.596774)"
      ],
      "metadata": {
        "colab": {
          "base_uri": "https://localhost:8080/",
          "height": 437
        },
        "id": "gJh6_k3b2zwr",
        "outputId": "388eb1e4-70cb-4aae-8f8c-249c654b7fe1"
      },
      "execution_count": 10,
      "outputs": [
        {
          "output_type": "display_data",
          "data": {
            "text/plain": [
              "plot without title"
            ],
            "image/png": "[encoded data removed]"
          },
          "metadata": {
            "image/png": {
              "width": 420,
              "height": 420
            }
          }
        }
      ]
    },
    {
      "cell_type": "code",
      "source": [
        "lm(y~x)\n",
        "plot(x,y)\n",
        "abline(46.078,-1.829)"
      ],
      "metadata": {
        "colab": {
          "base_uri": "https://localhost:8080/",
          "height": 562
        },
        "id": "Jnya6M-Oz7hK",
        "outputId": "f64013fc-afe8-4f62-a8ab-0dfe8ef4a99c"
      },
      "execution_count": 8,
      "outputs": [
        {
          "output_type": "display_data",
          "data": {
            "text/plain": [
              "\n",
              "Call:\n",
              "lm(formula = y ~ x)\n",
              "\n",
              "Coefficients:\n",
              "(Intercept)            x  \n",
              "     46.078       -1.829  \n"
            ]
          },
          "metadata": {}
        },
        {
          "output_type": "display_data",
          "data": {
            "text/plain": [
              "plot without title"
            ],
            "image/png": "[encoded data removed]"
          },
          "metadata": {
            "image/png": {
              "width": 420,
              "height": 420
            }
          }
        }
      ]
    },
    {
      "cell_type": "code",
      "source": [
        ""
      ],
      "metadata": {
        "id": "grU9n-2G0nkg"
      },
      "execution_count": null,
      "outputs": []
    }
  ]
}